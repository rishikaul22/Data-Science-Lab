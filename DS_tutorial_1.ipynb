{
  "nbformat": 4,
  "nbformat_minor": 0,
  "metadata": {
    "colab": {
      "name": "DS-tutorial-1.ipynb",
      "provenance": [],
      "authorship_tag": "ABX9TyPpxTlZKJbPt411X3dYvj3g",
      "include_colab_link": true
    },
    "kernelspec": {
      "name": "python3",
      "display_name": "Python 3"
    },
    "language_info": {
      "name": "python"
    }
  },
  "cells": [
    {
      "cell_type": "markdown",
      "metadata": {
        "id": "view-in-github",
        "colab_type": "text"
      },
      "source": [
        "<a href=\"https://colab.research.google.com/github/rishikaul22/Data-Science-Lab/blob/main/DS_tutorial_1.ipynb\" target=\"_parent\"><img src=\"https://colab.research.google.com/assets/colab-badge.svg\" alt=\"Open In Colab\"/></a>"
      ]
    },
    {
      "cell_type": "markdown",
      "source": [
        "# Tutorial 1: EDA of California Wildfire-Dataset\n",
        "\n",
        "Rishi Kaul\n",
        "\n",
        "2018130019"
      ],
      "metadata": {
        "id": "IHcdk3pOQQiQ"
      }
    },
    {
      "cell_type": "code",
      "execution_count": null,
      "metadata": {
        "id": "c7LX-pavAzS2"
      },
      "outputs": [],
      "source": [
        "! pip install -q kaggle"
      ]
    },
    {
      "cell_type": "code",
      "source": [
        "from google.colab import files\n",
        "\n",
        "files.upload()"
      ],
      "metadata": {
        "colab": {
          "resources": {
            "http://localhost:8080/nbextensions/google.colab/files.js": {
              "data": "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",
              "ok": true,
              "headers": [
                [
                  "content-type",
                  "application/javascript"
                ]
              ],
              "status": 200,
              "status_text": ""
            }
          },
          "base_uri": "https://localhost:8080/",
          "height": 90
        },
        "id": "pWcyJawIBEm1",
        "outputId": "8079ead0-2112-492a-caf1-1edb170c6fa4"
      },
      "execution_count": null,
      "outputs": [
        {
          "output_type": "display_data",
          "data": {
            "text/html": [
              "\n",
              "     <input type=\"file\" id=\"files-ea1e5b7d-da47-4f2e-a5ca-f8fd852b63fe\" name=\"files[]\" multiple disabled\n",
              "        style=\"border:none\" />\n",
              "     <output id=\"result-ea1e5b7d-da47-4f2e-a5ca-f8fd852b63fe\">\n",
              "      Upload widget is only available when the cell has been executed in the\n",
              "      current browser session. Please rerun this cell to enable.\n",
              "      </output>\n",
              "      <script src=\"/nbextensions/google.colab/files.js\"></script> "
            ],
            "text/plain": [
              "<IPython.core.display.HTML object>"
            ]
          },
          "metadata": {}
        },
        {
          "output_type": "stream",
          "name": "stdout",
          "text": [
            "Saving kaggle.json to kaggle.json\n"
          ]
        },
        {
          "output_type": "execute_result",
          "data": {
            "text/plain": [
              "{'kaggle.json': b'{\"username\":\"rishikaul22\",\"key\":\"f92085a8b75a099967c714d2d15035b1\"}'}"
            ]
          },
          "metadata": {},
          "execution_count": 2
        }
      ]
    },
    {
      "cell_type": "code",
      "source": [
        "!rm -r ~/.kaggle\n",
        "!mkdir ~/.kaggle\n",
        "!mv ./kaggle.json ~/.kaggle/\n",
        "!chmod 600 ~/.kaggle/kaggle.json\n",
        "!kaggle datasets list"
      ],
      "metadata": {
        "colab": {
          "base_uri": "https://localhost:8080/"
        },
        "id": "z6W_8D1HBaRB",
        "outputId": "6ec6c842-a4a8-4b66-8479-c6ab436171c8"
      },
      "execution_count": null,
      "outputs": [
        {
          "output_type": "stream",
          "name": "stdout",
          "text": [
            "rm: cannot remove '/root/.kaggle': No such file or directory\n",
            "Warning: Looks like you're using an outdated API Version, please consider updating (server 1.5.12 / client 1.5.4)\n",
            "ref                                                         title                                               size  lastUpdated          downloadCount  \n",
            "----------------------------------------------------------  -------------------------------------------------  -----  -------------------  -------------  \n",
            "nkitgupta/jigsaw-regression-based-data                      Jigsaw Regression Based Data                         3GB  2022-01-10 06:29:59            627  \n",
            "yamqwe/omicron-covid19-variant-daily-cases                  Omicron daily cases by country (COVID-19 variant)  432KB  2022-01-30 09:11:54          11386  \n",
            "prasertk/netflix-subscription-price-in-different-countries  Netflix subscription fee in different countries      3KB  2022-01-15 07:06:09           1513  \n",
            "yasserh/wine-quality-dataset                                Wine Quality Dataset                                21KB  2022-01-15 19:15:11           1385  \n",
            "iamsouravbanerjee/analytics-industry-salaries-2022-india    Data Professionals Salary - 2022                    56KB  2022-01-30 08:28:05           1713  \n",
            "yamqwe/netflix-showse                                       Netflix Shows                                       11KB  2022-01-23 00:03:01            716  \n",
            "sanjeetsinghnaik/top-1000-highest-grossing-movies           Top 1000 Highest Grossing Movies                   106KB  2022-01-15 16:26:14            903  \n",
            "yasserh/amazon-product-reviews-dataset                      Amazon Product Reviews Dataset                     708KB  2022-01-23 17:21:16            454  \n",
            "vishalmane10/anime-dataset-2022                             Anime DataSet 2022                                   5MB  2022-01-16 13:56:16            747  \n",
            "carlmcbrideellis/gdp-20152019-finland-norway-and-sweden     GDP 2015-2019: Finland, Norway, and Sweden          365B  2022-01-05 07:48:49            527  \n",
            "sandipdevre/petrol-prices-in-india                          Petrol Prices In India                               3KB  2022-01-27 09:07:35            251  \n",
            "dansbecker/melbourne-housing-snapshot                       Melbourne Housing Snapshot                         451KB  2018-06-05 12:52:24          79749  \n",
            "yamqwe/men-s-shoe-pricese                                   🩰 Men's Shoe Prices                                  6MB  2022-01-24 15:19:48            319  \n",
            "nenamalikah/nft-collections-by-sales-volume                 Top NFT Collections                                 47KB  2022-01-17 00:47:41            534  \n",
            "meetnagadia/netflix-stock-price-data-set-20022022           Netflix Stock Price Data set 2002-2022              94KB  2022-01-12 05:28:11            448  \n",
            "datasnaek/youtube-new                                       Trending YouTube Video Statistics                  201MB  2019-06-03 00:56:47         164671  \n",
            "zynicide/wine-reviews                                       Wine Reviews                                        51MB  2017-11-27 17:08:04         153422  \n",
            "fedesoriano/stellar-classification-dataset-sdss17           Stellar Classification Dataset - SDSS17              7MB  2022-01-15 17:11:30            441  \n",
            "rtatman/188-million-us-wildfires                            1.88 Million US Wildfires                          168MB  2020-05-12 21:03:49          18734  \n",
            "datasnaek/chess                                             Chess Game Dataset (Lichess)                         3MB  2017-09-04 03:09:09          27329  \n"
          ]
        }
      ]
    },
    {
      "cell_type": "code",
      "source": [
        "! kaggle datasets download -d ananthu017/california-wildfire-incidents-20132020"
      ],
      "metadata": {
        "colab": {
          "base_uri": "https://localhost:8080/"
        },
        "id": "IEK5PTEfCEoe",
        "outputId": "dd06743f-9d3e-4620-f7fe-8067c991eb40"
      },
      "execution_count": null,
      "outputs": [
        {
          "output_type": "stream",
          "name": "stdout",
          "text": [
            "Downloading california-wildfire-incidents-20132020.zip to /content\n",
            "\r  0% 0.00/252k [00:00<?, ?B/s]\n",
            "\r100% 252k/252k [00:00<00:00, 33.2MB/s]\n"
          ]
        }
      ]
    },
    {
      "cell_type": "code",
      "source": [
        "! unzip /content/california-wildfire-incidents-20132020.zip"
      ],
      "metadata": {
        "colab": {
          "base_uri": "https://localhost:8080/"
        },
        "id": "zcIb024-CJJl",
        "outputId": "4d26fb47-7da6-4ce1-96c8-efa4ab7c9763"
      },
      "execution_count": null,
      "outputs": [
        {
          "output_type": "stream",
          "name": "stdout",
          "text": [
            "Archive:  /content/california-wildfire-incidents-20132020.zip\n",
            "  inflating: California_Fire_Incidents.csv  \n"
          ]
        }
      ]
    },
    {
      "cell_type": "code",
      "source": [
        "import pandas as pd\n",
        "import matplotlib.pyplot as plt"
      ],
      "metadata": {
        "id": "UPoL142fCURq"
      },
      "execution_count": null,
      "outputs": []
    },
    {
      "cell_type": "code",
      "source": [
        "filepath = '/content/California_Fire_Incidents.csv'\n",
        "wildfire_df = pd.read_csv(filepath)"
      ],
      "metadata": {
        "id": "_ANE0gs0CnWd"
      },
      "execution_count": null,
      "outputs": []
    },
    {
      "cell_type": "code",
      "source": [
        "wildfire_df.head()"
      ],
      "metadata": {
        "colab": {
          "base_uri": "https://localhost:8080/",
          "height": 617
        },
        "id": "Xc3Sb5gWC7Eb",
        "outputId": "55ca6e51-1182-499b-e943-10350019cb48"
      },
      "execution_count": null,
      "outputs": [
        {
          "output_type": "execute_result",
          "data": {
            "text/html": [
              "\n",
              "  <div id=\"df-de868459-c3ff-47bc-a25e-e4c4631d1273\">\n",
              "    <div class=\"colab-df-container\">\n",
              "      <div>\n",
              "<style scoped>\n",
              "    .dataframe tbody tr th:only-of-type {\n",
              "        vertical-align: middle;\n",
              "    }\n",
              "\n",
              "    .dataframe tbody tr th {\n",
              "        vertical-align: top;\n",
              "    }\n",
              "\n",
              "    .dataframe thead th {\n",
              "        text-align: right;\n",
              "    }\n",
              "</style>\n",
              "<table border=\"1\" class=\"dataframe\">\n",
              "  <thead>\n",
              "    <tr style=\"text-align: right;\">\n",
              "      <th></th>\n",
              "      <th>AcresBurned</th>\n",
              "      <th>Active</th>\n",
              "      <th>AdminUnit</th>\n",
              "      <th>AirTankers</th>\n",
              "      <th>ArchiveYear</th>\n",
              "      <th>CalFireIncident</th>\n",
              "      <th>CanonicalUrl</th>\n",
              "      <th>ConditionStatement</th>\n",
              "      <th>ControlStatement</th>\n",
              "      <th>Counties</th>\n",
              "      <th>CountyIds</th>\n",
              "      <th>CrewsInvolved</th>\n",
              "      <th>Dozers</th>\n",
              "      <th>Engines</th>\n",
              "      <th>Extinguished</th>\n",
              "      <th>Fatalities</th>\n",
              "      <th>Featured</th>\n",
              "      <th>Final</th>\n",
              "      <th>FuelType</th>\n",
              "      <th>Helicopters</th>\n",
              "      <th>Injuries</th>\n",
              "      <th>Latitude</th>\n",
              "      <th>Location</th>\n",
              "      <th>Longitude</th>\n",
              "      <th>MajorIncident</th>\n",
              "      <th>Name</th>\n",
              "      <th>PercentContained</th>\n",
              "      <th>PersonnelInvolved</th>\n",
              "      <th>Public</th>\n",
              "      <th>SearchDescription</th>\n",
              "      <th>SearchKeywords</th>\n",
              "      <th>Started</th>\n",
              "      <th>Status</th>\n",
              "      <th>StructuresDamaged</th>\n",
              "      <th>StructuresDestroyed</th>\n",
              "      <th>StructuresEvacuated</th>\n",
              "      <th>StructuresThreatened</th>\n",
              "      <th>UniqueId</th>\n",
              "      <th>Updated</th>\n",
              "      <th>WaterTenders</th>\n",
              "    </tr>\n",
              "  </thead>\n",
              "  <tbody>\n",
              "    <tr>\n",
              "      <th>0</th>\n",
              "      <td>257314.0</td>\n",
              "      <td>False</td>\n",
              "      <td>Stanislaus National Forest/Yosemite National Park</td>\n",
              "      <td>NaN</td>\n",
              "      <td>2013</td>\n",
              "      <td>True</td>\n",
              "      <td>/incidents/2013/8/17/rim-fire/</td>\n",
              "      <td>NaN</td>\n",
              "      <td>NaN</td>\n",
              "      <td>Tuolumne</td>\n",
              "      <td>55</td>\n",
              "      <td>NaN</td>\n",
              "      <td>NaN</td>\n",
              "      <td>NaN</td>\n",
              "      <td>2013-09-06T18:30:00Z</td>\n",
              "      <td>NaN</td>\n",
              "      <td>False</td>\n",
              "      <td>True</td>\n",
              "      <td>NaN</td>\n",
              "      <td>NaN</td>\n",
              "      <td>NaN</td>\n",
              "      <td>37.857000</td>\n",
              "      <td>3 miles east of Groveland along Hwy 120</td>\n",
              "      <td>-120.086000</td>\n",
              "      <td>False</td>\n",
              "      <td>Rim Fire</td>\n",
              "      <td>100.0</td>\n",
              "      <td>NaN</td>\n",
              "      <td>True</td>\n",
              "      <td>The Rim Fire was east of Groveland along Highw...</td>\n",
              "      <td>Rim Fire, Stanislaus National Forest, Yosemite...</td>\n",
              "      <td>2013-08-17T15:25:00Z</td>\n",
              "      <td>Finalized</td>\n",
              "      <td>NaN</td>\n",
              "      <td>NaN</td>\n",
              "      <td>NaN</td>\n",
              "      <td>NaN</td>\n",
              "      <td>5fb18d4d-213f-4d83-a179-daaf11939e78</td>\n",
              "      <td>2013-09-06T18:30:00Z</td>\n",
              "      <td>NaN</td>\n",
              "    </tr>\n",
              "    <tr>\n",
              "      <th>1</th>\n",
              "      <td>30274.0</td>\n",
              "      <td>False</td>\n",
              "      <td>USFS Angeles National Forest/Los Angeles Count...</td>\n",
              "      <td>NaN</td>\n",
              "      <td>2013</td>\n",
              "      <td>True</td>\n",
              "      <td>/incidents/2013/5/30/powerhouse-fire/</td>\n",
              "      <td>NaN</td>\n",
              "      <td>NaN</td>\n",
              "      <td>Los Angeles</td>\n",
              "      <td>19</td>\n",
              "      <td>NaN</td>\n",
              "      <td>NaN</td>\n",
              "      <td>NaN</td>\n",
              "      <td>2013-06-08T18:30:00Z</td>\n",
              "      <td>NaN</td>\n",
              "      <td>False</td>\n",
              "      <td>True</td>\n",
              "      <td>NaN</td>\n",
              "      <td>NaN</td>\n",
              "      <td>NaN</td>\n",
              "      <td>34.585595</td>\n",
              "      <td>Angeles National Forest</td>\n",
              "      <td>-118.423176</td>\n",
              "      <td>False</td>\n",
              "      <td>Powerhouse Fire</td>\n",
              "      <td>100.0</td>\n",
              "      <td>NaN</td>\n",
              "      <td>True</td>\n",
              "      <td>The Powerhouse Fire burned in May and June 201...</td>\n",
              "      <td>Powerhouse Fire, May 2013, June 2013, Angeles ...</td>\n",
              "      <td>2013-05-30T15:28:00Z</td>\n",
              "      <td>Finalized</td>\n",
              "      <td>NaN</td>\n",
              "      <td>NaN</td>\n",
              "      <td>NaN</td>\n",
              "      <td>NaN</td>\n",
              "      <td>bf37805e-1cc2-4208-9972-753e47874c87</td>\n",
              "      <td>2013-06-08T18:30:00Z</td>\n",
              "      <td>NaN</td>\n",
              "    </tr>\n",
              "    <tr>\n",
              "      <th>2</th>\n",
              "      <td>27531.0</td>\n",
              "      <td>False</td>\n",
              "      <td>CAL FIRE Riverside Unit / San Bernardino Natio...</td>\n",
              "      <td>NaN</td>\n",
              "      <td>2013</td>\n",
              "      <td>True</td>\n",
              "      <td>/incidents/2013/7/15/mountain-fire/</td>\n",
              "      <td>NaN</td>\n",
              "      <td>NaN</td>\n",
              "      <td>Riverside</td>\n",
              "      <td>33</td>\n",
              "      <td>NaN</td>\n",
              "      <td>NaN</td>\n",
              "      <td>NaN</td>\n",
              "      <td>2013-07-30T18:00:00Z</td>\n",
              "      <td>NaN</td>\n",
              "      <td>False</td>\n",
              "      <td>True</td>\n",
              "      <td>NaN</td>\n",
              "      <td>NaN</td>\n",
              "      <td>NaN</td>\n",
              "      <td>33.709500</td>\n",
              "      <td>Hwy 243 &amp; Hwy 74 near Mountain Center</td>\n",
              "      <td>-116.728850</td>\n",
              "      <td>False</td>\n",
              "      <td>Mountain Fire</td>\n",
              "      <td>100.0</td>\n",
              "      <td>NaN</td>\n",
              "      <td>True</td>\n",
              "      <td>The Mountain Fire burned in July 2013 off High...</td>\n",
              "      <td>Mountain Fire, July 2013, Highway 243, Highway...</td>\n",
              "      <td>2013-07-15T13:43:00Z</td>\n",
              "      <td>Finalized</td>\n",
              "      <td>NaN</td>\n",
              "      <td>NaN</td>\n",
              "      <td>NaN</td>\n",
              "      <td>NaN</td>\n",
              "      <td>a3149fec-4d48-427c-8b2c-59e8b79d59db</td>\n",
              "      <td>2013-07-30T18:00:00Z</td>\n",
              "      <td>NaN</td>\n",
              "    </tr>\n",
              "    <tr>\n",
              "      <th>3</th>\n",
              "      <td>27440.0</td>\n",
              "      <td>False</td>\n",
              "      <td>Tahoe National Forest</td>\n",
              "      <td>NaN</td>\n",
              "      <td>2013</td>\n",
              "      <td>False</td>\n",
              "      <td>/incidents/2013/8/10/american-fire/</td>\n",
              "      <td>NaN</td>\n",
              "      <td>NaN</td>\n",
              "      <td>Placer</td>\n",
              "      <td>31</td>\n",
              "      <td>NaN</td>\n",
              "      <td>NaN</td>\n",
              "      <td>NaN</td>\n",
              "      <td>2013-08-30T08:00:00Z</td>\n",
              "      <td>NaN</td>\n",
              "      <td>False</td>\n",
              "      <td>True</td>\n",
              "      <td>NaN</td>\n",
              "      <td>NaN</td>\n",
              "      <td>NaN</td>\n",
              "      <td>39.120000</td>\n",
              "      <td>Deadwood Ridge, northeast of Foresthill</td>\n",
              "      <td>-120.650000</td>\n",
              "      <td>False</td>\n",
              "      <td>American Fire</td>\n",
              "      <td>100.0</td>\n",
              "      <td>NaN</td>\n",
              "      <td>True</td>\n",
              "      <td>The American Fire burned in August 2013 off De...</td>\n",
              "      <td>American Fire, August 2013, Deadwood Ridge, Fo...</td>\n",
              "      <td>2013-08-10T16:30:00Z</td>\n",
              "      <td>Finalized</td>\n",
              "      <td>NaN</td>\n",
              "      <td>NaN</td>\n",
              "      <td>NaN</td>\n",
              "      <td>NaN</td>\n",
              "      <td>8213f5c7-34fa-403b-a4bc-da2ace6e6625</td>\n",
              "      <td>2013-08-30T08:00:00Z</td>\n",
              "      <td>NaN</td>\n",
              "    </tr>\n",
              "    <tr>\n",
              "      <th>4</th>\n",
              "      <td>24251.0</td>\n",
              "      <td>False</td>\n",
              "      <td>Ventura County Fire/CAL FIRE</td>\n",
              "      <td>NaN</td>\n",
              "      <td>2013</td>\n",
              "      <td>True</td>\n",
              "      <td>/incidents/2013/5/2/springs-fire/</td>\n",
              "      <td>Acreage has been reduced based upon more accur...</td>\n",
              "      <td>NaN</td>\n",
              "      <td>Ventura</td>\n",
              "      <td>56</td>\n",
              "      <td>47.0</td>\n",
              "      <td>8.0</td>\n",
              "      <td>117.0</td>\n",
              "      <td>2013-05-11T06:30:00Z</td>\n",
              "      <td>NaN</td>\n",
              "      <td>False</td>\n",
              "      <td>True</td>\n",
              "      <td>NaN</td>\n",
              "      <td>11.0</td>\n",
              "      <td>10.0</td>\n",
              "      <td>0.000000</td>\n",
              "      <td>Southbound Highway 101 at Camarillo Springs Ro...</td>\n",
              "      <td>0.000000</td>\n",
              "      <td>True</td>\n",
              "      <td>Springs Fire</td>\n",
              "      <td>100.0</td>\n",
              "      <td>2167.0</td>\n",
              "      <td>True</td>\n",
              "      <td>The Springs Fire burned in May 2013, Southboun...</td>\n",
              "      <td>Springs Fire, May 2013, Highway 101, Camarillo...</td>\n",
              "      <td>2013-05-02T07:01:00Z</td>\n",
              "      <td>Finalized</td>\n",
              "      <td>6.0</td>\n",
              "      <td>10.0</td>\n",
              "      <td>NaN</td>\n",
              "      <td>NaN</td>\n",
              "      <td>46731fb8-3350-4920-bdf7-910ac0eb715c</td>\n",
              "      <td>2013-05-11T06:30:00Z</td>\n",
              "      <td>11.0</td>\n",
              "    </tr>\n",
              "  </tbody>\n",
              "</table>\n",
              "</div>\n",
              "      <button class=\"colab-df-convert\" onclick=\"convertToInteractive('df-de868459-c3ff-47bc-a25e-e4c4631d1273')\"\n",
              "              title=\"Convert this dataframe to an interactive table.\"\n",
              "              style=\"display:none;\">\n",
              "        \n",
              "  <svg xmlns=\"http://www.w3.org/2000/svg\" height=\"24px\"viewBox=\"0 0 24 24\"\n",
              "       width=\"24px\">\n",
              "    <path d=\"M0 0h24v24H0V0z\" fill=\"none\"/>\n",
              "    <path d=\"M18.56 5.44l.94 2.06.94-2.06 2.06-.94-2.06-.94-.94-2.06-.94 2.06-2.06.94zm-11 1L8.5 8.5l.94-2.06 2.06-.94-2.06-.94L8.5 2.5l-.94 2.06-2.06.94zm10 10l.94 2.06.94-2.06 2.06-.94-2.06-.94-.94-2.06-.94 2.06-2.06.94z\"/><path d=\"M17.41 7.96l-1.37-1.37c-.4-.4-.92-.59-1.43-.59-.52 0-1.04.2-1.43.59L10.3 9.45l-7.72 7.72c-.78.78-.78 2.05 0 2.83L4 21.41c.39.39.9.59 1.41.59.51 0 1.02-.2 1.41-.59l7.78-7.78 2.81-2.81c.8-.78.8-2.07 0-2.86zM5.41 20L4 18.59l7.72-7.72 1.47 1.35L5.41 20z\"/>\n",
              "  </svg>\n",
              "      </button>\n",
              "      \n",
              "  <style>\n",
              "    .colab-df-container {\n",
              "      display:flex;\n",
              "      flex-wrap:wrap;\n",
              "      gap: 12px;\n",
              "    }\n",
              "\n",
              "    .colab-df-convert {\n",
              "      background-color: #E8F0FE;\n",
              "      border: none;\n",
              "      border-radius: 50%;\n",
              "      cursor: pointer;\n",
              "      display: none;\n",
              "      fill: #1967D2;\n",
              "      height: 32px;\n",
              "      padding: 0 0 0 0;\n",
              "      width: 32px;\n",
              "    }\n",
              "\n",
              "    .colab-df-convert:hover {\n",
              "      background-color: #E2EBFA;\n",
              "      box-shadow: 0px 1px 2px rgba(60, 64, 67, 0.3), 0px 1px 3px 1px rgba(60, 64, 67, 0.15);\n",
              "      fill: #174EA6;\n",
              "    }\n",
              "\n",
              "    [theme=dark] .colab-df-convert {\n",
              "      background-color: #3B4455;\n",
              "      fill: #D2E3FC;\n",
              "    }\n",
              "\n",
              "    [theme=dark] .colab-df-convert:hover {\n",
              "      background-color: #434B5C;\n",
              "      box-shadow: 0px 1px 3px 1px rgba(0, 0, 0, 0.15);\n",
              "      filter: drop-shadow(0px 1px 2px rgba(0, 0, 0, 0.3));\n",
              "      fill: #FFFFFF;\n",
              "    }\n",
              "  </style>\n",
              "\n",
              "      <script>\n",
              "        const buttonEl =\n",
              "          document.querySelector('#df-de868459-c3ff-47bc-a25e-e4c4631d1273 button.colab-df-convert');\n",
              "        buttonEl.style.display =\n",
              "          google.colab.kernel.accessAllowed ? 'block' : 'none';\n",
              "\n",
              "        async function convertToInteractive(key) {\n",
              "          const element = document.querySelector('#df-de868459-c3ff-47bc-a25e-e4c4631d1273');\n",
              "          const dataTable =\n",
              "            await google.colab.kernel.invokeFunction('convertToInteractive',\n",
              "                                                     [key], {});\n",
              "          if (!dataTable) return;\n",
              "\n",
              "          const docLinkHtml = 'Like what you see? Visit the ' +\n",
              "            '<a target=\"_blank\" href=https://colab.research.google.com/notebooks/data_table.ipynb>data table notebook</a>'\n",
              "            + ' to learn more about interactive tables.';\n",
              "          element.innerHTML = '';\n",
              "          dataTable['output_type'] = 'display_data';\n",
              "          await google.colab.output.renderOutput(dataTable, element);\n",
              "          const docLink = document.createElement('div');\n",
              "          docLink.innerHTML = docLinkHtml;\n",
              "          element.appendChild(docLink);\n",
              "        }\n",
              "      </script>\n",
              "    </div>\n",
              "  </div>\n",
              "  "
            ],
            "text/plain": [
              "   AcresBurned  Active  ...               Updated  WaterTenders\n",
              "0     257314.0   False  ...  2013-09-06T18:30:00Z           NaN\n",
              "1      30274.0   False  ...  2013-06-08T18:30:00Z           NaN\n",
              "2      27531.0   False  ...  2013-07-30T18:00:00Z           NaN\n",
              "3      27440.0   False  ...  2013-08-30T08:00:00Z           NaN\n",
              "4      24251.0   False  ...  2013-05-11T06:30:00Z          11.0\n",
              "\n",
              "[5 rows x 40 columns]"
            ]
          },
          "metadata": {},
          "execution_count": 8
        }
      ]
    },
    {
      "cell_type": "code",
      "source": [
        "wildfire_df.info()"
      ],
      "metadata": {
        "colab": {
          "base_uri": "https://localhost:8080/"
        },
        "id": "zYm9EwYbDAWG",
        "outputId": "10ac58f7-135f-4750-ae44-b0cdf2e06993"
      },
      "execution_count": null,
      "outputs": [
        {
          "output_type": "stream",
          "name": "stdout",
          "text": [
            "<class 'pandas.core.frame.DataFrame'>\n",
            "RangeIndex: 1636 entries, 0 to 1635\n",
            "Data columns (total 40 columns):\n",
            " #   Column                Non-Null Count  Dtype  \n",
            "---  ------                --------------  -----  \n",
            " 0   AcresBurned           1633 non-null   float64\n",
            " 1   Active                1636 non-null   bool   \n",
            " 2   AdminUnit             1636 non-null   object \n",
            " 3   AirTankers            28 non-null     float64\n",
            " 4   ArchiveYear           1636 non-null   int64  \n",
            " 5   CalFireIncident       1636 non-null   bool   \n",
            " 6   CanonicalUrl          1636 non-null   object \n",
            " 7   ConditionStatement    284 non-null    object \n",
            " 8   ControlStatement      111 non-null    object \n",
            " 9   Counties              1636 non-null   object \n",
            " 10  CountyIds             1636 non-null   object \n",
            " 11  CrewsInvolved         171 non-null    float64\n",
            " 12  Dozers                123 non-null    float64\n",
            " 13  Engines               191 non-null    float64\n",
            " 14  Extinguished          1577 non-null   object \n",
            " 15  Fatalities            21 non-null     float64\n",
            " 16  Featured              1636 non-null   bool   \n",
            " 17  Final                 1636 non-null   bool   \n",
            " 18  FuelType              12 non-null     object \n",
            " 19  Helicopters           84 non-null     float64\n",
            " 20  Injuries              120 non-null    float64\n",
            " 21  Latitude              1636 non-null   float64\n",
            " 22  Location              1636 non-null   object \n",
            " 23  Longitude             1636 non-null   float64\n",
            " 24  MajorIncident         1636 non-null   bool   \n",
            " 25  Name                  1636 non-null   object \n",
            " 26  PercentContained      1633 non-null   float64\n",
            " 27  PersonnelInvolved     204 non-null    float64\n",
            " 28  Public                1636 non-null   bool   \n",
            " 29  SearchDescription     1619 non-null   object \n",
            " 30  SearchKeywords        1433 non-null   object \n",
            " 31  Started               1636 non-null   object \n",
            " 32  Status                1636 non-null   object \n",
            " 33  StructuresDamaged     67 non-null     float64\n",
            " 34  StructuresDestroyed   175 non-null    float64\n",
            " 35  StructuresEvacuated   0 non-null      float64\n",
            " 36  StructuresThreatened  30 non-null     float64\n",
            " 37  UniqueId              1636 non-null   object \n",
            " 38  Updated               1636 non-null   object \n",
            " 39  WaterTenders          146 non-null    float64\n",
            "dtypes: bool(6), float64(17), int64(1), object(16)\n",
            "memory usage: 444.3+ KB\n"
          ]
        }
      ]
    },
    {
      "cell_type": "code",
      "source": [
        "wildfire_df.isnull().sum()"
      ],
      "metadata": {
        "colab": {
          "base_uri": "https://localhost:8080/"
        },
        "id": "bAMRi872HUJ3",
        "outputId": "bd4cf22f-b60c-4ada-be6f-d51afc49eedd"
      },
      "execution_count": null,
      "outputs": [
        {
          "output_type": "execute_result",
          "data": {
            "text/plain": [
              "AcresBurned                3\n",
              "Active                     0\n",
              "AdminUnit                  0\n",
              "AirTankers              1608\n",
              "ArchiveYear                0\n",
              "CalFireIncident            0\n",
              "CanonicalUrl               0\n",
              "ConditionStatement      1352\n",
              "ControlStatement        1525\n",
              "Counties                   0\n",
              "CountyIds                  0\n",
              "CrewsInvolved           1465\n",
              "Dozers                  1513\n",
              "Engines                 1445\n",
              "Extinguished              59\n",
              "Fatalities              1615\n",
              "Featured                   0\n",
              "Final                      0\n",
              "FuelType                1624\n",
              "Helicopters             1552\n",
              "Injuries                1516\n",
              "Latitude                   0\n",
              "Location                   0\n",
              "Longitude                  0\n",
              "MajorIncident              0\n",
              "Name                       0\n",
              "PercentContained           3\n",
              "PersonnelInvolved       1432\n",
              "Public                     0\n",
              "SearchDescription         17\n",
              "SearchKeywords           203\n",
              "Started                    0\n",
              "Status                     0\n",
              "StructuresDamaged       1569\n",
              "StructuresDestroyed     1461\n",
              "StructuresEvacuated     1636\n",
              "StructuresThreatened    1606\n",
              "UniqueId                   0\n",
              "Updated                    0\n",
              "WaterTenders            1490\n",
              "dtype: int64"
            ]
          },
          "metadata": {},
          "execution_count": 10
        }
      ]
    },
    {
      "cell_type": "code",
      "source": [
        "wildfire_df['Started'] = pd.to_datetime(wildfire_df['Started'])\n",
        "wildfire_df['Updated'] = pd.to_datetime(wildfire_df['Updated'])\n",
        "wildfire_df['Extinguished'] = pd.to_datetime(wildfire_df['Extinguished'])"
      ],
      "metadata": {
        "id": "uY745kaSERzJ"
      },
      "execution_count": null,
      "outputs": []
    },
    {
      "cell_type": "code",
      "source": [
        "wildfire_df['YearStarted'] = wildfire_df['Started'].dt.year\n",
        "wildfire_df['MonthStarted'] = wildfire_df['Started'].dt.month"
      ],
      "metadata": {
        "id": "uOMVuPfoJtXk"
      },
      "execution_count": null,
      "outputs": []
    },
    {
      "cell_type": "code",
      "source": [
        "wildfire_df['Started'].dtype"
      ],
      "metadata": {
        "colab": {
          "base_uri": "https://localhost:8080/"
        },
        "id": "oSg_bkGhFvWS",
        "outputId": "af24225e-9e54-4f45-af28-72c5ffa0e17a"
      },
      "execution_count": null,
      "outputs": [
        {
          "output_type": "execute_result",
          "data": {
            "text/plain": [
              "datetime64[ns, UTC]"
            ]
          },
          "metadata": {},
          "execution_count": 13
        }
      ]
    },
    {
      "cell_type": "code",
      "source": [
        "default_na = {\n",
        "    'AcresBurned': 0, \n",
        "    'AirTankers': 0, \n",
        "    'ConditionStatement':'', \n",
        "    'ControlStatement':'', \n",
        "    'CrewsInvolved': 0, \n",
        "    'Dozers': 0, \n",
        "    'Engines': 0, \n",
        "    'Extinguished': 0, \n",
        "    'Fatalities': 0,\n",
        "    'FuelType':'', \n",
        "    'Helicopters': 0, \n",
        "    'Injuries': 0, \n",
        "    'PersonnelInvolved': 0,\n",
        "    'SearchDescription':'', \n",
        "    'StructuresDamaged': 0, \n",
        "    'StructuresDestroyed': 0,\n",
        "    'StructuresEvacuated': 0, \n",
        "    'StructuresThreatened': 0, \n",
        "    'WaterTenders': 0\n",
        "    }"
      ],
      "metadata": {
        "id": "TS53i_R_F-gj"
      },
      "execution_count": null,
      "outputs": []
    },
    {
      "cell_type": "code",
      "source": [
        "wildfire_df.fillna( default_na, inplace=True)"
      ],
      "metadata": {
        "id": "J7zD7QMOHlwQ"
      },
      "execution_count": null,
      "outputs": []
    },
    {
      "cell_type": "code",
      "source": [
        "wildfire_df.head()"
      ],
      "metadata": {
        "colab": {
          "base_uri": "https://localhost:8080/",
          "height": 617
        },
        "id": "Aa5cCBLrHue3",
        "outputId": "2af14f63-b971-4697-f844-eaa7f17d00e0"
      },
      "execution_count": null,
      "outputs": [
        {
          "output_type": "execute_result",
          "data": {
            "text/html": [
              "\n",
              "  <div id=\"df-51f67fa0-4f16-495c-a138-4a81dd326111\">\n",
              "    <div class=\"colab-df-container\">\n",
              "      <div>\n",
              "<style scoped>\n",
              "    .dataframe tbody tr th:only-of-type {\n",
              "        vertical-align: middle;\n",
              "    }\n",
              "\n",
              "    .dataframe tbody tr th {\n",
              "        vertical-align: top;\n",
              "    }\n",
              "\n",
              "    .dataframe thead th {\n",
              "        text-align: right;\n",
              "    }\n",
              "</style>\n",
              "<table border=\"1\" class=\"dataframe\">\n",
              "  <thead>\n",
              "    <tr style=\"text-align: right;\">\n",
              "      <th></th>\n",
              "      <th>AcresBurned</th>\n",
              "      <th>AdminUnit</th>\n",
              "      <th>AirTankers</th>\n",
              "      <th>ArchiveYear</th>\n",
              "      <th>CalFireIncident</th>\n",
              "      <th>CanonicalUrl</th>\n",
              "      <th>ConditionStatement</th>\n",
              "      <th>ControlStatement</th>\n",
              "      <th>Counties</th>\n",
              "      <th>CountyIds</th>\n",
              "      <th>CrewsInvolved</th>\n",
              "      <th>Dozers</th>\n",
              "      <th>Engines</th>\n",
              "      <th>Extinguished</th>\n",
              "      <th>Fatalities</th>\n",
              "      <th>FuelType</th>\n",
              "      <th>Helicopters</th>\n",
              "      <th>Injuries</th>\n",
              "      <th>Latitude</th>\n",
              "      <th>Location</th>\n",
              "      <th>Longitude</th>\n",
              "      <th>MajorIncident</th>\n",
              "      <th>Name</th>\n",
              "      <th>PersonnelInvolved</th>\n",
              "      <th>SearchDescription</th>\n",
              "      <th>Started</th>\n",
              "      <th>StructuresDamaged</th>\n",
              "      <th>StructuresDestroyed</th>\n",
              "      <th>StructuresEvacuated</th>\n",
              "      <th>StructuresThreatened</th>\n",
              "      <th>UniqueId</th>\n",
              "      <th>Updated</th>\n",
              "      <th>WaterTenders</th>\n",
              "    </tr>\n",
              "  </thead>\n",
              "  <tbody>\n",
              "    <tr>\n",
              "      <th>0</th>\n",
              "      <td>257314.0</td>\n",
              "      <td>Stanislaus National Forest/Yosemite National Park</td>\n",
              "      <td>0.0</td>\n",
              "      <td>2013</td>\n",
              "      <td>True</td>\n",
              "      <td>/incidents/2013/8/17/rim-fire/</td>\n",
              "      <td></td>\n",
              "      <td></td>\n",
              "      <td>Tuolumne</td>\n",
              "      <td>55</td>\n",
              "      <td>0.0</td>\n",
              "      <td>0.0</td>\n",
              "      <td>0.0</td>\n",
              "      <td>2013-09-06 18:30:00+00:00</td>\n",
              "      <td>0.0</td>\n",
              "      <td></td>\n",
              "      <td>0.0</td>\n",
              "      <td>0.0</td>\n",
              "      <td>37.857000</td>\n",
              "      <td>3 miles east of Groveland along Hwy 120</td>\n",
              "      <td>-120.086000</td>\n",
              "      <td>False</td>\n",
              "      <td>Rim Fire</td>\n",
              "      <td>0.0</td>\n",
              "      <td>The Rim Fire was east of Groveland along Highw...</td>\n",
              "      <td>2013-08-17 15:25:00+00:00</td>\n",
              "      <td>0.0</td>\n",
              "      <td>0.0</td>\n",
              "      <td>0.0</td>\n",
              "      <td>0.0</td>\n",
              "      <td>5fb18d4d-213f-4d83-a179-daaf11939e78</td>\n",
              "      <td>2013-09-06 18:30:00+00:00</td>\n",
              "      <td>0.0</td>\n",
              "    </tr>\n",
              "    <tr>\n",
              "      <th>1</th>\n",
              "      <td>30274.0</td>\n",
              "      <td>USFS Angeles National Forest/Los Angeles Count...</td>\n",
              "      <td>0.0</td>\n",
              "      <td>2013</td>\n",
              "      <td>True</td>\n",
              "      <td>/incidents/2013/5/30/powerhouse-fire/</td>\n",
              "      <td></td>\n",
              "      <td></td>\n",
              "      <td>Los Angeles</td>\n",
              "      <td>19</td>\n",
              "      <td>0.0</td>\n",
              "      <td>0.0</td>\n",
              "      <td>0.0</td>\n",
              "      <td>2013-06-08 18:30:00+00:00</td>\n",
              "      <td>0.0</td>\n",
              "      <td></td>\n",
              "      <td>0.0</td>\n",
              "      <td>0.0</td>\n",
              "      <td>34.585595</td>\n",
              "      <td>Angeles National Forest</td>\n",
              "      <td>-118.423176</td>\n",
              "      <td>False</td>\n",
              "      <td>Powerhouse Fire</td>\n",
              "      <td>0.0</td>\n",
              "      <td>The Powerhouse Fire burned in May and June 201...</td>\n",
              "      <td>2013-05-30 15:28:00+00:00</td>\n",
              "      <td>0.0</td>\n",
              "      <td>0.0</td>\n",
              "      <td>0.0</td>\n",
              "      <td>0.0</td>\n",
              "      <td>bf37805e-1cc2-4208-9972-753e47874c87</td>\n",
              "      <td>2013-06-08 18:30:00+00:00</td>\n",
              "      <td>0.0</td>\n",
              "    </tr>\n",
              "    <tr>\n",
              "      <th>2</th>\n",
              "      <td>27531.0</td>\n",
              "      <td>CAL FIRE Riverside Unit / San Bernardino Natio...</td>\n",
              "      <td>0.0</td>\n",
              "      <td>2013</td>\n",
              "      <td>True</td>\n",
              "      <td>/incidents/2013/7/15/mountain-fire/</td>\n",
              "      <td></td>\n",
              "      <td></td>\n",
              "      <td>Riverside</td>\n",
              "      <td>33</td>\n",
              "      <td>0.0</td>\n",
              "      <td>0.0</td>\n",
              "      <td>0.0</td>\n",
              "      <td>2013-07-30 18:00:00+00:00</td>\n",
              "      <td>0.0</td>\n",
              "      <td></td>\n",
              "      <td>0.0</td>\n",
              "      <td>0.0</td>\n",
              "      <td>33.709500</td>\n",
              "      <td>Hwy 243 &amp; Hwy 74 near Mountain Center</td>\n",
              "      <td>-116.728850</td>\n",
              "      <td>False</td>\n",
              "      <td>Mountain Fire</td>\n",
              "      <td>0.0</td>\n",
              "      <td>The Mountain Fire burned in July 2013 off High...</td>\n",
              "      <td>2013-07-15 13:43:00+00:00</td>\n",
              "      <td>0.0</td>\n",
              "      <td>0.0</td>\n",
              "      <td>0.0</td>\n",
              "      <td>0.0</td>\n",
              "      <td>a3149fec-4d48-427c-8b2c-59e8b79d59db</td>\n",
              "      <td>2013-07-30 18:00:00+00:00</td>\n",
              "      <td>0.0</td>\n",
              "    </tr>\n",
              "    <tr>\n",
              "      <th>3</th>\n",
              "      <td>27440.0</td>\n",
              "      <td>Tahoe National Forest</td>\n",
              "      <td>0.0</td>\n",
              "      <td>2013</td>\n",
              "      <td>False</td>\n",
              "      <td>/incidents/2013/8/10/american-fire/</td>\n",
              "      <td></td>\n",
              "      <td></td>\n",
              "      <td>Placer</td>\n",
              "      <td>31</td>\n",
              "      <td>0.0</td>\n",
              "      <td>0.0</td>\n",
              "      <td>0.0</td>\n",
              "      <td>2013-08-30 08:00:00+00:00</td>\n",
              "      <td>0.0</td>\n",
              "      <td></td>\n",
              "      <td>0.0</td>\n",
              "      <td>0.0</td>\n",
              "      <td>39.120000</td>\n",
              "      <td>Deadwood Ridge, northeast of Foresthill</td>\n",
              "      <td>-120.650000</td>\n",
              "      <td>False</td>\n",
              "      <td>American Fire</td>\n",
              "      <td>0.0</td>\n",
              "      <td>The American Fire burned in August 2013 off De...</td>\n",
              "      <td>2013-08-10 16:30:00+00:00</td>\n",
              "      <td>0.0</td>\n",
              "      <td>0.0</td>\n",
              "      <td>0.0</td>\n",
              "      <td>0.0</td>\n",
              "      <td>8213f5c7-34fa-403b-a4bc-da2ace6e6625</td>\n",
              "      <td>2013-08-30 08:00:00+00:00</td>\n",
              "      <td>0.0</td>\n",
              "    </tr>\n",
              "    <tr>\n",
              "      <th>4</th>\n",
              "      <td>24251.0</td>\n",
              "      <td>Ventura County Fire/CAL FIRE</td>\n",
              "      <td>0.0</td>\n",
              "      <td>2013</td>\n",
              "      <td>True</td>\n",
              "      <td>/incidents/2013/5/2/springs-fire/</td>\n",
              "      <td>Acreage has been reduced based upon more accur...</td>\n",
              "      <td></td>\n",
              "      <td>Ventura</td>\n",
              "      <td>56</td>\n",
              "      <td>47.0</td>\n",
              "      <td>8.0</td>\n",
              "      <td>117.0</td>\n",
              "      <td>2013-05-11 06:30:00+00:00</td>\n",
              "      <td>0.0</td>\n",
              "      <td></td>\n",
              "      <td>11.0</td>\n",
              "      <td>10.0</td>\n",
              "      <td>0.000000</td>\n",
              "      <td>Southbound Highway 101 at Camarillo Springs Ro...</td>\n",
              "      <td>0.000000</td>\n",
              "      <td>True</td>\n",
              "      <td>Springs Fire</td>\n",
              "      <td>2167.0</td>\n",
              "      <td>The Springs Fire burned in May 2013, Southboun...</td>\n",
              "      <td>2013-05-02 07:01:00+00:00</td>\n",
              "      <td>6.0</td>\n",
              "      <td>10.0</td>\n",
              "      <td>0.0</td>\n",
              "      <td>0.0</td>\n",
              "      <td>46731fb8-3350-4920-bdf7-910ac0eb715c</td>\n",
              "      <td>2013-05-11 06:30:00+00:00</td>\n",
              "      <td>11.0</td>\n",
              "    </tr>\n",
              "  </tbody>\n",
              "</table>\n",
              "</div>\n",
              "      <button class=\"colab-df-convert\" onclick=\"convertToInteractive('df-51f67fa0-4f16-495c-a138-4a81dd326111')\"\n",
              "              title=\"Convert this dataframe to an interactive table.\"\n",
              "              style=\"display:none;\">\n",
              "        \n",
              "  <svg xmlns=\"http://www.w3.org/2000/svg\" height=\"24px\"viewBox=\"0 0 24 24\"\n",
              "       width=\"24px\">\n",
              "    <path d=\"M0 0h24v24H0V0z\" fill=\"none\"/>\n",
              "    <path d=\"M18.56 5.44l.94 2.06.94-2.06 2.06-.94-2.06-.94-.94-2.06-.94 2.06-2.06.94zm-11 1L8.5 8.5l.94-2.06 2.06-.94-2.06-.94L8.5 2.5l-.94 2.06-2.06.94zm10 10l.94 2.06.94-2.06 2.06-.94-2.06-.94-.94-2.06-.94 2.06-2.06.94z\"/><path d=\"M17.41 7.96l-1.37-1.37c-.4-.4-.92-.59-1.43-.59-.52 0-1.04.2-1.43.59L10.3 9.45l-7.72 7.72c-.78.78-.78 2.05 0 2.83L4 21.41c.39.39.9.59 1.41.59.51 0 1.02-.2 1.41-.59l7.78-7.78 2.81-2.81c.8-.78.8-2.07 0-2.86zM5.41 20L4 18.59l7.72-7.72 1.47 1.35L5.41 20z\"/>\n",
              "  </svg>\n",
              "      </button>\n",
              "      \n",
              "  <style>\n",
              "    .colab-df-container {\n",
              "      display:flex;\n",
              "      flex-wrap:wrap;\n",
              "      gap: 12px;\n",
              "    }\n",
              "\n",
              "    .colab-df-convert {\n",
              "      background-color: #E8F0FE;\n",
              "      border: none;\n",
              "      border-radius: 50%;\n",
              "      cursor: pointer;\n",
              "      display: none;\n",
              "      fill: #1967D2;\n",
              "      height: 32px;\n",
              "      padding: 0 0 0 0;\n",
              "      width: 32px;\n",
              "    }\n",
              "\n",
              "    .colab-df-convert:hover {\n",
              "      background-color: #E2EBFA;\n",
              "      box-shadow: 0px 1px 2px rgba(60, 64, 67, 0.3), 0px 1px 3px 1px rgba(60, 64, 67, 0.15);\n",
              "      fill: #174EA6;\n",
              "    }\n",
              "\n",
              "    [theme=dark] .colab-df-convert {\n",
              "      background-color: #3B4455;\n",
              "      fill: #D2E3FC;\n",
              "    }\n",
              "\n",
              "    [theme=dark] .colab-df-convert:hover {\n",
              "      background-color: #434B5C;\n",
              "      box-shadow: 0px 1px 3px 1px rgba(0, 0, 0, 0.15);\n",
              "      filter: drop-shadow(0px 1px 2px rgba(0, 0, 0, 0.3));\n",
              "      fill: #FFFFFF;\n",
              "    }\n",
              "  </style>\n",
              "\n",
              "      <script>\n",
              "        const buttonEl =\n",
              "          document.querySelector('#df-51f67fa0-4f16-495c-a138-4a81dd326111 button.colab-df-convert');\n",
              "        buttonEl.style.display =\n",
              "          google.colab.kernel.accessAllowed ? 'block' : 'none';\n",
              "\n",
              "        async function convertToInteractive(key) {\n",
              "          const element = document.querySelector('#df-51f67fa0-4f16-495c-a138-4a81dd326111');\n",
              "          const dataTable =\n",
              "            await google.colab.kernel.invokeFunction('convertToInteractive',\n",
              "                                                     [key], {});\n",
              "          if (!dataTable) return;\n",
              "\n",
              "          const docLinkHtml = 'Like what you see? Visit the ' +\n",
              "            '<a target=\"_blank\" href=https://colab.research.google.com/notebooks/data_table.ipynb>data table notebook</a>'\n",
              "            + ' to learn more about interactive tables.';\n",
              "          element.innerHTML = '';\n",
              "          dataTable['output_type'] = 'display_data';\n",
              "          await google.colab.output.renderOutput(dataTable, element);\n",
              "          const docLink = document.createElement('div');\n",
              "          docLink.innerHTML = docLinkHtml;\n",
              "          element.appendChild(docLink);\n",
              "        }\n",
              "      </script>\n",
              "    </div>\n",
              "  </div>\n",
              "  "
            ],
            "text/plain": [
              "   AcresBurned  ... WaterTenders\n",
              "0     257314.0  ...          0.0\n",
              "1      30274.0  ...          0.0\n",
              "2      27531.0  ...          0.0\n",
              "3      27440.0  ...          0.0\n",
              "4      24251.0  ...         11.0\n",
              "\n",
              "[5 rows x 33 columns]"
            ]
          },
          "metadata": {},
          "execution_count": 16
        }
      ]
    },
    {
      "cell_type": "code",
      "source": [
        "wildfire_df['Started'].dt.year"
      ],
      "metadata": {
        "colab": {
          "base_uri": "https://localhost:8080/"
        },
        "id": "QN1uXxz4J4AX",
        "outputId": "06f8e938-f4ac-4e79-82f3-375e44487667"
      },
      "execution_count": null,
      "outputs": [
        {
          "output_type": "execute_result",
          "data": {
            "text/plain": [
              "0       2013\n",
              "1       2013\n",
              "2       2013\n",
              "3       2013\n",
              "4       2013\n",
              "        ... \n",
              "1631    2019\n",
              "1632    2019\n",
              "1633    2019\n",
              "1634    2019\n",
              "1635    2019\n",
              "Name: Started, Length: 1636, dtype: int64"
            ]
          },
          "metadata": {},
          "execution_count": 17
        }
      ]
    },
    {
      "cell_type": "code",
      "source": [
        "wildfire_df = wildfire_df[wildfire_df.YearStarted != 1969]"
      ],
      "metadata": {
        "id": "3RUcDGY_KDM1"
      },
      "execution_count": null,
      "outputs": []
    },
    {
      "cell_type": "code",
      "source": [
        "# fire incidents vs year\n",
        "wildfire_df['YearStarted'].value_counts().sort_index().plot(kind='bar', figsize=(12,7))\n",
        "plt.xlabel('Year')\n",
        "plt.ylabel('Number of Fire Incidents')\n",
        "plt.show()"
      ],
      "metadata": {
        "colab": {
          "base_uri": "https://localhost:8080/",
          "height": 458
        },
        "id": "_oGglALXJ7SQ",
        "outputId": "df341d9d-49ff-4a12-c8f2-04b3bdcf1cf4"
      },
      "execution_count": null,
      "outputs": [
        {
          "output_type": "display_data",
          "data": {
            "image/png": "[encoded data removed]",
            "text/plain": [
              "<Figure size 864x504 with 1 Axes>"
            ]
          },
          "metadata": {
            "needs_background": "light"
          }
        }
      ]
    },
    {
      "cell_type": "code",
      "source": [
        "wildfire_df['MonthStarted'].value_counts().sort_index().plot(kind='bar', figsize=(12,7))\n",
        "\n",
        "plt.xlabel('Month of the Year')\n",
        "plt.ylabel('Number of Fire Incidents')"
      ],
      "metadata": {
        "id": "Ab8y-kg7JuOt",
        "colab": {
          "base_uri": "https://localhost:8080/",
          "height": 462
        },
        "outputId": "f7ba3d88-b1db-4389-ab2d-889afb84dfb5"
      },
      "execution_count": null,
      "outputs": [
        {
          "output_type": "execute_result",
          "data": {
            "text/plain": [
              "Text(0, 0.5, 'Number of Fire Incidents')"
            ]
          },
          "metadata": {},
          "execution_count": 28
        },
        {
          "output_type": "display_data",
          "data": {
            "image/png": "[encoded data removed]",
            "text/plain": [
              "<Figure size 864x504 with 1 Axes>"
            ]
          },
          "metadata": {
            "needs_background": "light"
          }
        }
      ]
    },
    {
      "cell_type": "code",
      "source": [
        "wildfire_df.plot(kind='scatter', x='AcresBurned', y='YearStarted', figsize=(13,8), s=5)\n",
        "\n",
        "plt.xlabel('Number of Acres Burned in Thousands')\n",
        "plt.ylabel('Year of Fire Incident')"
      ],
      "metadata": {
        "colab": {
          "base_uri": "https://localhost:8080/",
          "height": 514
        },
        "id": "rRZ3wTTwID47",
        "outputId": "c9d2ffd8-057f-423e-e981-d106ef95ee5e"
      },
      "execution_count": null,
      "outputs": [
        {
          "output_type": "execute_result",
          "data": {
            "text/plain": [
              "Text(0, 0.5, 'Year of Fire Incident')"
            ]
          },
          "metadata": {},
          "execution_count": 29
        },
        {
          "output_type": "display_data",
          "data": {
            "image/png": "[encoded data removed]",
            "text/plain": [
              "<Figure size 936x576 with 1 Axes>"
            ]
          },
          "metadata": {
            "needs_background": "light"
          }
        }
      ]
    },
    {
      "cell_type": "code",
      "source": [
        "wildfire_df[['Fatalities', 'YearStarted']].groupby('YearStarted').sum().sort_values('Fatalities', ascending=False).plot(kind='bar', figsize=(12,7))\n",
        "\n",
        "plt.xlabel('Year of Fire Incident')\n",
        "plt.ylabel('Number of Fatalities')"
      ],
      "metadata": {
        "colab": {
          "base_uri": "https://localhost:8080/",
          "height": 475
        },
        "id": "f-m4o0KJJ44w",
        "outputId": "a8d67f7c-a042-4015-9e8f-a0740dc674f6"
      },
      "execution_count": null,
      "outputs": [
        {
          "output_type": "execute_result",
          "data": {
            "text/plain": [
              "Text(0, 0.5, 'Number of Fatalities')"
            ]
          },
          "metadata": {},
          "execution_count": 30
        },
        {
          "output_type": "display_data",
          "data": {
            "image/png": "[encoded data removed]",
            "text/plain": [
              "<Figure size 864x504 with 1 Axes>"
            ]
          },
          "metadata": {
            "needs_background": "light"
          }
        }
      ]
    },
    {
      "cell_type": "code",
      "source": [
        "wildfire_df.plot(kind='scatter', x='AcresBurned', y='Fatalities', figsize=(13,8), s=5)\n",
        "\n",
        "plt.xlabel('Number of Acres Burned in Thousands')\n",
        "plt.ylabel('Number of Fatalities')"
      ],
      "metadata": {
        "colab": {
          "base_uri": "https://localhost:8080/",
          "height": 514
        },
        "id": "SkG6wzXQKW3O",
        "outputId": "d0c75f5e-a75b-4659-9772-e0143e893e27"
      },
      "execution_count": null,
      "outputs": [
        {
          "output_type": "execute_result",
          "data": {
            "text/plain": [
              "Text(0, 0.5, 'Number of Fatalities')"
            ]
          },
          "metadata": {},
          "execution_count": 31
        },
        {
          "output_type": "display_data",
          "data": {
            "image/png": "[encoded data removed]",
            "text/plain": [
              "<Figure size 936x576 with 1 Axes>"
            ]
          },
          "metadata": {
            "needs_background": "light"
          }
        }
      ]
    },
    {
      "cell_type": "code",
      "source": [
        "wildfire_df['Counties'].value_counts().sort_index().head(10).plot(kind='bar', figsize=(12,7))\n",
        "\n",
        "plt.xlabel('County Name')\n",
        "plt.ylabel('Number of Incidents')"
      ],
      "metadata": {
        "colab": {
          "base_uri": "https://localhost:8080/",
          "height": 514
        },
        "id": "mfO-AOz7KruR",
        "outputId": "9c3983c4-db57-40a5-991d-790a45f92fea"
      },
      "execution_count": null,
      "outputs": [
        {
          "output_type": "execute_result",
          "data": {
            "text/plain": [
              "Text(0, 0.5, 'Number of Incidents')"
            ]
          },
          "metadata": {},
          "execution_count": 32
        },
        {
          "output_type": "display_data",
          "data": {
            "image/png": "[encoded data removed]",
            "text/plain": [
              "<Figure size 864x504 with 1 Axes>"
            ]
          },
          "metadata": {
            "needs_background": "light"
          }
        }
      ]
    },
    {
      "cell_type": "code",
      "source": [
        ""
      ],
      "metadata": {
        "id": "GsAFrxqhKx7h"
      },
      "execution_count": null,
      "outputs": []
    }
  ]
}
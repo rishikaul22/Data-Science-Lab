{
  "cells": [
    {
      "cell_type": "markdown",
      "metadata": {
        "id": "view-in-github",
        "colab_type": "text"
      },
      "source": [
        "<a href=\"https://colab.research.google.com/github/rishikaul22/Data-Science-Lab/blob/main/DS_exp3.ipynb\" target=\"_parent\"><img src=\"https://colab.research.google.com/assets/colab-badge.svg\" alt=\"Open In Colab\"/></a>"
      ]
    },
    {
      "cell_type": "markdown",
      "source": [
        "# Experiment 3\n",
        "\n",
        "**Name:** Rishi Kaul\n",
        "\n",
        "**UID:** 2018130019\n",
        "\n",
        "**Outcomes:**\n",
        "1. Apply Naive bayes classifier for given data see Naive_bayes_handout.zip file in edmodo.\n",
        "\n",
        "2. Apply and compare Linear Discriminating Analysis with Naive bayes classifiers w.r.t. error, specificity and sensitivity"
      ],
      "metadata": {
        "id": "kkMLDtEk5xs5"
      }
    },
    {
      "cell_type": "code",
      "execution_count": null,
      "metadata": {
        "_kg_hide-input": true,
        "execution": {
          "iopub.execute_input": "2020-08-08T06:25:27.903837Z",
          "iopub.status.busy": "2020-08-08T06:25:27.895217Z",
          "iopub.status.idle": "2020-08-08T06:25:32.058445Z",
          "shell.execute_reply": "2020-08-08T06:25:32.057555Z"
        },
        "papermill": {
          "duration": 4.206749,
          "end_time": "2020-08-08T06:25:32.058579",
          "exception": false,
          "start_time": "2020-08-08T06:25:27.851830",
          "status": "completed"
        },
        "tags": [],
        "id": "6k5AM7t4d327"
      },
      "outputs": [],
      "source": [
        "#Basic libraries\n",
        "import pandas as pd \n",
        "import numpy as np \n",
        "\n",
        "\n",
        "#NLTK libraries\n",
        "import nltk\n",
        "import re\n",
        "import string\n",
        "from wordcloud import WordCloud,STOPWORDS\n",
        "from nltk.stem.porter import PorterStemmer\n",
        "from sklearn.feature_extraction.text import TfidfVectorizer\n",
        "\n",
        "# Machine Learning libraries\n",
        "import sklearn \n",
        "from sklearn.svm import SVC\n",
        "from sklearn.preprocessing import LabelEncoder\n",
        "from sklearn.preprocessing import StandardScaler\n",
        "from sklearn.preprocessing import MinMaxScaler\n",
        "from sklearn.ensemble import ExtraTreesClassifier\n",
        "from sklearn.pipeline import make_pipeline\n",
        "from sklearn.model_selection import GridSearchCV\n",
        "from sklearn.linear_model import LogisticRegression\n",
        "from sklearn.tree import DecisionTreeClassifier\n",
        "from sklearn.ensemble import RandomForestClassifier\n",
        "from sklearn.naive_bayes import GaussianNB\n",
        "from sklearn.neighbors import KNeighborsClassifier\n",
        "from sklearn.multiclass import OneVsRestClassifier\n",
        "from sklearn.svm import SVC\n",
        "from sklearn.pipeline import Pipeline\n",
        "from sklearn.model_selection import train_test_split\n",
        "from sklearn.preprocessing import label_binarize\n",
        "from sklearn import svm, datasets\n",
        "from sklearn import preprocessing \n",
        "\n",
        "\n",
        "#Metrics libraries\n",
        "from sklearn import metrics\n",
        "from sklearn.metrics import classification_report\n",
        "from sklearn.model_selection import cross_val_score\n",
        "from sklearn.metrics import roc_auc_score\n",
        "from sklearn.metrics import roc_curve, auc\n",
        "from sklearn.metrics import accuracy_score\n",
        "\n",
        "#Visualization libraries\n",
        "import matplotlib.pyplot as plt \n",
        "from matplotlib import rcParams\n",
        "import seaborn as sns\n",
        "from textblob import TextBlob\n",
        "from plotly import tools\n",
        "import plotly.graph_objs as go\n",
        "from plotly.offline import iplot\n",
        "%matplotlib inline\n",
        "\n",
        "#Ignore warnings\n",
        "import warnings\n",
        "warnings.filterwarnings('ignore')\n",
        "\n",
        "#Other miscellaneous libraries\n",
        "from scipy import interp\n",
        "from itertools import cycle\n",
        "import cufflinks as cf\n",
        "from collections import defaultdict\n",
        "from collections import Counter\n",
        "from imblearn.over_sampling import SMOTE"
      ]
    },
    {
      "cell_type": "markdown",
      "metadata": {
        "papermill": {
          "duration": 0.025224,
          "end_time": "2020-08-08T06:25:32.109231",
          "exception": false,
          "start_time": "2020-08-08T06:25:32.084007",
          "status": "completed"
        },
        "tags": [],
        "id": "yJVDEIwUd32_"
      },
      "source": [
        "## Importing the dataset\n"
      ]
    },
    {
      "cell_type": "code",
      "source": [
        "from google.colab import drive\n",
        "drive.mount('/gdrive')"
      ],
      "metadata": {
        "colab": {
          "base_uri": "https://localhost:8080/"
        },
        "id": "hYbf788hhNo5",
        "outputId": "e50d66b6-d52f-4d85-b642-46d7089c3e4f"
      },
      "execution_count": null,
      "outputs": [
        {
          "output_type": "stream",
          "name": "stdout",
          "text": [
            "Mounted at /gdrive\n"
          ]
        }
      ]
    },
    {
      "cell_type": "markdown",
      "source": [
        "Upon inspection, The dataset does not contain missing values apart from the reviewer name and reviewer text column"
      ],
      "metadata": {
        "id": "MtZhSQ6L6z8m"
      }
    },
    {
      "cell_type": "code",
      "execution_count": null,
      "metadata": {
        "_cell_guid": "79c7e3d0-c299-4dcb-8224-4455121ee9b0",
        "_kg_hide-input": true,
        "_uuid": "d629ff2d2480ee46fbb7e2d37f6b5fab8052498a",
        "execution": {
          "iopub.execute_input": "2020-08-08T06:25:32.170949Z",
          "iopub.status.busy": "2020-08-08T06:25:32.170176Z",
          "iopub.status.idle": "2020-08-08T06:25:32.297403Z",
          "shell.execute_reply": "2020-08-08T06:25:32.298608Z"
        },
        "papermill": {
          "duration": 0.163971,
          "end_time": "2020-08-08T06:25:32.298795",
          "exception": false,
          "start_time": "2020-08-08T06:25:32.134824",
          "status": "completed"
        },
        "tags": [],
        "colab": {
          "base_uri": "https://localhost:8080/"
        },
        "id": "30UuJ0udd33A",
        "outputId": "62a9f446-75bf-4e60-85b7-ebb2a817b7dd"
      },
      "outputs": [
        {
          "output_type": "stream",
          "name": "stdout",
          "text": [
            "The shape of the  data is (row, column):(10261, 9)\n",
            "<class 'pandas.core.frame.DataFrame'>\n",
            "RangeIndex: 10261 entries, 0 to 10260\n",
            "Data columns (total 9 columns):\n",
            " #   Column          Non-Null Count  Dtype  \n",
            "---  ------          --------------  -----  \n",
            " 0   reviewerID      10261 non-null  object \n",
            " 1   asin            10261 non-null  object \n",
            " 2   reviewerName    10234 non-null  object \n",
            " 3   helpful         10261 non-null  object \n",
            " 4   reviewText      10254 non-null  object \n",
            " 5   overall         10261 non-null  float64\n",
            " 6   summary         10261 non-null  object \n",
            " 7   unixReviewTime  10261 non-null  int64  \n",
            " 8   reviewTime      10261 non-null  object \n",
            "dtypes: float64(1), int64(1), object(7)\n",
            "memory usage: 721.6+ KB\n",
            "None\n"
          ]
        }
      ],
      "source": [
        "data = pd.read_csv('/gdrive/My Drive/Datasets/Amazon Reviews/reviews.csv')\n",
        "## print shape of dataset with rows and columns and information \n",
        "print(\"The shape of the  data is (row, column):\"+ str(data.shape))\n",
        "print(data.info())"
      ]
    },
    {
      "cell_type": "code",
      "source": [
        "data.head()"
      ],
      "metadata": {
        "colab": {
          "base_uri": "https://localhost:8080/",
          "height": 250
        },
        "id": "Xf0bo3f8h30N",
        "outputId": "31cb5b13-b919-4d88-85d0-4fe6f4aab795"
      },
      "execution_count": null,
      "outputs": [
        {
          "output_type": "execute_result",
          "data": {
            "text/html": [
              "\n",
              "  <div id=\"df-7f556955-d11a-4c8e-a8bd-23bec8bd5531\">\n",
              "    <div class=\"colab-df-container\">\n",
              "      <div>\n",
              "<style scoped>\n",
              "    .dataframe tbody tr th:only-of-type {\n",
              "        vertical-align: middle;\n",
              "    }\n",
              "\n",
              "    .dataframe tbody tr th {\n",
              "        vertical-align: top;\n",
              "    }\n",
              "\n",
              "    .dataframe thead th {\n",
              "        text-align: right;\n",
              "    }\n",
              "</style>\n",
              "<table border=\"1\" class=\"dataframe\">\n",
              "  <thead>\n",
              "    <tr style=\"text-align: right;\">\n",
              "      <th></th>\n",
              "      <th>reviewerID</th>\n",
              "      <th>asin</th>\n",
              "      <th>reviewerName</th>\n",
              "      <th>helpful</th>\n",
              "      <th>reviewText</th>\n",
              "      <th>overall</th>\n",
              "      <th>summary</th>\n",
              "      <th>unixReviewTime</th>\n",
              "      <th>reviewTime</th>\n",
              "    </tr>\n",
              "  </thead>\n",
              "  <tbody>\n",
              "    <tr>\n",
              "      <th>0</th>\n",
              "      <td>A2IBPI20UZIR0U</td>\n",
              "      <td>1384719342</td>\n",
              "      <td>cassandra tu \"Yeah, well, that's just like, u...</td>\n",
              "      <td>[0, 0]</td>\n",
              "      <td>Not much to write about here, but it does exac...</td>\n",
              "      <td>5.0</td>\n",
              "      <td>good</td>\n",
              "      <td>1393545600</td>\n",
              "      <td>02 28, 2014</td>\n",
              "    </tr>\n",
              "    <tr>\n",
              "      <th>1</th>\n",
              "      <td>A14VAT5EAX3D9S</td>\n",
              "      <td>1384719342</td>\n",
              "      <td>Jake</td>\n",
              "      <td>[13, 14]</td>\n",
              "      <td>The product does exactly as it should and is q...</td>\n",
              "      <td>5.0</td>\n",
              "      <td>Jake</td>\n",
              "      <td>1363392000</td>\n",
              "      <td>03 16, 2013</td>\n",
              "    </tr>\n",
              "    <tr>\n",
              "      <th>2</th>\n",
              "      <td>A195EZSQDW3E21</td>\n",
              "      <td>1384719342</td>\n",
              "      <td>Rick Bennette \"Rick Bennette\"</td>\n",
              "      <td>[1, 1]</td>\n",
              "      <td>The primary job of this device is to block the...</td>\n",
              "      <td>5.0</td>\n",
              "      <td>It Does The Job Well</td>\n",
              "      <td>1377648000</td>\n",
              "      <td>08 28, 2013</td>\n",
              "    </tr>\n",
              "    <tr>\n",
              "      <th>3</th>\n",
              "      <td>A2C00NNG1ZQQG2</td>\n",
              "      <td>1384719342</td>\n",
              "      <td>RustyBill \"Sunday Rocker\"</td>\n",
              "      <td>[0, 0]</td>\n",
              "      <td>Nice windscreen protects my MXL mic and preven...</td>\n",
              "      <td>5.0</td>\n",
              "      <td>GOOD WINDSCREEN FOR THE MONEY</td>\n",
              "      <td>1392336000</td>\n",
              "      <td>02 14, 2014</td>\n",
              "    </tr>\n",
              "    <tr>\n",
              "      <th>4</th>\n",
              "      <td>A94QU4C90B1AX</td>\n",
              "      <td>1384719342</td>\n",
              "      <td>SEAN MASLANKA</td>\n",
              "      <td>[0, 0]</td>\n",
              "      <td>This pop filter is great. It looks and perform...</td>\n",
              "      <td>5.0</td>\n",
              "      <td>No more pops when I record my vocals.</td>\n",
              "      <td>1392940800</td>\n",
              "      <td>02 21, 2014</td>\n",
              "    </tr>\n",
              "  </tbody>\n",
              "</table>\n",
              "</div>\n",
              "      <button class=\"colab-df-convert\" onclick=\"convertToInteractive('df-7f556955-d11a-4c8e-a8bd-23bec8bd5531')\"\n",
              "              title=\"Convert this dataframe to an interactive table.\"\n",
              "              style=\"display:none;\">\n",
              "        \n",
              "  <svg xmlns=\"http://www.w3.org/2000/svg\" height=\"24px\"viewBox=\"0 0 24 24\"\n",
              "       width=\"24px\">\n",
              "    <path d=\"M0 0h24v24H0V0z\" fill=\"none\"/>\n",
              "    <path d=\"M18.56 5.44l.94 2.06.94-2.06 2.06-.94-2.06-.94-.94-2.06-.94 2.06-2.06.94zm-11 1L8.5 8.5l.94-2.06 2.06-.94-2.06-.94L8.5 2.5l-.94 2.06-2.06.94zm10 10l.94 2.06.94-2.06 2.06-.94-2.06-.94-.94-2.06-.94 2.06-2.06.94z\"/><path d=\"M17.41 7.96l-1.37-1.37c-.4-.4-.92-.59-1.43-.59-.52 0-1.04.2-1.43.59L10.3 9.45l-7.72 7.72c-.78.78-.78 2.05 0 2.83L4 21.41c.39.39.9.59 1.41.59.51 0 1.02-.2 1.41-.59l7.78-7.78 2.81-2.81c.8-.78.8-2.07 0-2.86zM5.41 20L4 18.59l7.72-7.72 1.47 1.35L5.41 20z\"/>\n",
              "  </svg>\n",
              "      </button>\n",
              "      \n",
              "  <style>\n",
              "    .colab-df-container {\n",
              "      display:flex;\n",
              "      flex-wrap:wrap;\n",
              "      gap: 12px;\n",
              "    }\n",
              "\n",
              "    .colab-df-convert {\n",
              "      background-color: #E8F0FE;\n",
              "      border: none;\n",
              "      border-radius: 50%;\n",
              "      cursor: pointer;\n",
              "      display: none;\n",
              "      fill: #1967D2;\n",
              "      height: 32px;\n",
              "      padding: 0 0 0 0;\n",
              "      width: 32px;\n",
              "    }\n",
              "\n",
              "    .colab-df-convert:hover {\n",
              "      background-color: #E2EBFA;\n",
              "      box-shadow: 0px 1px 2px rgba(60, 64, 67, 0.3), 0px 1px 3px 1px rgba(60, 64, 67, 0.15);\n",
              "      fill: #174EA6;\n",
              "    }\n",
              "\n",
              "    [theme=dark] .colab-df-convert {\n",
              "      background-color: #3B4455;\n",
              "      fill: #D2E3FC;\n",
              "    }\n",
              "\n",
              "    [theme=dark] .colab-df-convert:hover {\n",
              "      background-color: #434B5C;\n",
              "      box-shadow: 0px 1px 3px 1px rgba(0, 0, 0, 0.15);\n",
              "      filter: drop-shadow(0px 1px 2px rgba(0, 0, 0, 0.3));\n",
              "      fill: #FFFFFF;\n",
              "    }\n",
              "  </style>\n",
              "\n",
              "      <script>\n",
              "        const buttonEl =\n",
              "          document.querySelector('#df-7f556955-d11a-4c8e-a8bd-23bec8bd5531 button.colab-df-convert');\n",
              "        buttonEl.style.display =\n",
              "          google.colab.kernel.accessAllowed ? 'block' : 'none';\n",
              "\n",
              "        async function convertToInteractive(key) {\n",
              "          const element = document.querySelector('#df-7f556955-d11a-4c8e-a8bd-23bec8bd5531');\n",
              "          const dataTable =\n",
              "            await google.colab.kernel.invokeFunction('convertToInteractive',\n",
              "                                                     [key], {});\n",
              "          if (!dataTable) return;\n",
              "\n",
              "          const docLinkHtml = 'Like what you see? Visit the ' +\n",
              "            '<a target=\"_blank\" href=https://colab.research.google.com/notebooks/data_table.ipynb>data table notebook</a>'\n",
              "            + ' to learn more about interactive tables.';\n",
              "          element.innerHTML = '';\n",
              "          dataTable['output_type'] = 'display_data';\n",
              "          await google.colab.output.renderOutput(dataTable, element);\n",
              "          const docLink = document.createElement('div');\n",
              "          docLink.innerHTML = docLinkHtml;\n",
              "          element.appendChild(docLink);\n",
              "        }\n",
              "      </script>\n",
              "    </div>\n",
              "  </div>\n",
              "  "
            ],
            "text/plain": [
              "       reviewerID        asin  ... unixReviewTime   reviewTime\n",
              "0  A2IBPI20UZIR0U  1384719342  ...     1393545600  02 28, 2014\n",
              "1  A14VAT5EAX3D9S  1384719342  ...     1363392000  03 16, 2013\n",
              "2  A195EZSQDW3E21  1384719342  ...     1377648000  08 28, 2013\n",
              "3  A2C00NNG1ZQQG2  1384719342  ...     1392336000  02 14, 2014\n",
              "4   A94QU4C90B1AX  1384719342  ...     1392940800  02 21, 2014\n",
              "\n",
              "[5 rows x 9 columns]"
            ]
          },
          "metadata": {},
          "execution_count": 4
        }
      ]
    },
    {
      "cell_type": "markdown",
      "metadata": {
        "papermill": {
          "duration": 0.024999,
          "end_time": "2020-08-08T06:25:32.424968",
          "exception": false,
          "start_time": "2020-08-08T06:25:32.399969",
          "status": "completed"
        },
        "tags": [],
        "id": "SfWa0-o-d33D"
      },
      "source": [
        "## Dataset Details\n",
        "**This file has reviewer ID , User ID, Reviewer Name, Reviewer text, helpful, Summary(obtained from Reviewer text),Overall Rating on a scale 5, Review time**\n",
        "\n",
        "**Description of columns in the file:**\n",
        "\n",
        "* reviewerID - ID of the reviewer, e.g. A2SUAM1J3GNN3B\n",
        "* asin - ID of the product, e.g. 0000013714\n",
        "* reviewerName - name of the reviewer\n",
        "* helpful - helpfulness rating of the review, e.g. 2/3\n",
        "* reviewText - text of the review\n",
        "* overall - rating of the product\n",
        "* summary - summary of the review\n",
        "* unixReviewTime - time of the review (unix time)\n",
        "* reviewTime - time of the review (raw)"
      ]
    },
    {
      "cell_type": "markdown",
      "metadata": {
        "papermill": {
          "duration": 0.027786,
          "end_time": "2020-08-08T06:25:32.477949",
          "exception": false,
          "start_time": "2020-08-08T06:25:32.450163",
          "status": "completed"
        },
        "tags": [],
        "id": "TP7vBprJd33D"
      },
      "source": [
        "<a id=\"section-two\"></a>\n",
        "# Preprocessing and cleaning\n",
        "\n",
        "\n",
        "## Handling NaN values\n",
        "\n",
        "**Checking for null values**"
      ]
    },
    {
      "cell_type": "code",
      "execution_count": null,
      "metadata": {
        "execution": {
          "iopub.execute_input": "2020-08-08T06:25:32.551737Z",
          "iopub.status.busy": "2020-08-08T06:25:32.550729Z",
          "iopub.status.idle": "2020-08-08T06:25:32.571218Z",
          "shell.execute_reply": "2020-08-08T06:25:32.571765Z"
        },
        "papermill": {
          "duration": 0.063838,
          "end_time": "2020-08-08T06:25:32.571931",
          "exception": false,
          "start_time": "2020-08-08T06:25:32.508093",
          "status": "completed"
        },
        "tags": [],
        "colab": {
          "base_uri": "https://localhost:8080/"
        },
        "id": "1TsFYiaUd33E",
        "outputId": "181628b1-de94-4ab2-ec00-4d79e21c0879"
      },
      "outputs": [
        {
          "output_type": "execute_result",
          "data": {
            "text/plain": [
              "reviewerID         0\n",
              "asin               0\n",
              "reviewerName      27\n",
              "helpful            0\n",
              "reviewText         7\n",
              "overall            0\n",
              "summary            0\n",
              "unixReviewTime     0\n",
              "reviewTime         0\n",
              "dtype: int64"
            ]
          },
          "metadata": {},
          "execution_count": 5
        }
      ],
      "source": [
        "#Creating a copy\n",
        "processed_data=data.copy()\n",
        "\n",
        "#Checking for null values\n",
        "processed_data.isnull().sum()"
      ]
    },
    {
      "cell_type": "markdown",
      "metadata": {
        "papermill": {
          "duration": 0.027036,
          "end_time": "2020-08-08T06:25:32.626377",
          "exception": false,
          "start_time": "2020-08-08T06:25:32.599341",
          "status": "completed"
        },
        "tags": [],
        "id": "hv7cv9IAd33F"
      },
      "source": [
        "**There are null values in reviewer names and review text. Reviewer names doesn't add any value(id's instead) to our objective of the project. So hence dropping the column makes sense. For review text, Dropping would not be a problem as there are only 7 null values but in this case i decided to fill the column with \"missing\" text as that too wouldn't have a significant effect**"
      ]
    },
    {
      "cell_type": "code",
      "execution_count": null,
      "metadata": {
        "execution": {
          "iopub.execute_input": "2020-08-08T06:25:32.686767Z",
          "iopub.status.busy": "2020-08-08T06:25:32.685085Z",
          "iopub.status.idle": "2020-08-08T06:25:32.689875Z",
          "shell.execute_reply": "2020-08-08T06:25:32.689159Z"
        },
        "papermill": {
          "duration": 0.037708,
          "end_time": "2020-08-08T06:25:32.689991",
          "exception": false,
          "start_time": "2020-08-08T06:25:32.652283",
          "status": "completed"
        },
        "tags": [],
        "id": "23nMp-mCd33G"
      },
      "outputs": [],
      "source": [
        "processed_data['reviewText'] = processed_data['reviewText'].fillna('Missing')"
      ]
    },
    {
      "cell_type": "markdown",
      "metadata": {
        "papermill": {
          "duration": 0.0255,
          "end_time": "2020-08-08T06:25:32.741442",
          "exception": false,
          "start_time": "2020-08-08T06:25:32.715942",
          "status": "completed"
        },
        "tags": [],
        "id": "ZDoI9gzLd33I"
      },
      "source": [
        "## Concatenating review text and summary\n",
        "I am combining the review text and summary as the sentiments won't be contradicting in nature. "
      ]
    },
    {
      "cell_type": "code",
      "execution_count": null,
      "metadata": {
        "execution": {
          "iopub.execute_input": "2020-08-08T06:25:32.799735Z",
          "iopub.status.busy": "2020-08-08T06:25:32.798983Z",
          "iopub.status.idle": "2020-08-08T06:25:32.845861Z",
          "shell.execute_reply": "2020-08-08T06:25:32.845099Z"
        },
        "papermill": {
          "duration": 0.078957,
          "end_time": "2020-08-08T06:25:32.845983",
          "exception": false,
          "start_time": "2020-08-08T06:25:32.767026",
          "status": "completed"
        },
        "tags": [],
        "colab": {
          "base_uri": "https://localhost:8080/",
          "height": 206
        },
        "id": "TUS-e-TDd33I",
        "outputId": "f91103e4-f66b-4e75-9c8c-e3bf7544678c"
      },
      "outputs": [
        {
          "output_type": "execute_result",
          "data": {
            "text/html": [
              "\n",
              "  <div id=\"df-b2a057c7-6680-4c1b-878f-d563dd8b3a15\">\n",
              "    <div class=\"colab-df-container\">\n",
              "      <div>\n",
              "<style scoped>\n",
              "    .dataframe tbody tr th:only-of-type {\n",
              "        vertical-align: middle;\n",
              "    }\n",
              "\n",
              "    .dataframe tbody tr th {\n",
              "        vertical-align: top;\n",
              "    }\n",
              "\n",
              "    .dataframe thead th {\n",
              "        text-align: right;\n",
              "    }\n",
              "</style>\n",
              "<table border=\"1\" class=\"dataframe\">\n",
              "  <thead>\n",
              "    <tr style=\"text-align: right;\">\n",
              "      <th></th>\n",
              "      <th>reviewerID</th>\n",
              "      <th>asin</th>\n",
              "      <th>reviewerName</th>\n",
              "      <th>helpful</th>\n",
              "      <th>overall</th>\n",
              "      <th>unixReviewTime</th>\n",
              "      <th>reviewTime</th>\n",
              "      <th>reviews</th>\n",
              "    </tr>\n",
              "  </thead>\n",
              "  <tbody>\n",
              "    <tr>\n",
              "      <th>0</th>\n",
              "      <td>A2IBPI20UZIR0U</td>\n",
              "      <td>1384719342</td>\n",
              "      <td>cassandra tu \"Yeah, well, that's just like, u...</td>\n",
              "      <td>[0, 0]</td>\n",
              "      <td>5.0</td>\n",
              "      <td>1393545600</td>\n",
              "      <td>02 28, 2014</td>\n",
              "      <td>Not much to write about here, but it does exac...</td>\n",
              "    </tr>\n",
              "    <tr>\n",
              "      <th>1</th>\n",
              "      <td>A14VAT5EAX3D9S</td>\n",
              "      <td>1384719342</td>\n",
              "      <td>Jake</td>\n",
              "      <td>[13, 14]</td>\n",
              "      <td>5.0</td>\n",
              "      <td>1363392000</td>\n",
              "      <td>03 16, 2013</td>\n",
              "      <td>The product does exactly as it should and is q...</td>\n",
              "    </tr>\n",
              "    <tr>\n",
              "      <th>2</th>\n",
              "      <td>A195EZSQDW3E21</td>\n",
              "      <td>1384719342</td>\n",
              "      <td>Rick Bennette \"Rick Bennette\"</td>\n",
              "      <td>[1, 1]</td>\n",
              "      <td>5.0</td>\n",
              "      <td>1377648000</td>\n",
              "      <td>08 28, 2013</td>\n",
              "      <td>The primary job of this device is to block the...</td>\n",
              "    </tr>\n",
              "    <tr>\n",
              "      <th>3</th>\n",
              "      <td>A2C00NNG1ZQQG2</td>\n",
              "      <td>1384719342</td>\n",
              "      <td>RustyBill \"Sunday Rocker\"</td>\n",
              "      <td>[0, 0]</td>\n",
              "      <td>5.0</td>\n",
              "      <td>1392336000</td>\n",
              "      <td>02 14, 2014</td>\n",
              "      <td>Nice windscreen protects my MXL mic and preven...</td>\n",
              "    </tr>\n",
              "    <tr>\n",
              "      <th>4</th>\n",
              "      <td>A94QU4C90B1AX</td>\n",
              "      <td>1384719342</td>\n",
              "      <td>SEAN MASLANKA</td>\n",
              "      <td>[0, 0]</td>\n",
              "      <td>5.0</td>\n",
              "      <td>1392940800</td>\n",
              "      <td>02 21, 2014</td>\n",
              "      <td>This pop filter is great. It looks and perform...</td>\n",
              "    </tr>\n",
              "  </tbody>\n",
              "</table>\n",
              "</div>\n",
              "      <button class=\"colab-df-convert\" onclick=\"convertToInteractive('df-b2a057c7-6680-4c1b-878f-d563dd8b3a15')\"\n",
              "              title=\"Convert this dataframe to an interactive table.\"\n",
              "              style=\"display:none;\">\n",
              "        \n",
              "  <svg xmlns=\"http://www.w3.org/2000/svg\" height=\"24px\"viewBox=\"0 0 24 24\"\n",
              "       width=\"24px\">\n",
              "    <path d=\"M0 0h24v24H0V0z\" fill=\"none\"/>\n",
              "    <path d=\"M18.56 5.44l.94 2.06.94-2.06 2.06-.94-2.06-.94-.94-2.06-.94 2.06-2.06.94zm-11 1L8.5 8.5l.94-2.06 2.06-.94-2.06-.94L8.5 2.5l-.94 2.06-2.06.94zm10 10l.94 2.06.94-2.06 2.06-.94-2.06-.94-.94-2.06-.94 2.06-2.06.94z\"/><path d=\"M17.41 7.96l-1.37-1.37c-.4-.4-.92-.59-1.43-.59-.52 0-1.04.2-1.43.59L10.3 9.45l-7.72 7.72c-.78.78-.78 2.05 0 2.83L4 21.41c.39.39.9.59 1.41.59.51 0 1.02-.2 1.41-.59l7.78-7.78 2.81-2.81c.8-.78.8-2.07 0-2.86zM5.41 20L4 18.59l7.72-7.72 1.47 1.35L5.41 20z\"/>\n",
              "  </svg>\n",
              "      </button>\n",
              "      \n",
              "  <style>\n",
              "    .colab-df-container {\n",
              "      display:flex;\n",
              "      flex-wrap:wrap;\n",
              "      gap: 12px;\n",
              "    }\n",
              "\n",
              "    .colab-df-convert {\n",
              "      background-color: #E8F0FE;\n",
              "      border: none;\n",
              "      border-radius: 50%;\n",
              "      cursor: pointer;\n",
              "      display: none;\n",
              "      fill: #1967D2;\n",
              "      height: 32px;\n",
              "      padding: 0 0 0 0;\n",
              "      width: 32px;\n",
              "    }\n",
              "\n",
              "    .colab-df-convert:hover {\n",
              "      background-color: #E2EBFA;\n",
              "      box-shadow: 0px 1px 2px rgba(60, 64, 67, 0.3), 0px 1px 3px 1px rgba(60, 64, 67, 0.15);\n",
              "      fill: #174EA6;\n",
              "    }\n",
              "\n",
              "    [theme=dark] .colab-df-convert {\n",
              "      background-color: #3B4455;\n",
              "      fill: #D2E3FC;\n",
              "    }\n",
              "\n",
              "    [theme=dark] .colab-df-convert:hover {\n",
              "      background-color: #434B5C;\n",
              "      box-shadow: 0px 1px 3px 1px rgba(0, 0, 0, 0.15);\n",
              "      filter: drop-shadow(0px 1px 2px rgba(0, 0, 0, 0.3));\n",
              "      fill: #FFFFFF;\n",
              "    }\n",
              "  </style>\n",
              "\n",
              "      <script>\n",
              "        const buttonEl =\n",
              "          document.querySelector('#df-b2a057c7-6680-4c1b-878f-d563dd8b3a15 button.colab-df-convert');\n",
              "        buttonEl.style.display =\n",
              "          google.colab.kernel.accessAllowed ? 'block' : 'none';\n",
              "\n",
              "        async function convertToInteractive(key) {\n",
              "          const element = document.querySelector('#df-b2a057c7-6680-4c1b-878f-d563dd8b3a15');\n",
              "          const dataTable =\n",
              "            await google.colab.kernel.invokeFunction('convertToInteractive',\n",
              "                                                     [key], {});\n",
              "          if (!dataTable) return;\n",
              "\n",
              "          const docLinkHtml = 'Like what you see? Visit the ' +\n",
              "            '<a target=\"_blank\" href=https://colab.research.google.com/notebooks/data_table.ipynb>data table notebook</a>'\n",
              "            + ' to learn more about interactive tables.';\n",
              "          element.innerHTML = '';\n",
              "          dataTable['output_type'] = 'display_data';\n",
              "          await google.colab.output.renderOutput(dataTable, element);\n",
              "          const docLink = document.createElement('div');\n",
              "          docLink.innerHTML = docLinkHtml;\n",
              "          element.appendChild(docLink);\n",
              "        }\n",
              "      </script>\n",
              "    </div>\n",
              "  </div>\n",
              "  "
            ],
            "text/plain": [
              "       reviewerID  ...                                            reviews\n",
              "0  A2IBPI20UZIR0U  ...  Not much to write about here, but it does exac...\n",
              "1  A14VAT5EAX3D9S  ...  The product does exactly as it should and is q...\n",
              "2  A195EZSQDW3E21  ...  The primary job of this device is to block the...\n",
              "3  A2C00NNG1ZQQG2  ...  Nice windscreen protects my MXL mic and preven...\n",
              "4   A94QU4C90B1AX  ...  This pop filter is great. It looks and perform...\n",
              "\n",
              "[5 rows x 8 columns]"
            ]
          },
          "metadata": {},
          "execution_count": 7
        }
      ],
      "source": [
        "processed_data['reviews'] = processed_data['reviewText'] + processed_data['summary']\n",
        "\n",
        "# dropping review text and summary\n",
        "processed_data = processed_data.drop(['reviewText', 'summary'], axis=1)\n",
        "\n",
        "processed_data.head()"
      ]
    },
    {
      "cell_type": "markdown",
      "metadata": {
        "papermill": {
          "duration": 0.025338,
          "end_time": "2020-08-08T06:25:32.897665",
          "exception": false,
          "start_time": "2020-08-08T06:25:32.872327",
          "status": "completed"
        },
        "tags": [],
        "id": "sK8mH1VPd33J"
      },
      "source": [
        "## Creating 'sentiment' column\n",
        "**Here I am deciding the outcome column (sentiment of review) based on the overall score. If the score is greater than 3, I have taken that as positive and if the value is less than 3 it is negative If it is equal to 3, I've taken that as neutral sentiment**"
      ]
    },
    {
      "cell_type": "code",
      "execution_count": null,
      "metadata": {
        "execution": {
          "iopub.execute_input": "2020-08-08T06:25:32.955485Z",
          "iopub.status.busy": "2020-08-08T06:25:32.954408Z",
          "iopub.status.idle": "2020-08-08T06:25:32.962756Z",
          "shell.execute_reply": "2020-08-08T06:25:32.962035Z"
        },
        "papermill": {
          "duration": 0.039534,
          "end_time": "2020-08-08T06:25:32.962883",
          "exception": false,
          "start_time": "2020-08-08T06:25:32.923349",
          "status": "completed"
        },
        "tags": [],
        "colab": {
          "base_uri": "https://localhost:8080/"
        },
        "id": "-wluRB9yd33K",
        "outputId": "7fea60f2-ed70-45f0-a665-68dd17aa7bc2"
      },
      "outputs": [
        {
          "output_type": "execute_result",
          "data": {
            "text/plain": [
              "5.0    6938\n",
              "4.0    2084\n",
              "3.0     772\n",
              "2.0     250\n",
              "1.0     217\n",
              "Name: overall, dtype: int64"
            ]
          },
          "metadata": {},
          "execution_count": 8
        }
      ],
      "source": [
        "#Figuring out the distribution of categories\n",
        "processed_data['overall'].value_counts()"
      ]
    },
    {
      "cell_type": "code",
      "execution_count": null,
      "metadata": {
        "execution": {
          "iopub.execute_input": "2020-08-08T06:25:33.024944Z",
          "iopub.status.busy": "2020-08-08T06:25:33.023838Z",
          "iopub.status.idle": "2020-08-08T06:25:33.026632Z",
          "shell.execute_reply": "2020-08-08T06:25:33.027188Z"
        },
        "papermill": {
          "duration": 0.037912,
          "end_time": "2020-08-08T06:25:33.027359",
          "exception": false,
          "start_time": "2020-08-08T06:25:32.989447",
          "status": "completed"
        },
        "tags": [],
        "id": "rTR7P7V9d33K"
      },
      "outputs": [],
      "source": [
        "def f(row):\n",
        "    \n",
        "    '''This function returns sentiment value based on the overall ratings from the user'''\n",
        "    \n",
        "    if row['overall'] == 3.0:\n",
        "        val = 'Neutral'\n",
        "    elif row['overall'] == 1.0 or row['overall'] == 2.0:\n",
        "        val = 'Negative'\n",
        "    elif row['overall'] == 4.0 or row['overall'] == 5.0:\n",
        "        val = 'Positive'\n",
        "    else:\n",
        "        val = -1\n",
        "    return val"
      ]
    },
    {
      "cell_type": "code",
      "execution_count": null,
      "metadata": {
        "execution": {
          "iopub.execute_input": "2020-08-08T06:25:33.086368Z",
          "iopub.status.busy": "2020-08-08T06:25:33.085292Z",
          "iopub.status.idle": "2020-08-08T06:25:34.026225Z",
          "shell.execute_reply": "2020-08-08T06:25:34.025578Z"
        },
        "papermill": {
          "duration": 0.97251,
          "end_time": "2020-08-08T06:25:34.026345",
          "exception": false,
          "start_time": "2020-08-08T06:25:33.053835",
          "status": "completed"
        },
        "tags": [],
        "id": "rRPvgCKdd33L",
        "outputId": "538d2fa7-8a8b-4604-9bb2-e086289e69a8",
        "colab": {
          "base_uri": "https://localhost:8080/",
          "height": 206
        }
      },
      "outputs": [
        {
          "output_type": "execute_result",
          "data": {
            "text/html": [
              "\n",
              "  <div id=\"df-39950822-1372-426f-81d4-21331f251e65\">\n",
              "    <div class=\"colab-df-container\">\n",
              "      <div>\n",
              "<style scoped>\n",
              "    .dataframe tbody tr th:only-of-type {\n",
              "        vertical-align: middle;\n",
              "    }\n",
              "\n",
              "    .dataframe tbody tr th {\n",
              "        vertical-align: top;\n",
              "    }\n",
              "\n",
              "    .dataframe thead th {\n",
              "        text-align: right;\n",
              "    }\n",
              "</style>\n",
              "<table border=\"1\" class=\"dataframe\">\n",
              "  <thead>\n",
              "    <tr style=\"text-align: right;\">\n",
              "      <th></th>\n",
              "      <th>reviewerID</th>\n",
              "      <th>asin</th>\n",
              "      <th>reviewerName</th>\n",
              "      <th>helpful</th>\n",
              "      <th>overall</th>\n",
              "      <th>unixReviewTime</th>\n",
              "      <th>reviewTime</th>\n",
              "      <th>reviews</th>\n",
              "      <th>sentiment</th>\n",
              "    </tr>\n",
              "  </thead>\n",
              "  <tbody>\n",
              "    <tr>\n",
              "      <th>0</th>\n",
              "      <td>A2IBPI20UZIR0U</td>\n",
              "      <td>1384719342</td>\n",
              "      <td>cassandra tu \"Yeah, well, that's just like, u...</td>\n",
              "      <td>[0, 0]</td>\n",
              "      <td>5.0</td>\n",
              "      <td>1393545600</td>\n",
              "      <td>02 28, 2014</td>\n",
              "      <td>Not much to write about here, but it does exac...</td>\n",
              "      <td>Positive</td>\n",
              "    </tr>\n",
              "    <tr>\n",
              "      <th>1</th>\n",
              "      <td>A14VAT5EAX3D9S</td>\n",
              "      <td>1384719342</td>\n",
              "      <td>Jake</td>\n",
              "      <td>[13, 14]</td>\n",
              "      <td>5.0</td>\n",
              "      <td>1363392000</td>\n",
              "      <td>03 16, 2013</td>\n",
              "      <td>The product does exactly as it should and is q...</td>\n",
              "      <td>Positive</td>\n",
              "    </tr>\n",
              "    <tr>\n",
              "      <th>2</th>\n",
              "      <td>A195EZSQDW3E21</td>\n",
              "      <td>1384719342</td>\n",
              "      <td>Rick Bennette \"Rick Bennette\"</td>\n",
              "      <td>[1, 1]</td>\n",
              "      <td>5.0</td>\n",
              "      <td>1377648000</td>\n",
              "      <td>08 28, 2013</td>\n",
              "      <td>The primary job of this device is to block the...</td>\n",
              "      <td>Positive</td>\n",
              "    </tr>\n",
              "    <tr>\n",
              "      <th>3</th>\n",
              "      <td>A2C00NNG1ZQQG2</td>\n",
              "      <td>1384719342</td>\n",
              "      <td>RustyBill \"Sunday Rocker\"</td>\n",
              "      <td>[0, 0]</td>\n",
              "      <td>5.0</td>\n",
              "      <td>1392336000</td>\n",
              "      <td>02 14, 2014</td>\n",
              "      <td>Nice windscreen protects my MXL mic and preven...</td>\n",
              "      <td>Positive</td>\n",
              "    </tr>\n",
              "    <tr>\n",
              "      <th>4</th>\n",
              "      <td>A94QU4C90B1AX</td>\n",
              "      <td>1384719342</td>\n",
              "      <td>SEAN MASLANKA</td>\n",
              "      <td>[0, 0]</td>\n",
              "      <td>5.0</td>\n",
              "      <td>1392940800</td>\n",
              "      <td>02 21, 2014</td>\n",
              "      <td>This pop filter is great. It looks and perform...</td>\n",
              "      <td>Positive</td>\n",
              "    </tr>\n",
              "  </tbody>\n",
              "</table>\n",
              "</div>\n",
              "      <button class=\"colab-df-convert\" onclick=\"convertToInteractive('df-39950822-1372-426f-81d4-21331f251e65')\"\n",
              "              title=\"Convert this dataframe to an interactive table.\"\n",
              "              style=\"display:none;\">\n",
              "        \n",
              "  <svg xmlns=\"http://www.w3.org/2000/svg\" height=\"24px\"viewBox=\"0 0 24 24\"\n",
              "       width=\"24px\">\n",
              "    <path d=\"M0 0h24v24H0V0z\" fill=\"none\"/>\n",
              "    <path d=\"M18.56 5.44l.94 2.06.94-2.06 2.06-.94-2.06-.94-.94-2.06-.94 2.06-2.06.94zm-11 1L8.5 8.5l.94-2.06 2.06-.94-2.06-.94L8.5 2.5l-.94 2.06-2.06.94zm10 10l.94 2.06.94-2.06 2.06-.94-2.06-.94-.94-2.06-.94 2.06-2.06.94z\"/><path d=\"M17.41 7.96l-1.37-1.37c-.4-.4-.92-.59-1.43-.59-.52 0-1.04.2-1.43.59L10.3 9.45l-7.72 7.72c-.78.78-.78 2.05 0 2.83L4 21.41c.39.39.9.59 1.41.59.51 0 1.02-.2 1.41-.59l7.78-7.78 2.81-2.81c.8-.78.8-2.07 0-2.86zM5.41 20L4 18.59l7.72-7.72 1.47 1.35L5.41 20z\"/>\n",
              "  </svg>\n",
              "      </button>\n",
              "      \n",
              "  <style>\n",
              "    .colab-df-container {\n",
              "      display:flex;\n",
              "      flex-wrap:wrap;\n",
              "      gap: 12px;\n",
              "    }\n",
              "\n",
              "    .colab-df-convert {\n",
              "      background-color: #E8F0FE;\n",
              "      border: none;\n",
              "      border-radius: 50%;\n",
              "      cursor: pointer;\n",
              "      display: none;\n",
              "      fill: #1967D2;\n",
              "      height: 32px;\n",
              "      padding: 0 0 0 0;\n",
              "      width: 32px;\n",
              "    }\n",
              "\n",
              "    .colab-df-convert:hover {\n",
              "      background-color: #E2EBFA;\n",
              "      box-shadow: 0px 1px 2px rgba(60, 64, 67, 0.3), 0px 1px 3px 1px rgba(60, 64, 67, 0.15);\n",
              "      fill: #174EA6;\n",
              "    }\n",
              "\n",
              "    [theme=dark] .colab-df-convert {\n",
              "      background-color: #3B4455;\n",
              "      fill: #D2E3FC;\n",
              "    }\n",
              "\n",
              "    [theme=dark] .colab-df-convert:hover {\n",
              "      background-color: #434B5C;\n",
              "      box-shadow: 0px 1px 3px 1px rgba(0, 0, 0, 0.15);\n",
              "      filter: drop-shadow(0px 1px 2px rgba(0, 0, 0, 0.3));\n",
              "      fill: #FFFFFF;\n",
              "    }\n",
              "  </style>\n",
              "\n",
              "      <script>\n",
              "        const buttonEl =\n",
              "          document.querySelector('#df-39950822-1372-426f-81d4-21331f251e65 button.colab-df-convert');\n",
              "        buttonEl.style.display =\n",
              "          google.colab.kernel.accessAllowed ? 'block' : 'none';\n",
              "\n",
              "        async function convertToInteractive(key) {\n",
              "          const element = document.querySelector('#df-39950822-1372-426f-81d4-21331f251e65');\n",
              "          const dataTable =\n",
              "            await google.colab.kernel.invokeFunction('convertToInteractive',\n",
              "                                                     [key], {});\n",
              "          if (!dataTable) return;\n",
              "\n",
              "          const docLinkHtml = 'Like what you see? Visit the ' +\n",
              "            '<a target=\"_blank\" href=https://colab.research.google.com/notebooks/data_table.ipynb>data table notebook</a>'\n",
              "            + ' to learn more about interactive tables.';\n",
              "          element.innerHTML = '';\n",
              "          dataTable['output_type'] = 'display_data';\n",
              "          await google.colab.output.renderOutput(dataTable, element);\n",
              "          const docLink = document.createElement('div');\n",
              "          docLink.innerHTML = docLinkHtml;\n",
              "          element.appendChild(docLink);\n",
              "        }\n",
              "      </script>\n",
              "    </div>\n",
              "  </div>\n",
              "  "
            ],
            "text/plain": [
              "       reviewerID  ... sentiment\n",
              "0  A2IBPI20UZIR0U  ...  Positive\n",
              "1  A14VAT5EAX3D9S  ...  Positive\n",
              "2  A195EZSQDW3E21  ...  Positive\n",
              "3  A2C00NNG1ZQQG2  ...  Positive\n",
              "4   A94QU4C90B1AX  ...  Positive\n",
              "\n",
              "[5 rows x 9 columns]"
            ]
          },
          "metadata": {},
          "execution_count": 10
        }
      ],
      "source": [
        "#Applying the function in our new column\n",
        "processed_data['sentiment'] = processed_data.apply(f, axis=1)\n",
        "processed_data.head()"
      ]
    },
    {
      "cell_type": "code",
      "execution_count": null,
      "metadata": {
        "execution": {
          "iopub.execute_input": "2020-08-08T06:25:34.091134Z",
          "iopub.status.busy": "2020-08-08T06:25:34.090068Z",
          "iopub.status.idle": "2020-08-08T06:25:34.094895Z",
          "shell.execute_reply": "2020-08-08T06:25:34.094259Z"
        },
        "papermill": {
          "duration": 0.041854,
          "end_time": "2020-08-08T06:25:34.095038",
          "exception": false,
          "start_time": "2020-08-08T06:25:34.053184",
          "status": "completed"
        },
        "tags": [],
        "id": "vIVP-tqFd33M",
        "outputId": "9fae4767-0a22-4709-b321-445c05208fe4",
        "colab": {
          "base_uri": "https://localhost:8080/"
        }
      },
      "outputs": [
        {
          "output_type": "execute_result",
          "data": {
            "text/plain": [
              "Positive    9022\n",
              "Neutral      772\n",
              "Negative     467\n",
              "Name: sentiment, dtype: int64"
            ]
          },
          "metadata": {},
          "execution_count": 11
        }
      ],
      "source": [
        "processed_data['sentiment'].value_counts()"
      ]
    },
    {
      "cell_type": "markdown",
      "metadata": {
        "papermill": {
          "duration": 0.027182,
          "end_time": "2020-08-08T06:25:34.149637",
          "exception": false,
          "start_time": "2020-08-08T06:25:34.122455",
          "status": "completed"
        },
        "tags": [],
        "id": "rhrq6dXOd33N"
      },
      "source": [
        "## Handling time column\n",
        "\n",
        "**Here we have a review time column which has date and year, once we split both we will split the date further into month and date.**"
      ]
    },
    {
      "cell_type": "code",
      "execution_count": null,
      "metadata": {
        "execution": {
          "iopub.execute_input": "2020-08-08T06:25:34.226584Z",
          "iopub.status.busy": "2020-08-08T06:25:34.218052Z",
          "iopub.status.idle": "2020-08-08T06:25:34.264638Z",
          "shell.execute_reply": "2020-08-08T06:25:34.263908Z"
        },
        "papermill": {
          "duration": 0.088121,
          "end_time": "2020-08-08T06:25:34.264765",
          "exception": false,
          "start_time": "2020-08-08T06:25:34.176644",
          "status": "completed"
        },
        "tags": [],
        "id": "80og-iSOd33N",
        "outputId": "04da315d-ef48-46ac-8441-ceab489907aa",
        "colab": {
          "base_uri": "https://localhost:8080/",
          "height": 206
        }
      },
      "outputs": [
        {
          "output_type": "execute_result",
          "data": {
            "text/html": [
              "\n",
              "  <div id=\"df-01345b35-c19a-4b5f-b6ef-bd22e8a8a3b4\">\n",
              "    <div class=\"colab-df-container\">\n",
              "      <div>\n",
              "<style scoped>\n",
              "    .dataframe tbody tr th:only-of-type {\n",
              "        vertical-align: middle;\n",
              "    }\n",
              "\n",
              "    .dataframe tbody tr th {\n",
              "        vertical-align: top;\n",
              "    }\n",
              "\n",
              "    .dataframe thead th {\n",
              "        text-align: right;\n",
              "    }\n",
              "</style>\n",
              "<table border=\"1\" class=\"dataframe\">\n",
              "  <thead>\n",
              "    <tr style=\"text-align: right;\">\n",
              "      <th></th>\n",
              "      <th>reviewerID</th>\n",
              "      <th>asin</th>\n",
              "      <th>reviewerName</th>\n",
              "      <th>helpful</th>\n",
              "      <th>overall</th>\n",
              "      <th>unixReviewTime</th>\n",
              "      <th>reviews</th>\n",
              "      <th>sentiment</th>\n",
              "      <th>date</th>\n",
              "      <th>year</th>\n",
              "    </tr>\n",
              "  </thead>\n",
              "  <tbody>\n",
              "    <tr>\n",
              "      <th>0</th>\n",
              "      <td>A2IBPI20UZIR0U</td>\n",
              "      <td>1384719342</td>\n",
              "      <td>cassandra tu \"Yeah, well, that's just like, u...</td>\n",
              "      <td>[0, 0]</td>\n",
              "      <td>5.0</td>\n",
              "      <td>1393545600</td>\n",
              "      <td>Not much to write about here, but it does exac...</td>\n",
              "      <td>Positive</td>\n",
              "      <td>02 28</td>\n",
              "      <td>2014</td>\n",
              "    </tr>\n",
              "    <tr>\n",
              "      <th>1</th>\n",
              "      <td>A14VAT5EAX3D9S</td>\n",
              "      <td>1384719342</td>\n",
              "      <td>Jake</td>\n",
              "      <td>[13, 14]</td>\n",
              "      <td>5.0</td>\n",
              "      <td>1363392000</td>\n",
              "      <td>The product does exactly as it should and is q...</td>\n",
              "      <td>Positive</td>\n",
              "      <td>03 16</td>\n",
              "      <td>2013</td>\n",
              "    </tr>\n",
              "    <tr>\n",
              "      <th>2</th>\n",
              "      <td>A195EZSQDW3E21</td>\n",
              "      <td>1384719342</td>\n",
              "      <td>Rick Bennette \"Rick Bennette\"</td>\n",
              "      <td>[1, 1]</td>\n",
              "      <td>5.0</td>\n",
              "      <td>1377648000</td>\n",
              "      <td>The primary job of this device is to block the...</td>\n",
              "      <td>Positive</td>\n",
              "      <td>08 28</td>\n",
              "      <td>2013</td>\n",
              "    </tr>\n",
              "    <tr>\n",
              "      <th>3</th>\n",
              "      <td>A2C00NNG1ZQQG2</td>\n",
              "      <td>1384719342</td>\n",
              "      <td>RustyBill \"Sunday Rocker\"</td>\n",
              "      <td>[0, 0]</td>\n",
              "      <td>5.0</td>\n",
              "      <td>1392336000</td>\n",
              "      <td>Nice windscreen protects my MXL mic and preven...</td>\n",
              "      <td>Positive</td>\n",
              "      <td>02 14</td>\n",
              "      <td>2014</td>\n",
              "    </tr>\n",
              "    <tr>\n",
              "      <th>4</th>\n",
              "      <td>A94QU4C90B1AX</td>\n",
              "      <td>1384719342</td>\n",
              "      <td>SEAN MASLANKA</td>\n",
              "      <td>[0, 0]</td>\n",
              "      <td>5.0</td>\n",
              "      <td>1392940800</td>\n",
              "      <td>This pop filter is great. It looks and perform...</td>\n",
              "      <td>Positive</td>\n",
              "      <td>02 21</td>\n",
              "      <td>2014</td>\n",
              "    </tr>\n",
              "  </tbody>\n",
              "</table>\n",
              "</div>\n",
              "      <button class=\"colab-df-convert\" onclick=\"convertToInteractive('df-01345b35-c19a-4b5f-b6ef-bd22e8a8a3b4')\"\n",
              "              title=\"Convert this dataframe to an interactive table.\"\n",
              "              style=\"display:none;\">\n",
              "        \n",
              "  <svg xmlns=\"http://www.w3.org/2000/svg\" height=\"24px\"viewBox=\"0 0 24 24\"\n",
              "       width=\"24px\">\n",
              "    <path d=\"M0 0h24v24H0V0z\" fill=\"none\"/>\n",
              "    <path d=\"M18.56 5.44l.94 2.06.94-2.06 2.06-.94-2.06-.94-.94-2.06-.94 2.06-2.06.94zm-11 1L8.5 8.5l.94-2.06 2.06-.94-2.06-.94L8.5 2.5l-.94 2.06-2.06.94zm10 10l.94 2.06.94-2.06 2.06-.94-2.06-.94-.94-2.06-.94 2.06-2.06.94z\"/><path d=\"M17.41 7.96l-1.37-1.37c-.4-.4-.92-.59-1.43-.59-.52 0-1.04.2-1.43.59L10.3 9.45l-7.72 7.72c-.78.78-.78 2.05 0 2.83L4 21.41c.39.39.9.59 1.41.59.51 0 1.02-.2 1.41-.59l7.78-7.78 2.81-2.81c.8-.78.8-2.07 0-2.86zM5.41 20L4 18.59l7.72-7.72 1.47 1.35L5.41 20z\"/>\n",
              "  </svg>\n",
              "      </button>\n",
              "      \n",
              "  <style>\n",
              "    .colab-df-container {\n",
              "      display:flex;\n",
              "      flex-wrap:wrap;\n",
              "      gap: 12px;\n",
              "    }\n",
              "\n",
              "    .colab-df-convert {\n",
              "      background-color: #E8F0FE;\n",
              "      border: none;\n",
              "      border-radius: 50%;\n",
              "      cursor: pointer;\n",
              "      display: none;\n",
              "      fill: #1967D2;\n",
              "      height: 32px;\n",
              "      padding: 0 0 0 0;\n",
              "      width: 32px;\n",
              "    }\n",
              "\n",
              "    .colab-df-convert:hover {\n",
              "      background-color: #E2EBFA;\n",
              "      box-shadow: 0px 1px 2px rgba(60, 64, 67, 0.3), 0px 1px 3px 1px rgba(60, 64, 67, 0.15);\n",
              "      fill: #174EA6;\n",
              "    }\n",
              "\n",
              "    [theme=dark] .colab-df-convert {\n",
              "      background-color: #3B4455;\n",
              "      fill: #D2E3FC;\n",
              "    }\n",
              "\n",
              "    [theme=dark] .colab-df-convert:hover {\n",
              "      background-color: #434B5C;\n",
              "      box-shadow: 0px 1px 3px 1px rgba(0, 0, 0, 0.15);\n",
              "      filter: drop-shadow(0px 1px 2px rgba(0, 0, 0, 0.3));\n",
              "      fill: #FFFFFF;\n",
              "    }\n",
              "  </style>\n",
              "\n",
              "      <script>\n",
              "        const buttonEl =\n",
              "          document.querySelector('#df-01345b35-c19a-4b5f-b6ef-bd22e8a8a3b4 button.colab-df-convert');\n",
              "        buttonEl.style.display =\n",
              "          google.colab.kernel.accessAllowed ? 'block' : 'none';\n",
              "\n",
              "        async function convertToInteractive(key) {\n",
              "          const element = document.querySelector('#df-01345b35-c19a-4b5f-b6ef-bd22e8a8a3b4');\n",
              "          const dataTable =\n",
              "            await google.colab.kernel.invokeFunction('convertToInteractive',\n",
              "                                                     [key], {});\n",
              "          if (!dataTable) return;\n",
              "\n",
              "          const docLinkHtml = 'Like what you see? Visit the ' +\n",
              "            '<a target=\"_blank\" href=https://colab.research.google.com/notebooks/data_table.ipynb>data table notebook</a>'\n",
              "            + ' to learn more about interactive tables.';\n",
              "          element.innerHTML = '';\n",
              "          dataTable['output_type'] = 'display_data';\n",
              "          await google.colab.output.renderOutput(dataTable, element);\n",
              "          const docLink = document.createElement('div');\n",
              "          docLink.innerHTML = docLinkHtml;\n",
              "          element.appendChild(docLink);\n",
              "        }\n",
              "      </script>\n",
              "    </div>\n",
              "  </div>\n",
              "  "
            ],
            "text/plain": [
              "       reviewerID        asin  ...   date   year\n",
              "0  A2IBPI20UZIR0U  1384719342  ...  02 28   2014\n",
              "1  A14VAT5EAX3D9S  1384719342  ...  03 16   2013\n",
              "2  A195EZSQDW3E21  1384719342  ...  08 28   2013\n",
              "3  A2C00NNG1ZQQG2  1384719342  ...  02 14   2014\n",
              "4   A94QU4C90B1AX  1384719342  ...  02 21   2014\n",
              "\n",
              "[5 rows x 10 columns]"
            ]
          },
          "metadata": {},
          "execution_count": 12
        }
      ],
      "source": [
        "# new data frame which has date and year\n",
        "new = processed_data[\"reviewTime\"].str.split(\",\", n = 1, expand = True) \n",
        "  \n",
        "# making separate date column from new data frame \n",
        "processed_data[\"date\"]= new[0] \n",
        "  \n",
        "# making separate year column from new data frame \n",
        "processed_data[\"year\"]= new[1] \n",
        "\n",
        "processed_data=processed_data.drop(['reviewTime'], axis=1)\n",
        "processed_data.head()"
      ]
    },
    {
      "cell_type": "code",
      "execution_count": null,
      "metadata": {
        "execution": {
          "iopub.execute_input": "2020-08-08T06:25:34.355867Z",
          "iopub.status.busy": "2020-08-08T06:25:34.355058Z",
          "iopub.status.idle": "2020-08-08T06:25:34.379642Z",
          "shell.execute_reply": "2020-08-08T06:25:34.378994Z"
        },
        "papermill": {
          "duration": 0.088289,
          "end_time": "2020-08-08T06:25:34.379769",
          "exception": false,
          "start_time": "2020-08-08T06:25:34.291480",
          "status": "completed"
        },
        "tags": [],
        "id": "1IZfmjwCd33O",
        "outputId": "99a9d5d3-5517-45ba-d49d-9312e4a8523c",
        "colab": {
          "base_uri": "https://localhost:8080/",
          "height": 206
        }
      },
      "outputs": [
        {
          "output_type": "execute_result",
          "data": {
            "text/html": [
              "\n",
              "  <div id=\"df-e7ed2805-b5a1-4a72-b833-0352dc53d5bf\">\n",
              "    <div class=\"colab-df-container\">\n",
              "      <div>\n",
              "<style scoped>\n",
              "    .dataframe tbody tr th:only-of-type {\n",
              "        vertical-align: middle;\n",
              "    }\n",
              "\n",
              "    .dataframe tbody tr th {\n",
              "        vertical-align: top;\n",
              "    }\n",
              "\n",
              "    .dataframe thead th {\n",
              "        text-align: right;\n",
              "    }\n",
              "</style>\n",
              "<table border=\"1\" class=\"dataframe\">\n",
              "  <thead>\n",
              "    <tr style=\"text-align: right;\">\n",
              "      <th></th>\n",
              "      <th>reviewerID</th>\n",
              "      <th>asin</th>\n",
              "      <th>reviewerName</th>\n",
              "      <th>helpful</th>\n",
              "      <th>overall</th>\n",
              "      <th>unixReviewTime</th>\n",
              "      <th>reviews</th>\n",
              "      <th>sentiment</th>\n",
              "      <th>year</th>\n",
              "      <th>month</th>\n",
              "      <th>day</th>\n",
              "    </tr>\n",
              "  </thead>\n",
              "  <tbody>\n",
              "    <tr>\n",
              "      <th>0</th>\n",
              "      <td>A2IBPI20UZIR0U</td>\n",
              "      <td>1384719342</td>\n",
              "      <td>cassandra tu \"Yeah, well, that's just like, u...</td>\n",
              "      <td>[0, 0]</td>\n",
              "      <td>5.0</td>\n",
              "      <td>1393545600</td>\n",
              "      <td>Not much to write about here, but it does exac...</td>\n",
              "      <td>Positive</td>\n",
              "      <td>2014</td>\n",
              "      <td>02</td>\n",
              "      <td>28</td>\n",
              "    </tr>\n",
              "    <tr>\n",
              "      <th>1</th>\n",
              "      <td>A14VAT5EAX3D9S</td>\n",
              "      <td>1384719342</td>\n",
              "      <td>Jake</td>\n",
              "      <td>[13, 14]</td>\n",
              "      <td>5.0</td>\n",
              "      <td>1363392000</td>\n",
              "      <td>The product does exactly as it should and is q...</td>\n",
              "      <td>Positive</td>\n",
              "      <td>2013</td>\n",
              "      <td>03</td>\n",
              "      <td>16</td>\n",
              "    </tr>\n",
              "    <tr>\n",
              "      <th>2</th>\n",
              "      <td>A195EZSQDW3E21</td>\n",
              "      <td>1384719342</td>\n",
              "      <td>Rick Bennette \"Rick Bennette\"</td>\n",
              "      <td>[1, 1]</td>\n",
              "      <td>5.0</td>\n",
              "      <td>1377648000</td>\n",
              "      <td>The primary job of this device is to block the...</td>\n",
              "      <td>Positive</td>\n",
              "      <td>2013</td>\n",
              "      <td>08</td>\n",
              "      <td>28</td>\n",
              "    </tr>\n",
              "    <tr>\n",
              "      <th>3</th>\n",
              "      <td>A2C00NNG1ZQQG2</td>\n",
              "      <td>1384719342</td>\n",
              "      <td>RustyBill \"Sunday Rocker\"</td>\n",
              "      <td>[0, 0]</td>\n",
              "      <td>5.0</td>\n",
              "      <td>1392336000</td>\n",
              "      <td>Nice windscreen protects my MXL mic and preven...</td>\n",
              "      <td>Positive</td>\n",
              "      <td>2014</td>\n",
              "      <td>02</td>\n",
              "      <td>14</td>\n",
              "    </tr>\n",
              "    <tr>\n",
              "      <th>4</th>\n",
              "      <td>A94QU4C90B1AX</td>\n",
              "      <td>1384719342</td>\n",
              "      <td>SEAN MASLANKA</td>\n",
              "      <td>[0, 0]</td>\n",
              "      <td>5.0</td>\n",
              "      <td>1392940800</td>\n",
              "      <td>This pop filter is great. It looks and perform...</td>\n",
              "      <td>Positive</td>\n",
              "      <td>2014</td>\n",
              "      <td>02</td>\n",
              "      <td>21</td>\n",
              "    </tr>\n",
              "  </tbody>\n",
              "</table>\n",
              "</div>\n",
              "      <button class=\"colab-df-convert\" onclick=\"convertToInteractive('df-e7ed2805-b5a1-4a72-b833-0352dc53d5bf')\"\n",
              "              title=\"Convert this dataframe to an interactive table.\"\n",
              "              style=\"display:none;\">\n",
              "        \n",
              "  <svg xmlns=\"http://www.w3.org/2000/svg\" height=\"24px\"viewBox=\"0 0 24 24\"\n",
              "       width=\"24px\">\n",
              "    <path d=\"M0 0h24v24H0V0z\" fill=\"none\"/>\n",
              "    <path d=\"M18.56 5.44l.94 2.06.94-2.06 2.06-.94-2.06-.94-.94-2.06-.94 2.06-2.06.94zm-11 1L8.5 8.5l.94-2.06 2.06-.94-2.06-.94L8.5 2.5l-.94 2.06-2.06.94zm10 10l.94 2.06.94-2.06 2.06-.94-2.06-.94-.94-2.06-.94 2.06-2.06.94z\"/><path d=\"M17.41 7.96l-1.37-1.37c-.4-.4-.92-.59-1.43-.59-.52 0-1.04.2-1.43.59L10.3 9.45l-7.72 7.72c-.78.78-.78 2.05 0 2.83L4 21.41c.39.39.9.59 1.41.59.51 0 1.02-.2 1.41-.59l7.78-7.78 2.81-2.81c.8-.78.8-2.07 0-2.86zM5.41 20L4 18.59l7.72-7.72 1.47 1.35L5.41 20z\"/>\n",
              "  </svg>\n",
              "      </button>\n",
              "      \n",
              "  <style>\n",
              "    .colab-df-container {\n",
              "      display:flex;\n",
              "      flex-wrap:wrap;\n",
              "      gap: 12px;\n",
              "    }\n",
              "\n",
              "    .colab-df-convert {\n",
              "      background-color: #E8F0FE;\n",
              "      border: none;\n",
              "      border-radius: 50%;\n",
              "      cursor: pointer;\n",
              "      display: none;\n",
              "      fill: #1967D2;\n",
              "      height: 32px;\n",
              "      padding: 0 0 0 0;\n",
              "      width: 32px;\n",
              "    }\n",
              "\n",
              "    .colab-df-convert:hover {\n",
              "      background-color: #E2EBFA;\n",
              "      box-shadow: 0px 1px 2px rgba(60, 64, 67, 0.3), 0px 1px 3px 1px rgba(60, 64, 67, 0.15);\n",
              "      fill: #174EA6;\n",
              "    }\n",
              "\n",
              "    [theme=dark] .colab-df-convert {\n",
              "      background-color: #3B4455;\n",
              "      fill: #D2E3FC;\n",
              "    }\n",
              "\n",
              "    [theme=dark] .colab-df-convert:hover {\n",
              "      background-color: #434B5C;\n",
              "      box-shadow: 0px 1px 3px 1px rgba(0, 0, 0, 0.15);\n",
              "      filter: drop-shadow(0px 1px 2px rgba(0, 0, 0, 0.3));\n",
              "      fill: #FFFFFF;\n",
              "    }\n",
              "  </style>\n",
              "\n",
              "      <script>\n",
              "        const buttonEl =\n",
              "          document.querySelector('#df-e7ed2805-b5a1-4a72-b833-0352dc53d5bf button.colab-df-convert');\n",
              "        buttonEl.style.display =\n",
              "          google.colab.kernel.accessAllowed ? 'block' : 'none';\n",
              "\n",
              "        async function convertToInteractive(key) {\n",
              "          const element = document.querySelector('#df-e7ed2805-b5a1-4a72-b833-0352dc53d5bf');\n",
              "          const dataTable =\n",
              "            await google.colab.kernel.invokeFunction('convertToInteractive',\n",
              "                                                     [key], {});\n",
              "          if (!dataTable) return;\n",
              "\n",
              "          const docLinkHtml = 'Like what you see? Visit the ' +\n",
              "            '<a target=\"_blank\" href=https://colab.research.google.com/notebooks/data_table.ipynb>data table notebook</a>'\n",
              "            + ' to learn more about interactive tables.';\n",
              "          element.innerHTML = '';\n",
              "          dataTable['output_type'] = 'display_data';\n",
              "          await google.colab.output.renderOutput(dataTable, element);\n",
              "          const docLink = document.createElement('div');\n",
              "          docLink.innerHTML = docLinkHtml;\n",
              "          element.appendChild(docLink);\n",
              "        }\n",
              "      </script>\n",
              "    </div>\n",
              "  </div>\n",
              "  "
            ],
            "text/plain": [
              "       reviewerID        asin  ... month day\n",
              "0  A2IBPI20UZIR0U  1384719342  ...    02  28\n",
              "1  A14VAT5EAX3D9S  1384719342  ...    03  16\n",
              "2  A195EZSQDW3E21  1384719342  ...    08  28\n",
              "3  A2C00NNG1ZQQG2  1384719342  ...    02  14\n",
              "4   A94QU4C90B1AX  1384719342  ...    02  21\n",
              "\n",
              "[5 rows x 11 columns]"
            ]
          },
          "metadata": {},
          "execution_count": 13
        }
      ],
      "source": [
        "# Splitting the date \n",
        "new1 = processed_data[\"date\"].str.split(\" \", n = 1, expand = True) \n",
        "  \n",
        "# adding month to the main dataset \n",
        "processed_data[\"month\"]= new1[0] \n",
        "  \n",
        "# adding day to the main dataset \n",
        "processed_data[\"day\"]= new1[1] \n",
        "\n",
        "processed_data=processed_data.drop(['date'], axis=1)\n",
        "processed_data.head()"
      ]
    },
    {
      "cell_type": "markdown",
      "metadata": {
        "papermill": {
          "duration": 0.027798,
          "end_time": "2020-08-08T06:25:34.940542",
          "exception": false,
          "start_time": "2020-08-08T06:25:34.912744",
          "status": "completed"
        },
        "tags": [],
        "id": "oFqbxpwJd33R"
      },
      "source": [
        "## Review text-Punctuation Cleaning\n",
        "**Let's begin our text processing by removing the punctuations**"
      ]
    },
    {
      "cell_type": "code",
      "execution_count": null,
      "metadata": {
        "execution": {
          "iopub.execute_input": "2020-08-08T06:25:35.006211Z",
          "iopub.status.busy": "2020-08-08T06:25:35.005071Z",
          "iopub.status.idle": "2020-08-08T06:25:35.010403Z",
          "shell.execute_reply": "2020-08-08T06:25:35.009749Z"
        },
        "papermill": {
          "duration": 0.041829,
          "end_time": "2020-08-08T06:25:35.010527",
          "exception": false,
          "start_time": "2020-08-08T06:25:34.968698",
          "status": "completed"
        },
        "tags": [],
        "id": "1JWeJ3wpd33R"
      },
      "outputs": [],
      "source": [
        "#Removing unnecessary columns\n",
        "processed_data=processed_data.drop(['reviewerName','unixReviewTime'], axis=1)\n",
        "#Creating a copy \n",
        "clean_reviews=processed_data.copy()"
      ]
    },
    {
      "cell_type": "code",
      "execution_count": null,
      "metadata": {
        "execution": {
          "iopub.execute_input": "2020-08-08T06:25:35.077181Z",
          "iopub.status.busy": "2020-08-08T06:25:35.076083Z",
          "iopub.status.idle": "2020-08-08T06:25:35.079503Z",
          "shell.execute_reply": "2020-08-08T06:25:35.078904Z"
        },
        "papermill": {
          "duration": 0.040939,
          "end_time": "2020-08-08T06:25:35.079630",
          "exception": false,
          "start_time": "2020-08-08T06:25:35.038691",
          "status": "completed"
        },
        "tags": [],
        "id": "6FFtn8rLd33T"
      },
      "outputs": [],
      "source": [
        "def review_cleaning(text):\n",
        "    '''Make text lowercase, remove text in square brackets,remove links,remove punctuation\n",
        "    and remove words containing numbers.'''\n",
        "    text = str(text).lower()\n",
        "    text = re.sub('\\[.*?\\]', '', text)\n",
        "    text = re.sub('https?://\\S+|www\\.\\S+', '', text)\n",
        "    text = re.sub('<.*?>+', '', text)\n",
        "    text = re.sub('[%s]' % re.escape(string.punctuation), '', text)\n",
        "    text = re.sub('\\n', '', text)\n",
        "    text = re.sub('\\w*\\d\\w*', '', text)\n",
        "    return text"
      ]
    },
    {
      "cell_type": "code",
      "execution_count": null,
      "metadata": {
        "execution": {
          "iopub.execute_input": "2020-08-08T06:25:35.183648Z",
          "iopub.status.busy": "2020-08-08T06:25:35.146839Z",
          "iopub.status.idle": "2020-08-08T06:25:37.071663Z",
          "shell.execute_reply": "2020-08-08T06:25:37.070930Z"
        },
        "papermill": {
          "duration": 1.964069,
          "end_time": "2020-08-08T06:25:37.071805",
          "exception": false,
          "start_time": "2020-08-08T06:25:35.107736",
          "status": "completed"
        },
        "tags": [],
        "id": "qOvjLuxyd33T",
        "outputId": "dc142613-8fe4-4f02-e793-5377ab04835a",
        "colab": {
          "base_uri": "https://localhost:8080/",
          "height": 206
        }
      },
      "outputs": [
        {
          "output_type": "execute_result",
          "data": {
            "text/html": [
              "\n",
              "  <div id=\"df-17755841-e71a-4538-be62-85dd5b1dfc0f\">\n",
              "    <div class=\"colab-df-container\">\n",
              "      <div>\n",
              "<style scoped>\n",
              "    .dataframe tbody tr th:only-of-type {\n",
              "        vertical-align: middle;\n",
              "    }\n",
              "\n",
              "    .dataframe tbody tr th {\n",
              "        vertical-align: top;\n",
              "    }\n",
              "\n",
              "    .dataframe thead th {\n",
              "        text-align: right;\n",
              "    }\n",
              "</style>\n",
              "<table border=\"1\" class=\"dataframe\">\n",
              "  <thead>\n",
              "    <tr style=\"text-align: right;\">\n",
              "      <th></th>\n",
              "      <th>reviewerID</th>\n",
              "      <th>asin</th>\n",
              "      <th>helpful</th>\n",
              "      <th>overall</th>\n",
              "      <th>reviews</th>\n",
              "      <th>sentiment</th>\n",
              "      <th>year</th>\n",
              "      <th>month</th>\n",
              "      <th>day</th>\n",
              "    </tr>\n",
              "  </thead>\n",
              "  <tbody>\n",
              "    <tr>\n",
              "      <th>0</th>\n",
              "      <td>A2IBPI20UZIR0U</td>\n",
              "      <td>1384719342</td>\n",
              "      <td>[0, 0]</td>\n",
              "      <td>5.0</td>\n",
              "      <td>not much to write about here but it does exact...</td>\n",
              "      <td>Positive</td>\n",
              "      <td>2014</td>\n",
              "      <td>02</td>\n",
              "      <td>28</td>\n",
              "    </tr>\n",
              "    <tr>\n",
              "      <th>1</th>\n",
              "      <td>A14VAT5EAX3D9S</td>\n",
              "      <td>1384719342</td>\n",
              "      <td>[13, 14]</td>\n",
              "      <td>5.0</td>\n",
              "      <td>the product does exactly as it should and is q...</td>\n",
              "      <td>Positive</td>\n",
              "      <td>2013</td>\n",
              "      <td>03</td>\n",
              "      <td>16</td>\n",
              "    </tr>\n",
              "    <tr>\n",
              "      <th>2</th>\n",
              "      <td>A195EZSQDW3E21</td>\n",
              "      <td>1384719342</td>\n",
              "      <td>[1, 1]</td>\n",
              "      <td>5.0</td>\n",
              "      <td>the primary job of this device is to block the...</td>\n",
              "      <td>Positive</td>\n",
              "      <td>2013</td>\n",
              "      <td>08</td>\n",
              "      <td>28</td>\n",
              "    </tr>\n",
              "    <tr>\n",
              "      <th>3</th>\n",
              "      <td>A2C00NNG1ZQQG2</td>\n",
              "      <td>1384719342</td>\n",
              "      <td>[0, 0]</td>\n",
              "      <td>5.0</td>\n",
              "      <td>nice windscreen protects my mxl mic and preven...</td>\n",
              "      <td>Positive</td>\n",
              "      <td>2014</td>\n",
              "      <td>02</td>\n",
              "      <td>14</td>\n",
              "    </tr>\n",
              "    <tr>\n",
              "      <th>4</th>\n",
              "      <td>A94QU4C90B1AX</td>\n",
              "      <td>1384719342</td>\n",
              "      <td>[0, 0]</td>\n",
              "      <td>5.0</td>\n",
              "      <td>this pop filter is great it looks and performs...</td>\n",
              "      <td>Positive</td>\n",
              "      <td>2014</td>\n",
              "      <td>02</td>\n",
              "      <td>21</td>\n",
              "    </tr>\n",
              "  </tbody>\n",
              "</table>\n",
              "</div>\n",
              "      <button class=\"colab-df-convert\" onclick=\"convertToInteractive('df-17755841-e71a-4538-be62-85dd5b1dfc0f')\"\n",
              "              title=\"Convert this dataframe to an interactive table.\"\n",
              "              style=\"display:none;\">\n",
              "        \n",
              "  <svg xmlns=\"http://www.w3.org/2000/svg\" height=\"24px\"viewBox=\"0 0 24 24\"\n",
              "       width=\"24px\">\n",
              "    <path d=\"M0 0h24v24H0V0z\" fill=\"none\"/>\n",
              "    <path d=\"M18.56 5.44l.94 2.06.94-2.06 2.06-.94-2.06-.94-.94-2.06-.94 2.06-2.06.94zm-11 1L8.5 8.5l.94-2.06 2.06-.94-2.06-.94L8.5 2.5l-.94 2.06-2.06.94zm10 10l.94 2.06.94-2.06 2.06-.94-2.06-.94-.94-2.06-.94 2.06-2.06.94z\"/><path d=\"M17.41 7.96l-1.37-1.37c-.4-.4-.92-.59-1.43-.59-.52 0-1.04.2-1.43.59L10.3 9.45l-7.72 7.72c-.78.78-.78 2.05 0 2.83L4 21.41c.39.39.9.59 1.41.59.51 0 1.02-.2 1.41-.59l7.78-7.78 2.81-2.81c.8-.78.8-2.07 0-2.86zM5.41 20L4 18.59l7.72-7.72 1.47 1.35L5.41 20z\"/>\n",
              "  </svg>\n",
              "      </button>\n",
              "      \n",
              "  <style>\n",
              "    .colab-df-container {\n",
              "      display:flex;\n",
              "      flex-wrap:wrap;\n",
              "      gap: 12px;\n",
              "    }\n",
              "\n",
              "    .colab-df-convert {\n",
              "      background-color: #E8F0FE;\n",
              "      border: none;\n",
              "      border-radius: 50%;\n",
              "      cursor: pointer;\n",
              "      display: none;\n",
              "      fill: #1967D2;\n",
              "      height: 32px;\n",
              "      padding: 0 0 0 0;\n",
              "      width: 32px;\n",
              "    }\n",
              "\n",
              "    .colab-df-convert:hover {\n",
              "      background-color: #E2EBFA;\n",
              "      box-shadow: 0px 1px 2px rgba(60, 64, 67, 0.3), 0px 1px 3px 1px rgba(60, 64, 67, 0.15);\n",
              "      fill: #174EA6;\n",
              "    }\n",
              "\n",
              "    [theme=dark] .colab-df-convert {\n",
              "      background-color: #3B4455;\n",
              "      fill: #D2E3FC;\n",
              "    }\n",
              "\n",
              "    [theme=dark] .colab-df-convert:hover {\n",
              "      background-color: #434B5C;\n",
              "      box-shadow: 0px 1px 3px 1px rgba(0, 0, 0, 0.15);\n",
              "      filter: drop-shadow(0px 1px 2px rgba(0, 0, 0, 0.3));\n",
              "      fill: #FFFFFF;\n",
              "    }\n",
              "  </style>\n",
              "\n",
              "      <script>\n",
              "        const buttonEl =\n",
              "          document.querySelector('#df-17755841-e71a-4538-be62-85dd5b1dfc0f button.colab-df-convert');\n",
              "        buttonEl.style.display =\n",
              "          google.colab.kernel.accessAllowed ? 'block' : 'none';\n",
              "\n",
              "        async function convertToInteractive(key) {\n",
              "          const element = document.querySelector('#df-17755841-e71a-4538-be62-85dd5b1dfc0f');\n",
              "          const dataTable =\n",
              "            await google.colab.kernel.invokeFunction('convertToInteractive',\n",
              "                                                     [key], {});\n",
              "          if (!dataTable) return;\n",
              "\n",
              "          const docLinkHtml = 'Like what you see? Visit the ' +\n",
              "            '<a target=\"_blank\" href=https://colab.research.google.com/notebooks/data_table.ipynb>data table notebook</a>'\n",
              "            + ' to learn more about interactive tables.';\n",
              "          element.innerHTML = '';\n",
              "          dataTable['output_type'] = 'display_data';\n",
              "          await google.colab.output.renderOutput(dataTable, element);\n",
              "          const docLink = document.createElement('div');\n",
              "          docLink.innerHTML = docLinkHtml;\n",
              "          element.appendChild(docLink);\n",
              "        }\n",
              "      </script>\n",
              "    </div>\n",
              "  </div>\n",
              "  "
            ],
            "text/plain": [
              "       reviewerID        asin   helpful  overall  ... sentiment   year month day\n",
              "0  A2IBPI20UZIR0U  1384719342    [0, 0]      5.0  ...  Positive   2014    02  28\n",
              "1  A14VAT5EAX3D9S  1384719342  [13, 14]      5.0  ...  Positive   2013    03  16\n",
              "2  A195EZSQDW3E21  1384719342    [1, 1]      5.0  ...  Positive   2013    08  28\n",
              "3  A2C00NNG1ZQQG2  1384719342    [0, 0]      5.0  ...  Positive   2014    02  14\n",
              "4   A94QU4C90B1AX  1384719342    [0, 0]      5.0  ...  Positive   2014    02  21\n",
              "\n",
              "[5 rows x 9 columns]"
            ]
          },
          "metadata": {},
          "execution_count": 16
        }
      ],
      "source": [
        "processed_data['reviews']=processed_data['reviews'].apply(lambda x:review_cleaning(x))\n",
        "processed_data.head()"
      ]
    },
    {
      "cell_type": "markdown",
      "metadata": {
        "papermill": {
          "duration": 0.028946,
          "end_time": "2020-08-08T06:25:37.129402",
          "exception": false,
          "start_time": "2020-08-08T06:25:37.100456",
          "status": "completed"
        },
        "tags": [],
        "id": "nf5KM4s_d33T"
      },
      "source": [
        "**I have removed all punctuation in the review column**"
      ]
    },
    {
      "cell_type": "markdown",
      "metadata": {
        "papermill": {
          "duration": 0.028045,
          "end_time": "2020-08-08T06:25:37.186591",
          "exception": false,
          "start_time": "2020-08-08T06:25:37.158546",
          "status": "completed"
        },
        "tags": [],
        "id": "FVFxGhNSd33U"
      },
      "source": [
        "## Review text-Stop words\n",
        "**Coming to stop words, general nltk stop words contains words like not,hasn't,would'nt which actually conveys a negative sentiment. If we remove that it will end up contradicting the target variable(sentiment). So I have curated the stop words which doesn't have any negative sentiment or any negative alternatives.**"
      ]
    },
    {
      "cell_type": "code",
      "execution_count": null,
      "metadata": {
        "_kg_hide-input": true,
        "execution": {
          "iopub.execute_input": "2020-08-08T06:25:37.302547Z",
          "iopub.status.busy": "2020-08-08T06:25:37.301457Z",
          "iopub.status.idle": "2020-08-08T06:25:37.304096Z",
          "shell.execute_reply": "2020-08-08T06:25:37.304656Z"
        },
        "papermill": {
          "duration": 0.089825,
          "end_time": "2020-08-08T06:25:37.304812",
          "exception": false,
          "start_time": "2020-08-08T06:25:37.214987",
          "status": "completed"
        },
        "tags": [],
        "id": "b9-b5f3Hd33U"
      },
      "outputs": [],
      "source": [
        "stop_words= ['yourselves', 'between', 'whom', 'itself', 'is', \"she's\", 'up', 'herself', 'here', 'your', 'each', \n",
        "             'we', 'he', 'my', \"you've\", 'having', 'in', 'both', 'for', 'themselves', 'are', 'them', 'other',\n",
        "             'and', 'an', 'during', 'their', 'can', 'yourself', 'she', 'until', 'so', 'these', 'ours', 'above', \n",
        "             'what', 'while', 'have', 're', 'more', 'only', \"needn't\", 'when', 'just', 'that', 'were', \"don't\", \n",
        "             'very', 'should', 'any', 'y', 'isn', 'who',  'a', 'they', 'to', 'too', \"should've\", 'has', 'before',\n",
        "             'into', 'yours', \"it's\", 'do', 'against', 'on',  'now', 'her', 've', 'd', 'by', 'am', 'from', \n",
        "             'about', 'further', \"that'll\", \"you'd\", 'you', 'as', 'how', 'been', 'the', 'or', 'doing', 'such',\n",
        "             'his', 'himself', 'ourselves',  'was', 'through', 'out', 'below', 'own', 'myself', 'theirs', \n",
        "             'me', 'why', 'once',  'him', 'than', 'be', 'most', \"you'll\", 'same', 'some', 'with', 'few', 'it',\n",
        "             'at', 'after', 'its', 'which', 'there','our', 'this', 'hers', 'being', 'did', 'of', 'had', 'under',\n",
        "             'over','again', 'where', 'those', 'then', \"you're\", 'i', 'because', 'does', 'all']"
      ]
    },
    {
      "cell_type": "code",
      "execution_count": null,
      "metadata": {
        "execution": {
          "iopub.execute_input": "2020-08-08T06:25:37.383254Z",
          "iopub.status.busy": "2020-08-08T06:25:37.378253Z",
          "iopub.status.idle": "2020-08-08T06:25:39.252775Z",
          "shell.execute_reply": "2020-08-08T06:25:39.251976Z"
        },
        "papermill": {
          "duration": 1.91968,
          "end_time": "2020-08-08T06:25:39.252902",
          "exception": false,
          "start_time": "2020-08-08T06:25:37.333222",
          "status": "completed"
        },
        "tags": [],
        "id": "ztLKeD0Xd33V",
        "outputId": "2662a914-f085-4309-a627-e36b5b7fa7e9",
        "colab": {
          "base_uri": "https://localhost:8080/",
          "height": 206
        }
      },
      "outputs": [
        {
          "output_type": "execute_result",
          "data": {
            "text/html": [
              "\n",
              "  <div id=\"df-45acc947-38fc-4ce4-a12f-a92462b21469\">\n",
              "    <div class=\"colab-df-container\">\n",
              "      <div>\n",
              "<style scoped>\n",
              "    .dataframe tbody tr th:only-of-type {\n",
              "        vertical-align: middle;\n",
              "    }\n",
              "\n",
              "    .dataframe tbody tr th {\n",
              "        vertical-align: top;\n",
              "    }\n",
              "\n",
              "    .dataframe thead th {\n",
              "        text-align: right;\n",
              "    }\n",
              "</style>\n",
              "<table border=\"1\" class=\"dataframe\">\n",
              "  <thead>\n",
              "    <tr style=\"text-align: right;\">\n",
              "      <th></th>\n",
              "      <th>reviewerID</th>\n",
              "      <th>asin</th>\n",
              "      <th>helpful</th>\n",
              "      <th>overall</th>\n",
              "      <th>reviews</th>\n",
              "      <th>sentiment</th>\n",
              "      <th>year</th>\n",
              "      <th>month</th>\n",
              "      <th>day</th>\n",
              "    </tr>\n",
              "  </thead>\n",
              "  <tbody>\n",
              "    <tr>\n",
              "      <th>0</th>\n",
              "      <td>A2IBPI20UZIR0U</td>\n",
              "      <td>1384719342</td>\n",
              "      <td>[0, 0]</td>\n",
              "      <td>5.0</td>\n",
              "      <td>not much write but exactly supposed filters po...</td>\n",
              "      <td>Positive</td>\n",
              "      <td>2014</td>\n",
              "      <td>02</td>\n",
              "      <td>28</td>\n",
              "    </tr>\n",
              "    <tr>\n",
              "      <th>1</th>\n",
              "      <td>A14VAT5EAX3D9S</td>\n",
              "      <td>1384719342</td>\n",
              "      <td>[13, 14]</td>\n",
              "      <td>5.0</td>\n",
              "      <td>product exactly quite affordablei not realized...</td>\n",
              "      <td>Positive</td>\n",
              "      <td>2013</td>\n",
              "      <td>03</td>\n",
              "      <td>16</td>\n",
              "    </tr>\n",
              "    <tr>\n",
              "      <th>2</th>\n",
              "      <td>A195EZSQDW3E21</td>\n",
              "      <td>1384719342</td>\n",
              "      <td>[1, 1]</td>\n",
              "      <td>5.0</td>\n",
              "      <td>primary job device block breath would otherwis...</td>\n",
              "      <td>Positive</td>\n",
              "      <td>2013</td>\n",
              "      <td>08</td>\n",
              "      <td>28</td>\n",
              "    </tr>\n",
              "    <tr>\n",
              "      <th>3</th>\n",
              "      <td>A2C00NNG1ZQQG2</td>\n",
              "      <td>1384719342</td>\n",
              "      <td>[0, 0]</td>\n",
              "      <td>5.0</td>\n",
              "      <td>nice windscreen protects mxl mic prevents pops...</td>\n",
              "      <td>Positive</td>\n",
              "      <td>2014</td>\n",
              "      <td>02</td>\n",
              "      <td>14</td>\n",
              "    </tr>\n",
              "    <tr>\n",
              "      <th>4</th>\n",
              "      <td>A94QU4C90B1AX</td>\n",
              "      <td>1384719342</td>\n",
              "      <td>[0, 0]</td>\n",
              "      <td>5.0</td>\n",
              "      <td>pop filter great looks performs like studio fi...</td>\n",
              "      <td>Positive</td>\n",
              "      <td>2014</td>\n",
              "      <td>02</td>\n",
              "      <td>21</td>\n",
              "    </tr>\n",
              "  </tbody>\n",
              "</table>\n",
              "</div>\n",
              "      <button class=\"colab-df-convert\" onclick=\"convertToInteractive('df-45acc947-38fc-4ce4-a12f-a92462b21469')\"\n",
              "              title=\"Convert this dataframe to an interactive table.\"\n",
              "              style=\"display:none;\">\n",
              "        \n",
              "  <svg xmlns=\"http://www.w3.org/2000/svg\" height=\"24px\"viewBox=\"0 0 24 24\"\n",
              "       width=\"24px\">\n",
              "    <path d=\"M0 0h24v24H0V0z\" fill=\"none\"/>\n",
              "    <path d=\"M18.56 5.44l.94 2.06.94-2.06 2.06-.94-2.06-.94-.94-2.06-.94 2.06-2.06.94zm-11 1L8.5 8.5l.94-2.06 2.06-.94-2.06-.94L8.5 2.5l-.94 2.06-2.06.94zm10 10l.94 2.06.94-2.06 2.06-.94-2.06-.94-.94-2.06-.94 2.06-2.06.94z\"/><path d=\"M17.41 7.96l-1.37-1.37c-.4-.4-.92-.59-1.43-.59-.52 0-1.04.2-1.43.59L10.3 9.45l-7.72 7.72c-.78.78-.78 2.05 0 2.83L4 21.41c.39.39.9.59 1.41.59.51 0 1.02-.2 1.41-.59l7.78-7.78 2.81-2.81c.8-.78.8-2.07 0-2.86zM5.41 20L4 18.59l7.72-7.72 1.47 1.35L5.41 20z\"/>\n",
              "  </svg>\n",
              "      </button>\n",
              "      \n",
              "  <style>\n",
              "    .colab-df-container {\n",
              "      display:flex;\n",
              "      flex-wrap:wrap;\n",
              "      gap: 12px;\n",
              "    }\n",
              "\n",
              "    .colab-df-convert {\n",
              "      background-color: #E8F0FE;\n",
              "      border: none;\n",
              "      border-radius: 50%;\n",
              "      cursor: pointer;\n",
              "      display: none;\n",
              "      fill: #1967D2;\n",
              "      height: 32px;\n",
              "      padding: 0 0 0 0;\n",
              "      width: 32px;\n",
              "    }\n",
              "\n",
              "    .colab-df-convert:hover {\n",
              "      background-color: #E2EBFA;\n",
              "      box-shadow: 0px 1px 2px rgba(60, 64, 67, 0.3), 0px 1px 3px 1px rgba(60, 64, 67, 0.15);\n",
              "      fill: #174EA6;\n",
              "    }\n",
              "\n",
              "    [theme=dark] .colab-df-convert {\n",
              "      background-color: #3B4455;\n",
              "      fill: #D2E3FC;\n",
              "    }\n",
              "\n",
              "    [theme=dark] .colab-df-convert:hover {\n",
              "      background-color: #434B5C;\n",
              "      box-shadow: 0px 1px 3px 1px rgba(0, 0, 0, 0.15);\n",
              "      filter: drop-shadow(0px 1px 2px rgba(0, 0, 0, 0.3));\n",
              "      fill: #FFFFFF;\n",
              "    }\n",
              "  </style>\n",
              "\n",
              "      <script>\n",
              "        const buttonEl =\n",
              "          document.querySelector('#df-45acc947-38fc-4ce4-a12f-a92462b21469 button.colab-df-convert');\n",
              "        buttonEl.style.display =\n",
              "          google.colab.kernel.accessAllowed ? 'block' : 'none';\n",
              "\n",
              "        async function convertToInteractive(key) {\n",
              "          const element = document.querySelector('#df-45acc947-38fc-4ce4-a12f-a92462b21469');\n",
              "          const dataTable =\n",
              "            await google.colab.kernel.invokeFunction('convertToInteractive',\n",
              "                                                     [key], {});\n",
              "          if (!dataTable) return;\n",
              "\n",
              "          const docLinkHtml = 'Like what you see? Visit the ' +\n",
              "            '<a target=\"_blank\" href=https://colab.research.google.com/notebooks/data_table.ipynb>data table notebook</a>'\n",
              "            + ' to learn more about interactive tables.';\n",
              "          element.innerHTML = '';\n",
              "          dataTable['output_type'] = 'display_data';\n",
              "          await google.colab.output.renderOutput(dataTable, element);\n",
              "          const docLink = document.createElement('div');\n",
              "          docLink.innerHTML = docLinkHtml;\n",
              "          element.appendChild(docLink);\n",
              "        }\n",
              "      </script>\n",
              "    </div>\n",
              "  </div>\n",
              "  "
            ],
            "text/plain": [
              "       reviewerID        asin   helpful  overall  ... sentiment   year month day\n",
              "0  A2IBPI20UZIR0U  1384719342    [0, 0]      5.0  ...  Positive   2014    02  28\n",
              "1  A14VAT5EAX3D9S  1384719342  [13, 14]      5.0  ...  Positive   2013    03  16\n",
              "2  A195EZSQDW3E21  1384719342    [1, 1]      5.0  ...  Positive   2013    08  28\n",
              "3  A2C00NNG1ZQQG2  1384719342    [0, 0]      5.0  ...  Positive   2014    02  14\n",
              "4   A94QU4C90B1AX  1384719342    [0, 0]      5.0  ...  Positive   2014    02  21\n",
              "\n",
              "[5 rows x 9 columns]"
            ]
          },
          "metadata": {},
          "execution_count": 18
        }
      ],
      "source": [
        "processed_data['reviews'] = processed_data['reviews'].apply(lambda x: ' '.join([word for word in x.split() if word not in (stop_words)]))\n",
        "processed_data.head()"
      ]
    },
    {
      "cell_type": "markdown",
      "metadata": {
        "papermill": {
          "duration": 0.028374,
          "end_time": "2020-08-08T06:25:39.310364",
          "exception": false,
          "start_time": "2020-08-08T06:25:39.281990",
          "status": "completed"
        },
        "tags": [],
        "id": "96QZ8pBid33V"
      },
      "source": [
        "I have removed all the stop words in the review column"
      ]
    },
    {
      "cell_type": "markdown",
      "metadata": {
        "papermill": {
          "duration": 0.029333,
          "end_time": "2020-08-08T06:25:40.052697",
          "exception": false,
          "start_time": "2020-08-08T06:25:40.023364",
          "status": "completed"
        },
        "tags": [],
        "id": "QAQqSWzGd33Y"
      },
      "source": [
        "## Year vs Sentiment count\n",
        "**In this block we will see how many reviews were posted based on sentiments in each year from 2004 to 2014**"
      ]
    },
    {
      "cell_type": "code",
      "execution_count": null,
      "metadata": {
        "_kg_hide-input": true,
        "execution": {
          "iopub.execute_input": "2020-08-08T06:25:40.120319Z",
          "iopub.status.busy": "2020-08-08T06:25:40.119507Z",
          "iopub.status.idle": "2020-08-08T06:25:40.364671Z",
          "shell.execute_reply": "2020-08-08T06:25:40.364059Z"
        },
        "papermill": {
          "duration": 0.282373,
          "end_time": "2020-08-08T06:25:40.364798",
          "exception": false,
          "start_time": "2020-08-08T06:25:40.082425",
          "status": "completed"
        },
        "tags": [],
        "id": "CcZVV-6xd33Y",
        "outputId": "754bbb2b-4eca-46cf-f3e1-a8115292a1b1",
        "colab": {
          "base_uri": "https://localhost:8080/",
          "height": 313
        }
      },
      "outputs": [
        {
          "output_type": "display_data",
          "data": {
            "text/plain": [
              "<Figure size 720x1080 with 0 Axes>"
            ]
          },
          "metadata": {}
        },
        {
          "output_type": "display_data",
          "data": {
            "image/png": "[encoded data removed]",
            "text/plain": [
              "<Figure size 432x288 with 1 Axes>"
            ]
          },
          "metadata": {
            "needs_background": "light"
          }
        }
      ],
      "source": [
        "plt.figure(figsize=(10,15))\n",
        "processed_data.groupby(['year','sentiment'])['sentiment'].count().unstack().plot(legend=True)\n",
        "\n",
        "plt.title('Year and Sentiment count')\n",
        "plt.xlabel('Year')\n",
        "plt.ylabel('Sentiment count')\n",
        "plt.show()"
      ]
    },
    {
      "cell_type": "markdown",
      "metadata": {
        "papermill": {
          "duration": 0.03032,
          "end_time": "2020-08-08T06:25:40.425915",
          "exception": false,
          "start_time": "2020-08-08T06:25:40.395595",
          "status": "completed"
        },
        "tags": [],
        "id": "8zbJvlxbd33Y"
      },
      "source": [
        "**Insights:** <br>\n",
        "**From the plot we can clearly see the rise in positive reviews from 2010. Reaching its peak around 2013 and there is a dip in 2014, All the review rates were dropped at this time. Negative and neutral reviews are very low as compared to the positive reviews. This also shows the psycological fear that people have before selling a product is simply a fear in their minds.**"
      ]
    },
    {
      "cell_type": "markdown",
      "metadata": {
        "papermill": {
          "duration": 0.030176,
          "end_time": "2020-08-08T06:25:40.486767",
          "exception": false,
          "start_time": "2020-08-08T06:25:40.456591",
          "status": "completed"
        },
        "tags": [],
        "id": "crqYnXEid33Z"
      },
      "source": [
        "## Day of month vs Reviews count\n",
        "**Let's check if there are any relationship between reviews and day of month**"
      ]
    },
    {
      "cell_type": "code",
      "execution_count": null,
      "metadata": {
        "_kg_hide-input": true,
        "execution": {
          "iopub.execute_input": "2020-08-08T06:25:40.558663Z",
          "iopub.status.busy": "2020-08-08T06:25:40.557644Z",
          "iopub.status.idle": "2020-08-08T06:25:41.082341Z",
          "shell.execute_reply": "2020-08-08T06:25:41.082932Z"
        },
        "papermill": {
          "duration": 0.564884,
          "end_time": "2020-08-08T06:25:41.083085",
          "exception": false,
          "start_time": "2020-08-08T06:25:40.518201",
          "status": "completed"
        },
        "tags": [],
        "id": "gn5Z-kPFd33Z",
        "outputId": "01e76d61-7b19-41dd-d9d0-ee8bd980c704",
        "colab": {
          "base_uri": "https://localhost:8080/",
          "height": 621
        }
      },
      "outputs": [
        {
          "output_type": "display_data",
          "data": {
            "image/png": "[encoded data removed]",
            "text/plain": [
              "<Figure size 1440x720 with 1 Axes>"
            ]
          },
          "metadata": {
            "needs_background": "light"
          }
        }
      ],
      "source": [
        "#Creating a dataframe\n",
        "day=pd.DataFrame(processed_data.groupby('day')['reviews'].count()).reset_index()\n",
        "day['day']=day['day'].astype('int64')\n",
        "day.sort_values(by=['day'])\n",
        "\n",
        "#Plotting the graph\n",
        "plt.figure(figsize=(20,10))\n",
        "sns.barplot(x=\"day\", y=\"reviews\", data=day)\n",
        "plt.title('Day vs Reviews count')\n",
        "plt.xlabel('Day')\n",
        "plt.ylabel('Reviews count')\n",
        "plt.show()"
      ]
    },
    {
      "cell_type": "markdown",
      "metadata": {
        "papermill": {
          "duration": 0.030872,
          "end_time": "2020-08-08T06:25:41.145460",
          "exception": false,
          "start_time": "2020-08-08T06:25:41.114588",
          "status": "completed"
        },
        "tags": [],
        "id": "mSSnK0Uad33Z"
      },
      "source": [
        "**Insights:** <br>\n",
        "**The review counts are more or less uniformly distributed.There isn't much variance between the days. But there is a huge drop at the end of month.**"
      ]
    },
    {
      "cell_type": "markdown",
      "metadata": {
        "papermill": {
          "duration": 0.030856,
          "end_time": "2020-08-08T06:25:41.208525",
          "exception": false,
          "start_time": "2020-08-08T06:25:41.177669",
          "status": "completed"
        },
        "tags": [],
        "id": "MhCtgxA5d33a"
      },
      "source": [
        "## Creating few more features for text analysis\n",
        "**Creating polarity, review length and word count**\n",
        "\n",
        "**Polarity:** **I've used Textblob for figuring out the rate of sentiment . It is between [-1,1] where -1 is negative and 1 is positive polarity**\n",
        "\n",
        "**Review length:** **length of the review which includes each letters and spaces**\n",
        "\n",
        "**Word length:** **This measures how many words are there in review**"
      ]
    },
    {
      "cell_type": "code",
      "execution_count": null,
      "metadata": {
        "execution": {
          "iopub.execute_input": "2020-08-08T06:25:41.280655Z",
          "iopub.status.busy": "2020-08-08T06:25:41.279775Z",
          "iopub.status.idle": "2020-08-08T06:25:47.538962Z",
          "shell.execute_reply": "2020-08-08T06:25:47.538289Z"
        },
        "papermill": {
          "duration": 6.299346,
          "end_time": "2020-08-08T06:25:47.539099",
          "exception": false,
          "start_time": "2020-08-08T06:25:41.239753",
          "status": "completed"
        },
        "tags": [],
        "id": "lQN6yUPZd33a"
      },
      "outputs": [],
      "source": [
        "processed_data['polarity'] = processed_data['reviews'].map(lambda text: TextBlob(text).sentiment.polarity)\n",
        "processed_data['review_len'] = processed_data['reviews'].astype(str).apply(len)\n",
        "processed_data['word_count'] = processed_data['reviews'].apply(lambda x: len(str(x).split()))"
      ]
    },
    {
      "cell_type": "code",
      "execution_count": null,
      "metadata": {
        "execution": {
          "iopub.execute_input": "2020-08-08T06:25:47.620922Z",
          "iopub.status.busy": "2020-08-08T06:25:47.612837Z",
          "iopub.status.idle": "2020-08-08T06:25:47.625881Z",
          "shell.execute_reply": "2020-08-08T06:25:47.625151Z"
        },
        "papermill": {
          "duration": 0.05569,
          "end_time": "2020-08-08T06:25:47.626004",
          "exception": false,
          "start_time": "2020-08-08T06:25:47.570314",
          "status": "completed"
        },
        "tags": [],
        "id": "Ngrr-74zd33b",
        "outputId": "c8b14735-2a8a-4f6c-886e-e2e82a48b1aa",
        "colab": {
          "base_uri": "https://localhost:8080/",
          "height": 206
        }
      },
      "outputs": [
        {
          "output_type": "execute_result",
          "data": {
            "text/html": [
              "\n",
              "  <div id=\"df-108578d5-b1fe-4c5e-990e-ec0bf3ffb12c\">\n",
              "    <div class=\"colab-df-container\">\n",
              "      <div>\n",
              "<style scoped>\n",
              "    .dataframe tbody tr th:only-of-type {\n",
              "        vertical-align: middle;\n",
              "    }\n",
              "\n",
              "    .dataframe tbody tr th {\n",
              "        vertical-align: top;\n",
              "    }\n",
              "\n",
              "    .dataframe thead th {\n",
              "        text-align: right;\n",
              "    }\n",
              "</style>\n",
              "<table border=\"1\" class=\"dataframe\">\n",
              "  <thead>\n",
              "    <tr style=\"text-align: right;\">\n",
              "      <th></th>\n",
              "      <th>reviewerID</th>\n",
              "      <th>asin</th>\n",
              "      <th>helpful</th>\n",
              "      <th>overall</th>\n",
              "      <th>reviews</th>\n",
              "      <th>sentiment</th>\n",
              "      <th>year</th>\n",
              "      <th>month</th>\n",
              "      <th>day</th>\n",
              "      <th>polarity</th>\n",
              "      <th>review_len</th>\n",
              "      <th>word_count</th>\n",
              "    </tr>\n",
              "  </thead>\n",
              "  <tbody>\n",
              "    <tr>\n",
              "      <th>0</th>\n",
              "      <td>A2IBPI20UZIR0U</td>\n",
              "      <td>1384719342</td>\n",
              "      <td>[0, 0]</td>\n",
              "      <td>5.0</td>\n",
              "      <td>not much write but exactly supposed filters po...</td>\n",
              "      <td>Positive</td>\n",
              "      <td>2014</td>\n",
              "      <td>02</td>\n",
              "      <td>28</td>\n",
              "      <td>0.250000</td>\n",
              "      <td>162</td>\n",
              "      <td>25</td>\n",
              "    </tr>\n",
              "    <tr>\n",
              "      <th>1</th>\n",
              "      <td>A14VAT5EAX3D9S</td>\n",
              "      <td>1384719342</td>\n",
              "      <td>[13, 14]</td>\n",
              "      <td>5.0</td>\n",
              "      <td>product exactly quite affordablei not realized...</td>\n",
              "      <td>Positive</td>\n",
              "      <td>2013</td>\n",
              "      <td>03</td>\n",
              "      <td>16</td>\n",
              "      <td>0.014286</td>\n",
              "      <td>356</td>\n",
              "      <td>55</td>\n",
              "    </tr>\n",
              "    <tr>\n",
              "      <th>2</th>\n",
              "      <td>A195EZSQDW3E21</td>\n",
              "      <td>1384719342</td>\n",
              "      <td>[1, 1]</td>\n",
              "      <td>5.0</td>\n",
              "      <td>primary job device block breath would otherwis...</td>\n",
              "      <td>Positive</td>\n",
              "      <td>2013</td>\n",
              "      <td>08</td>\n",
              "      <td>28</td>\n",
              "      <td>0.167500</td>\n",
              "      <td>315</td>\n",
              "      <td>48</td>\n",
              "    </tr>\n",
              "    <tr>\n",
              "      <th>3</th>\n",
              "      <td>A2C00NNG1ZQQG2</td>\n",
              "      <td>1384719342</td>\n",
              "      <td>[0, 0]</td>\n",
              "      <td>5.0</td>\n",
              "      <td>nice windscreen protects mxl mic prevents pops...</td>\n",
              "      <td>Positive</td>\n",
              "      <td>2014</td>\n",
              "      <td>02</td>\n",
              "      <td>14</td>\n",
              "      <td>0.333333</td>\n",
              "      <td>169</td>\n",
              "      <td>22</td>\n",
              "    </tr>\n",
              "    <tr>\n",
              "      <th>4</th>\n",
              "      <td>A94QU4C90B1AX</td>\n",
              "      <td>1384719342</td>\n",
              "      <td>[0, 0]</td>\n",
              "      <td>5.0</td>\n",
              "      <td>pop filter great looks performs like studio fi...</td>\n",
              "      <td>Positive</td>\n",
              "      <td>2014</td>\n",
              "      <td>02</td>\n",
              "      <td>21</td>\n",
              "      <td>0.800000</td>\n",
              "      <td>136</td>\n",
              "      <td>21</td>\n",
              "    </tr>\n",
              "  </tbody>\n",
              "</table>\n",
              "</div>\n",
              "      <button class=\"colab-df-convert\" onclick=\"convertToInteractive('df-108578d5-b1fe-4c5e-990e-ec0bf3ffb12c')\"\n",
              "              title=\"Convert this dataframe to an interactive table.\"\n",
              "              style=\"display:none;\">\n",
              "        \n",
              "  <svg xmlns=\"http://www.w3.org/2000/svg\" height=\"24px\"viewBox=\"0 0 24 24\"\n",
              "       width=\"24px\">\n",
              "    <path d=\"M0 0h24v24H0V0z\" fill=\"none\"/>\n",
              "    <path d=\"M18.56 5.44l.94 2.06.94-2.06 2.06-.94-2.06-.94-.94-2.06-.94 2.06-2.06.94zm-11 1L8.5 8.5l.94-2.06 2.06-.94-2.06-.94L8.5 2.5l-.94 2.06-2.06.94zm10 10l.94 2.06.94-2.06 2.06-.94-2.06-.94-.94-2.06-.94 2.06-2.06.94z\"/><path d=\"M17.41 7.96l-1.37-1.37c-.4-.4-.92-.59-1.43-.59-.52 0-1.04.2-1.43.59L10.3 9.45l-7.72 7.72c-.78.78-.78 2.05 0 2.83L4 21.41c.39.39.9.59 1.41.59.51 0 1.02-.2 1.41-.59l7.78-7.78 2.81-2.81c.8-.78.8-2.07 0-2.86zM5.41 20L4 18.59l7.72-7.72 1.47 1.35L5.41 20z\"/>\n",
              "  </svg>\n",
              "      </button>\n",
              "      \n",
              "  <style>\n",
              "    .colab-df-container {\n",
              "      display:flex;\n",
              "      flex-wrap:wrap;\n",
              "      gap: 12px;\n",
              "    }\n",
              "\n",
              "    .colab-df-convert {\n",
              "      background-color: #E8F0FE;\n",
              "      border: none;\n",
              "      border-radius: 50%;\n",
              "      cursor: pointer;\n",
              "      display: none;\n",
              "      fill: #1967D2;\n",
              "      height: 32px;\n",
              "      padding: 0 0 0 0;\n",
              "      width: 32px;\n",
              "    }\n",
              "\n",
              "    .colab-df-convert:hover {\n",
              "      background-color: #E2EBFA;\n",
              "      box-shadow: 0px 1px 2px rgba(60, 64, 67, 0.3), 0px 1px 3px 1px rgba(60, 64, 67, 0.15);\n",
              "      fill: #174EA6;\n",
              "    }\n",
              "\n",
              "    [theme=dark] .colab-df-convert {\n",
              "      background-color: #3B4455;\n",
              "      fill: #D2E3FC;\n",
              "    }\n",
              "\n",
              "    [theme=dark] .colab-df-convert:hover {\n",
              "      background-color: #434B5C;\n",
              "      box-shadow: 0px 1px 3px 1px rgba(0, 0, 0, 0.15);\n",
              "      filter: drop-shadow(0px 1px 2px rgba(0, 0, 0, 0.3));\n",
              "      fill: #FFFFFF;\n",
              "    }\n",
              "  </style>\n",
              "\n",
              "      <script>\n",
              "        const buttonEl =\n",
              "          document.querySelector('#df-108578d5-b1fe-4c5e-990e-ec0bf3ffb12c button.colab-df-convert');\n",
              "        buttonEl.style.display =\n",
              "          google.colab.kernel.accessAllowed ? 'block' : 'none';\n",
              "\n",
              "        async function convertToInteractive(key) {\n",
              "          const element = document.querySelector('#df-108578d5-b1fe-4c5e-990e-ec0bf3ffb12c');\n",
              "          const dataTable =\n",
              "            await google.colab.kernel.invokeFunction('convertToInteractive',\n",
              "                                                     [key], {});\n",
              "          if (!dataTable) return;\n",
              "\n",
              "          const docLinkHtml = 'Like what you see? Visit the ' +\n",
              "            '<a target=\"_blank\" href=https://colab.research.google.com/notebooks/data_table.ipynb>data table notebook</a>'\n",
              "            + ' to learn more about interactive tables.';\n",
              "          element.innerHTML = '';\n",
              "          dataTable['output_type'] = 'display_data';\n",
              "          await google.colab.output.renderOutput(dataTable, element);\n",
              "          const docLink = document.createElement('div');\n",
              "          docLink.innerHTML = docLinkHtml;\n",
              "          element.appendChild(docLink);\n",
              "        }\n",
              "      </script>\n",
              "    </div>\n",
              "  </div>\n",
              "  "
            ],
            "text/plain": [
              "       reviewerID        asin   helpful  ...  polarity review_len word_count\n",
              "0  A2IBPI20UZIR0U  1384719342    [0, 0]  ...  0.250000        162         25\n",
              "1  A14VAT5EAX3D9S  1384719342  [13, 14]  ...  0.014286        356         55\n",
              "2  A195EZSQDW3E21  1384719342    [1, 1]  ...  0.167500        315         48\n",
              "3  A2C00NNG1ZQQG2  1384719342    [0, 0]  ...  0.333333        169         22\n",
              "4   A94QU4C90B1AX  1384719342    [0, 0]  ...  0.800000        136         21\n",
              "\n",
              "[5 rows x 12 columns]"
            ]
          },
          "metadata": {},
          "execution_count": 22
        }
      ],
      "source": [
        "processed_data.head()"
      ]
    },
    {
      "cell_type": "markdown",
      "metadata": {
        "papermill": {
          "duration": 0.248034,
          "end_time": "2020-08-08T06:26:31.682882",
          "exception": false,
          "start_time": "2020-08-08T06:26:31.434848",
          "status": "completed"
        },
        "tags": [],
        "id": "X-izy3h3d33p"
      },
      "source": [
        "<a id=\"section-four\"></a>\n",
        "# Extracting Features from Cleaned reviews\n",
        "**Before I build the model for sentiment analysis, it is required to convert the review texts into vector formation as computer cannot understand words and their sentiment. I have used TF-TDF method to convert the texts**"
      ]
    },
    {
      "cell_type": "markdown",
      "metadata": {
        "papermill": {
          "duration": 0.247415,
          "end_time": "2020-08-08T06:26:32.177277",
          "exception": false,
          "start_time": "2020-08-08T06:26:31.929862",
          "status": "completed"
        },
        "tags": [],
        "id": "taWVB18md33p"
      },
      "source": [
        "## Encoding target variable-sentiment\n",
        "**Let's encode our target variable with Label encoder.**"
      ]
    },
    {
      "cell_type": "code",
      "execution_count": null,
      "metadata": {
        "execution": {
          "iopub.execute_input": "2020-08-08T06:26:32.686299Z",
          "iopub.status.busy": "2020-08-08T06:26:32.685025Z",
          "iopub.status.idle": "2020-08-08T06:26:32.691665Z",
          "shell.execute_reply": "2020-08-08T06:26:32.692220Z"
        },
        "papermill": {
          "duration": 0.264691,
          "end_time": "2020-08-08T06:26:32.692382",
          "exception": false,
          "start_time": "2020-08-08T06:26:32.427691",
          "status": "completed"
        },
        "tags": [],
        "id": "9NJJngwAd33p",
        "outputId": "3a84d68e-2bec-434d-a248-9d8178fbb7ee",
        "colab": {
          "base_uri": "https://localhost:8080/"
        }
      },
      "outputs": [
        {
          "output_type": "execute_result",
          "data": {
            "text/plain": [
              "array([2, 1, 0])"
            ]
          },
          "metadata": {},
          "execution_count": 23
        }
      ],
      "source": [
        "# calling the label encoder function\n",
        "label_encoder = preprocessing.LabelEncoder() \n",
        "  \n",
        "# Encode labels in column 'sentiment'. \n",
        "processed_data['sentiment']= label_encoder.fit_transform(processed_data['sentiment']) \n",
        "  \n",
        "processed_data['sentiment'].unique() "
      ]
    },
    {
      "cell_type": "code",
      "execution_count": null,
      "metadata": {
        "execution": {
          "iopub.execute_input": "2020-08-08T06:26:33.197515Z",
          "iopub.status.busy": "2020-08-08T06:26:33.193920Z",
          "iopub.status.idle": "2020-08-08T06:26:33.201926Z",
          "shell.execute_reply": "2020-08-08T06:26:33.201364Z"
        },
        "papermill": {
          "duration": 0.262016,
          "end_time": "2020-08-08T06:26:33.202069",
          "exception": false,
          "start_time": "2020-08-08T06:26:32.940053",
          "status": "completed"
        },
        "tags": [],
        "id": "0cUHTquld33q",
        "outputId": "d78a1cb0-2f31-493e-f010-7e130d82985c",
        "colab": {
          "base_uri": "https://localhost:8080/"
        }
      },
      "outputs": [
        {
          "output_type": "execute_result",
          "data": {
            "text/plain": [
              "2    9022\n",
              "1     772\n",
              "0     467\n",
              "Name: sentiment, dtype: int64"
            ]
          },
          "metadata": {},
          "execution_count": 24
        }
      ],
      "source": [
        "processed_data['sentiment'].value_counts()"
      ]
    },
    {
      "cell_type": "markdown",
      "metadata": {
        "papermill": {
          "duration": 0.274971,
          "end_time": "2020-08-08T06:26:33.725389",
          "exception": false,
          "start_time": "2020-08-08T06:26:33.450418",
          "status": "completed"
        },
        "tags": [],
        "id": "Ut9wBm1Cd33q"
      },
      "source": [
        "## Stemming the reviews\n",
        "**Stemming is a method of deriving root word from the inflected word. Here we extract the reviews and convert the words in reviews to its root word. for example,**\n",
        "* **Going->go**\n",
        "* **Finally->fina**\n",
        "\n",
        "**If you notice, the root words doesn't need to carry a semantic meaning. There is another technique knows as Lemmatization where it converts the words into root words which has a semantic meaning. Simce it takes time. I'm using stemming**"
      ]
    },
    {
      "cell_type": "code",
      "execution_count": null,
      "metadata": {
        "execution": {
          "iopub.execute_input": "2020-08-08T06:26:34.238025Z",
          "iopub.status.busy": "2020-08-08T06:26:34.237276Z",
          "iopub.status.idle": "2020-08-08T06:26:34.250796Z",
          "shell.execute_reply": "2020-08-08T06:26:34.250020Z"
        },
        "papermill": {
          "duration": 0.273648,
          "end_time": "2020-08-08T06:26:34.250920",
          "exception": false,
          "start_time": "2020-08-08T06:26:33.977272",
          "status": "completed"
        },
        "tags": [],
        "id": "BrDFfhNPd33q",
        "outputId": "daa26cca-3e5d-4a5d-e67b-6849b2aa1b0e",
        "colab": {
          "base_uri": "https://localhost:8080/",
          "height": 206
        }
      },
      "outputs": [
        {
          "output_type": "execute_result",
          "data": {
            "text/html": [
              "\n",
              "  <div id=\"df-1413563c-800c-4e74-a0bf-31dc12a15168\">\n",
              "    <div class=\"colab-df-container\">\n",
              "      <div>\n",
              "<style scoped>\n",
              "    .dataframe tbody tr th:only-of-type {\n",
              "        vertical-align: middle;\n",
              "    }\n",
              "\n",
              "    .dataframe tbody tr th {\n",
              "        vertical-align: top;\n",
              "    }\n",
              "\n",
              "    .dataframe thead th {\n",
              "        text-align: right;\n",
              "    }\n",
              "</style>\n",
              "<table border=\"1\" class=\"dataframe\">\n",
              "  <thead>\n",
              "    <tr style=\"text-align: right;\">\n",
              "      <th></th>\n",
              "      <th>reviews</th>\n",
              "    </tr>\n",
              "  </thead>\n",
              "  <tbody>\n",
              "    <tr>\n",
              "      <th>0</th>\n",
              "      <td>not much write but exactly supposed filters po...</td>\n",
              "    </tr>\n",
              "    <tr>\n",
              "      <th>1</th>\n",
              "      <td>product exactly quite affordablei not realized...</td>\n",
              "    </tr>\n",
              "    <tr>\n",
              "      <th>2</th>\n",
              "      <td>primary job device block breath would otherwis...</td>\n",
              "    </tr>\n",
              "    <tr>\n",
              "      <th>3</th>\n",
              "      <td>nice windscreen protects mxl mic prevents pops...</td>\n",
              "    </tr>\n",
              "    <tr>\n",
              "      <th>4</th>\n",
              "      <td>pop filter great looks performs like studio fi...</td>\n",
              "    </tr>\n",
              "  </tbody>\n",
              "</table>\n",
              "</div>\n",
              "      <button class=\"colab-df-convert\" onclick=\"convertToInteractive('df-1413563c-800c-4e74-a0bf-31dc12a15168')\"\n",
              "              title=\"Convert this dataframe to an interactive table.\"\n",
              "              style=\"display:none;\">\n",
              "        \n",
              "  <svg xmlns=\"http://www.w3.org/2000/svg\" height=\"24px\"viewBox=\"0 0 24 24\"\n",
              "       width=\"24px\">\n",
              "    <path d=\"M0 0h24v24H0V0z\" fill=\"none\"/>\n",
              "    <path d=\"M18.56 5.44l.94 2.06.94-2.06 2.06-.94-2.06-.94-.94-2.06-.94 2.06-2.06.94zm-11 1L8.5 8.5l.94-2.06 2.06-.94-2.06-.94L8.5 2.5l-.94 2.06-2.06.94zm10 10l.94 2.06.94-2.06 2.06-.94-2.06-.94-.94-2.06-.94 2.06-2.06.94z\"/><path d=\"M17.41 7.96l-1.37-1.37c-.4-.4-.92-.59-1.43-.59-.52 0-1.04.2-1.43.59L10.3 9.45l-7.72 7.72c-.78.78-.78 2.05 0 2.83L4 21.41c.39.39.9.59 1.41.59.51 0 1.02-.2 1.41-.59l7.78-7.78 2.81-2.81c.8-.78.8-2.07 0-2.86zM5.41 20L4 18.59l7.72-7.72 1.47 1.35L5.41 20z\"/>\n",
              "  </svg>\n",
              "      </button>\n",
              "      \n",
              "  <style>\n",
              "    .colab-df-container {\n",
              "      display:flex;\n",
              "      flex-wrap:wrap;\n",
              "      gap: 12px;\n",
              "    }\n",
              "\n",
              "    .colab-df-convert {\n",
              "      background-color: #E8F0FE;\n",
              "      border: none;\n",
              "      border-radius: 50%;\n",
              "      cursor: pointer;\n",
              "      display: none;\n",
              "      fill: #1967D2;\n",
              "      height: 32px;\n",
              "      padding: 0 0 0 0;\n",
              "      width: 32px;\n",
              "    }\n",
              "\n",
              "    .colab-df-convert:hover {\n",
              "      background-color: #E2EBFA;\n",
              "      box-shadow: 0px 1px 2px rgba(60, 64, 67, 0.3), 0px 1px 3px 1px rgba(60, 64, 67, 0.15);\n",
              "      fill: #174EA6;\n",
              "    }\n",
              "\n",
              "    [theme=dark] .colab-df-convert {\n",
              "      background-color: #3B4455;\n",
              "      fill: #D2E3FC;\n",
              "    }\n",
              "\n",
              "    [theme=dark] .colab-df-convert:hover {\n",
              "      background-color: #434B5C;\n",
              "      box-shadow: 0px 1px 3px 1px rgba(0, 0, 0, 0.15);\n",
              "      filter: drop-shadow(0px 1px 2px rgba(0, 0, 0, 0.3));\n",
              "      fill: #FFFFFF;\n",
              "    }\n",
              "  </style>\n",
              "\n",
              "      <script>\n",
              "        const buttonEl =\n",
              "          document.querySelector('#df-1413563c-800c-4e74-a0bf-31dc12a15168 button.colab-df-convert');\n",
              "        buttonEl.style.display =\n",
              "          google.colab.kernel.accessAllowed ? 'block' : 'none';\n",
              "\n",
              "        async function convertToInteractive(key) {\n",
              "          const element = document.querySelector('#df-1413563c-800c-4e74-a0bf-31dc12a15168');\n",
              "          const dataTable =\n",
              "            await google.colab.kernel.invokeFunction('convertToInteractive',\n",
              "                                                     [key], {});\n",
              "          if (!dataTable) return;\n",
              "\n",
              "          const docLinkHtml = 'Like what you see? Visit the ' +\n",
              "            '<a target=\"_blank\" href=https://colab.research.google.com/notebooks/data_table.ipynb>data table notebook</a>'\n",
              "            + ' to learn more about interactive tables.';\n",
              "          element.innerHTML = '';\n",
              "          dataTable['output_type'] = 'display_data';\n",
              "          await google.colab.output.renderOutput(dataTable, element);\n",
              "          const docLink = document.createElement('div');\n",
              "          docLink.innerHTML = docLinkHtml;\n",
              "          element.appendChild(docLink);\n",
              "        }\n",
              "      </script>\n",
              "    </div>\n",
              "  </div>\n",
              "  "
            ],
            "text/plain": [
              "                                             reviews\n",
              "0  not much write but exactly supposed filters po...\n",
              "1  product exactly quite affordablei not realized...\n",
              "2  primary job device block breath would otherwis...\n",
              "3  nice windscreen protects mxl mic prevents pops...\n",
              "4  pop filter great looks performs like studio fi..."
            ]
          },
          "metadata": {},
          "execution_count": 28
        }
      ],
      "source": [
        "#Extracting 'reviews' for processing\n",
        "review_features=processed_data.copy()\n",
        "review_features=review_features[['reviews']].reset_index(drop=True)\n",
        "review_features.head()"
      ]
    },
    {
      "cell_type": "code",
      "execution_count": null,
      "metadata": {
        "execution": {
          "iopub.execute_input": "2020-08-08T06:26:34.789029Z",
          "iopub.status.busy": "2020-08-08T06:26:34.783807Z",
          "iopub.status.idle": "2020-08-08T06:26:57.287633Z",
          "shell.execute_reply": "2020-08-08T06:26:57.286868Z"
        },
        "papermill": {
          "duration": 22.783044,
          "end_time": "2020-08-08T06:26:57.287754",
          "exception": false,
          "start_time": "2020-08-08T06:26:34.504710",
          "status": "completed"
        },
        "tags": [],
        "id": "nc5ZY2S3d33q"
      },
      "outputs": [],
      "source": [
        "#Performing stemming on the review dataframe\n",
        "ps = PorterStemmer()\n",
        "\n",
        "#splitting and adding the stemmed words except stopwords\n",
        "corpus = []\n",
        "for i in range(0, len(review_features)):\n",
        "    review = re.sub('[^a-zA-Z]', ' ', review_features['reviews'][i])\n",
        "    review = review.split()\n",
        "    review = [ps.stem(word) for word in review if not word in stop_words]\n",
        "    review = ' '.join(review)\n",
        "    corpus.append(review)    "
      ]
    },
    {
      "cell_type": "code",
      "execution_count": null,
      "metadata": {
        "execution": {
          "iopub.execute_input": "2020-08-08T06:26:57.826339Z",
          "iopub.status.busy": "2020-08-08T06:26:57.825274Z",
          "iopub.status.idle": "2020-08-08T06:26:57.829410Z",
          "shell.execute_reply": "2020-08-08T06:26:57.828675Z"
        },
        "papermill": {
          "duration": 0.293741,
          "end_time": "2020-08-08T06:26:57.829537",
          "exception": false,
          "start_time": "2020-08-08T06:26:57.535796",
          "status": "completed"
        },
        "tags": [],
        "id": "Ts3_ctezd33q",
        "outputId": "4a6b8f7d-97a9-4a7d-dff6-c0d65250a344",
        "colab": {
          "base_uri": "https://localhost:8080/",
          "height": 35
        }
      },
      "outputs": [
        {
          "output_type": "execute_result",
          "data": {
            "application/vnd.google.colaboratory.intrinsic+json": {
              "type": "string"
            },
            "text/plain": [
              "'nice windscreen protect mxl mic prevent pop thing gooseneck margin abl hold screen posit requir care posit clamp avoid sagginggood windscreen money'"
            ]
          },
          "metadata": {},
          "execution_count": 30
        }
      ],
      "source": [
        "corpus[3]"
      ]
    },
    {
      "cell_type": "markdown",
      "metadata": {
        "papermill": {
          "duration": 0.247105,
          "end_time": "2020-08-08T06:26:58.325544",
          "exception": false,
          "start_time": "2020-08-08T06:26:58.078439",
          "status": "completed"
        },
        "tags": [],
        "id": "vWN_cQhud33r"
      },
      "source": [
        "**This is how a line looks like now, as computer cannot understand words and their sentiment we need to convert these words into 1's and 0's. To encode it we use TFIDF**"
      ]
    },
    {
      "cell_type": "markdown",
      "metadata": {
        "papermill": {
          "duration": 0.247075,
          "end_time": "2020-08-08T06:26:58.821698",
          "exception": false,
          "start_time": "2020-08-08T06:26:58.574623",
          "status": "completed"
        },
        "tags": [],
        "id": "66kDKOqEd33s"
      },
      "source": [
        "## TFIDF(Term Frequency — Inverse Document Frequency)\n",
        "**TF-IDF stands for “Term Frequency — Inverse Document Frequency”. This is a technique to quantify a word in documents.**\n",
        "\n",
        "**Here I am splitting as bigram (two words) and consider their combined weight.Also I am taking only the top 5000 words from the reviews.**"
      ]
    },
    {
      "cell_type": "code",
      "execution_count": null,
      "metadata": {
        "execution": {
          "iopub.execute_input": "2020-08-08T06:26:59.366659Z",
          "iopub.status.busy": "2020-08-08T06:26:59.361582Z",
          "iopub.status.idle": "2020-08-08T06:27:00.975614Z",
          "shell.execute_reply": "2020-08-08T06:27:00.974595Z"
        },
        "papermill": {
          "duration": 1.904041,
          "end_time": "2020-08-08T06:27:00.975822",
          "exception": false,
          "start_time": "2020-08-08T06:26:59.071781",
          "status": "completed"
        },
        "tags": [],
        "id": "8DXybwC1d33s"
      },
      "outputs": [],
      "source": [
        "tfidf_vectorizer = TfidfVectorizer(max_features=5000,ngram_range=(2,2))\n",
        "# TF-IDF feature matrix\n",
        "X= tfidf_vectorizer.fit_transform(review_features['reviews'])"
      ]
    },
    {
      "cell_type": "code",
      "execution_count": null,
      "metadata": {
        "execution": {
          "iopub.execute_input": "2020-08-08T06:27:01.490796Z",
          "iopub.status.busy": "2020-08-08T06:27:01.489928Z",
          "iopub.status.idle": "2020-08-08T06:27:01.493353Z",
          "shell.execute_reply": "2020-08-08T06:27:01.493921Z"
        },
        "papermill": {
          "duration": 0.259464,
          "end_time": "2020-08-08T06:27:01.494071",
          "exception": false,
          "start_time": "2020-08-08T06:27:01.234607",
          "status": "completed"
        },
        "tags": [],
        "id": "4n7egfb8d33s",
        "outputId": "2d0861ed-01b3-4a86-c348-8d8b952a4fbf",
        "colab": {
          "base_uri": "https://localhost:8080/"
        }
      },
      "outputs": [
        {
          "output_type": "execute_result",
          "data": {
            "text/plain": [
              "(10261, 5000)"
            ]
          },
          "metadata": {},
          "execution_count": 32
        }
      ],
      "source": [
        "X.shape"
      ]
    },
    {
      "cell_type": "markdown",
      "metadata": {
        "papermill": {
          "duration": 0.248265,
          "end_time": "2020-08-08T06:27:01.992959",
          "exception": false,
          "start_time": "2020-08-08T06:27:01.744694",
          "status": "completed"
        },
        "tags": [],
        "id": "sxjKkc5zd33t"
      },
      "source": [
        "**As I have considered 5000 words, I can confirm that we have 5000 columns from the shape.**"
      ]
    },
    {
      "cell_type": "code",
      "execution_count": null,
      "metadata": {
        "execution": {
          "iopub.execute_input": "2020-08-08T06:27:02.495870Z",
          "iopub.status.busy": "2020-08-08T06:27:02.494872Z",
          "iopub.status.idle": "2020-08-08T06:27:02.498302Z",
          "shell.execute_reply": "2020-08-08T06:27:02.497558Z"
        },
        "papermill": {
          "duration": 0.257566,
          "end_time": "2020-08-08T06:27:02.498423",
          "exception": false,
          "start_time": "2020-08-08T06:27:02.240857",
          "status": "completed"
        },
        "tags": [],
        "id": "P9ycz2QDd33t"
      },
      "outputs": [],
      "source": [
        "#Getting the target variable(encoded)\n",
        "y=processed_data['sentiment']"
      ]
    },
    {
      "cell_type": "markdown",
      "metadata": {
        "papermill": {
          "duration": 0.249873,
          "end_time": "2020-08-08T06:27:03.000505",
          "exception": false,
          "start_time": "2020-08-08T06:27:02.750632",
          "status": "completed"
        },
        "tags": [],
        "id": "Dvx0KPUtd33t"
      },
      "source": [
        "## Handling Imbalance target feature-SMOTE\n",
        "**In the target feature, I noticed that we got a lot of positive sentiments compared to negative and neutral. So it is crucial to balance the classes in such a situation. Here I've used SMOTE(Synthetic Minority Oversampling Technique) to balance out the imbalanced dataset problem. It aims to balance class distribution by randomly increasing minority class examples by replicating them.** <br>"
      ]
    },
    {
      "cell_type": "code",
      "execution_count": null,
      "metadata": {
        "execution": {
          "iopub.execute_input": "2020-08-08T06:27:03.508477Z",
          "iopub.status.busy": "2020-08-08T06:27:03.507256Z",
          "iopub.status.idle": "2020-08-08T06:27:03.554452Z",
          "shell.execute_reply": "2020-08-08T06:27:03.553815Z"
        },
        "papermill": {
          "duration": 0.303116,
          "end_time": "2020-08-08T06:27:03.554575",
          "exception": false,
          "start_time": "2020-08-08T06:27:03.251459",
          "status": "completed"
        },
        "tags": [],
        "id": "-ud2oDiud33u",
        "outputId": "f4eb15f8-8645-4eb6-f6d4-3cf11bf56854",
        "colab": {
          "base_uri": "https://localhost:8080/"
        }
      },
      "outputs": [
        {
          "output_type": "stream",
          "name": "stdout",
          "text": [
            "Original dataset shape : Counter({2: 9022, 1: 772, 0: 467})\n",
            "Resampled dataset shape Counter({2: 9022, 1: 9022, 0: 9022})\n"
          ]
        }
      ],
      "source": [
        "print(f'Original dataset shape : {Counter(y)}')\n",
        "\n",
        "smote = SMOTE(random_state=42)\n",
        "X_res, y_res = smote.fit_resample(X, y)\n",
        "\n",
        "print(f'Resampled dataset shape {Counter(y_res)}')"
      ]
    },
    {
      "cell_type": "markdown",
      "metadata": {
        "papermill": {
          "duration": 0.247723,
          "end_time": "2020-08-08T06:27:04.050749",
          "exception": false,
          "start_time": "2020-08-08T06:27:03.803026",
          "status": "completed"
        },
        "tags": [],
        "id": "TBtDp8NPd33w"
      },
      "source": [
        "Now the resampled data has equally distributed classes"
      ]
    },
    {
      "cell_type": "markdown",
      "metadata": {
        "papermill": {
          "duration": 0.269759,
          "end_time": "2020-08-08T06:27:04.568120",
          "exception": false,
          "start_time": "2020-08-08T06:27:04.298361",
          "status": "completed"
        },
        "tags": [],
        "id": "2bkCSCCAd33x"
      },
      "source": [
        "## Train-test split(75:25)\n",
        "**Using train test split function I am splitting the dataset into 75:25 ratio for train and test set respectively.**"
      ]
    },
    {
      "cell_type": "code",
      "execution_count": null,
      "metadata": {
        "execution": {
          "iopub.execute_input": "2020-08-08T06:27:05.099220Z",
          "iopub.status.busy": "2020-08-08T06:27:05.098130Z",
          "iopub.status.idle": "2020-08-08T06:27:05.105645Z",
          "shell.execute_reply": "2020-08-08T06:27:05.104895Z"
        },
        "papermill": {
          "duration": 0.264055,
          "end_time": "2020-08-08T06:27:05.105767",
          "exception": false,
          "start_time": "2020-08-08T06:27:04.841712",
          "status": "completed"
        },
        "tags": [],
        "id": "nxCMu7gXd33y"
      },
      "outputs": [],
      "source": [
        "## Divide the dataset into Train and Test\n",
        "X_train, X_test, y_train, y_test = train_test_split(X_res, y_res, test_size=0.25, random_state=0)"
      ]
    },
    {
      "cell_type": "markdown",
      "metadata": {
        "papermill": {
          "duration": 0.256875,
          "end_time": "2020-08-08T06:27:05.612776",
          "exception": false,
          "start_time": "2020-08-08T06:27:05.355901",
          "status": "completed"
        },
        "tags": [],
        "id": "2gtLfYVpd33y"
      },
      "source": [
        "<a id=\"section-five\"></a>\n",
        "# Model Building: Sentiment Analysis\n",
        "**After preprocessing, I have applied the Naive Bayes model from sklearn**"
      ]
    },
    {
      "cell_type": "code",
      "execution_count": null,
      "metadata": {
        "_kg_hide-input": true,
        "execution": {
          "iopub.execute_input": "2020-08-08T06:27:06.145233Z",
          "iopub.status.busy": "2020-08-08T06:27:06.144290Z",
          "iopub.status.idle": "2020-08-08T06:27:06.147534Z",
          "shell.execute_reply": "2020-08-08T06:27:06.146803Z"
        },
        "papermill": {
          "duration": 0.281908,
          "end_time": "2020-08-08T06:27:06.147657",
          "exception": false,
          "start_time": "2020-08-08T06:27:05.865749",
          "status": "completed"
        },
        "tags": [],
        "id": "gvoOpXuGd33y"
      },
      "outputs": [],
      "source": [
        "def plot_confusion_matrix(cm, classes,\n",
        "                          normalize=False,\n",
        "                          title='Confusion matrix',\n",
        "                          cmap=plt.cm.Blues):\n",
        "    \"\"\"\n",
        "    This function prints and plots the confusion matrix.\n",
        "    Normalization can be applied by setting `normalize=True`.\n",
        "    \"\"\"\n",
        "    \n",
        "    plt.imshow(cm, interpolation='nearest', cmap=cmap)\n",
        "    plt.title(title)\n",
        "    plt.colorbar()\n",
        "    tick_marks = np.arange(len(classes))\n",
        "    plt.xticks(tick_marks, classes, rotation=45)\n",
        "    plt.yticks(tick_marks, classes)\n",
        "\n",
        "    if normalize:\n",
        "        cm = cm.astype('float') / cm.sum(axis=1)[:, np.newaxis]\n",
        "        print(\"Normalized confusion matrix\")\n",
        "    else:\n",
        "        print('Confusion matrix, without normalization')\n",
        "\n",
        "    thresh = cm.max() / 2.\n",
        "    for i in range (cm.shape[0]):\n",
        "        for j in range (cm.shape[1]):\n",
        "            plt.text(j, i, cm[i, j],\n",
        "                 horizontalalignment=\"center\",\n",
        "                 color=\"white\" if cm[i, j] > thresh else \"black\")\n",
        "\n",
        "    plt.tight_layout()\n",
        "    plt.ylabel('True label')\n",
        "    plt.xlabel('Predicted label')"
      ]
    },
    {
      "cell_type": "markdown",
      "metadata": {
        "papermill": {
          "duration": 0.257949,
          "end_time": "2020-08-08T06:27:06.654473",
          "exception": false,
          "start_time": "2020-08-08T06:27:06.396524",
          "status": "completed"
        },
        "tags": [],
        "id": "XPmPaqLAd33z"
      },
      "source": [
        "## Model building\n",
        "\n",
        "**First select the best peforming model by using cross validaton. Let's consider all the classification algorithm and perform the model selection process**"
      ]
    },
    {
      "cell_type": "code",
      "execution_count": null,
      "metadata": {
        "execution": {
          "iopub.execute_input": "2020-08-08T06:27:07.204551Z",
          "iopub.status.busy": "2020-08-08T06:27:07.203753Z",
          "iopub.status.idle": "2020-08-08T06:30:18.891226Z",
          "shell.execute_reply": "2020-08-08T06:30:18.892124Z"
        },
        "papermill": {
          "duration": 191.948337,
          "end_time": "2020-08-08T06:30:18.892364",
          "exception": false,
          "start_time": "2020-08-08T06:27:06.944027",
          "status": "completed"
        },
        "tags": [],
        "id": "WYKIrcoyd33z",
        "outputId": "9f60e2ba-470c-48b6-d9e2-2b7f806a9653",
        "colab": {
          "base_uri": "https://localhost:8080/"
        }
      },
      "outputs": [
        {
          "output_type": "stream",
          "name": "stdout",
          "text": [
            "0.8801536870104921\n"
          ]
        }
      ],
      "source": [
        "#creating the model\n",
        "nb=GaussianNB()\n",
        "nb.fit(X_train.toarray(),y_train)\n",
        "\n",
        "y_pred = nb.predict(X_test.toarray())\n",
        "print(accuracy_score(y_test, y_pred))\n"
      ]
    },
    {
      "cell_type": "markdown",
      "metadata": {
        "papermill": {
          "duration": 0.250807,
          "end_time": "2020-08-08T06:31:29.569705",
          "exception": false,
          "start_time": "2020-08-08T06:31:29.318898",
          "status": "completed"
        },
        "tags": [],
        "id": "m7N_8E_Xd331"
      },
      "source": [
        "**The model gave 88% accuracy. Now checking f1 score**"
      ]
    },
    {
      "cell_type": "markdown",
      "metadata": {
        "papermill": {
          "duration": 0.248108,
          "end_time": "2020-08-08T06:31:30.069736",
          "exception": false,
          "start_time": "2020-08-08T06:31:29.821628",
          "status": "completed"
        },
        "tags": [],
        "id": "GwrTx4Osd331"
      },
      "source": [
        "## Classification metrics\n",
        "**Here we plot the confusion matrix with ROC and check our f1 score**"
      ]
    },
    {
      "cell_type": "code",
      "execution_count": null,
      "metadata": {
        "execution": {
          "iopub.execute_input": "2020-08-08T06:31:30.572534Z",
          "iopub.status.busy": "2020-08-08T06:31:30.571766Z",
          "iopub.status.idle": "2020-08-08T06:31:30.845980Z",
          "shell.execute_reply": "2020-08-08T06:31:30.845206Z"
        },
        "papermill": {
          "duration": 0.52883,
          "end_time": "2020-08-08T06:31:30.846228",
          "exception": false,
          "start_time": "2020-08-08T06:31:30.317398",
          "status": "completed"
        },
        "tags": [],
        "id": "wPLRiijgd331",
        "outputId": "ba79d1c1-c826-425a-ebdc-0f72ba3dbc77",
        "colab": {
          "base_uri": "https://localhost:8080/",
          "height": 329
        }
      },
      "outputs": [
        {
          "output_type": "stream",
          "name": "stdout",
          "text": [
            "Confusion matrix, without normalization\n"
          ]
        },
        {
          "output_type": "display_data",
          "data": {
            "image/png": "[encoded data removed]",
            "text/plain": [
              "<Figure size 432x288 with 2 Axes>"
            ]
          },
          "metadata": {
            "needs_background": "light"
          }
        }
      ],
      "source": [
        "cm = metrics.confusion_matrix(y_test, y_pred)\n",
        "plot_confusion_matrix(cm, classes=['Negative','Neutral','Positive'])"
      ]
    },
    {
      "cell_type": "markdown",
      "metadata": {
        "papermill": {
          "duration": 0.248466,
          "end_time": "2020-08-08T06:31:31.345749",
          "exception": false,
          "start_time": "2020-08-08T06:31:31.097283",
          "status": "completed"
        },
        "tags": [],
        "id": "J-BLLLsod332"
      },
      "source": [
        "**Check out the diagonal elements(2326+1946+1684), they are correctly predicted records and rest are incorrectly classified by the algorithm**"
      ]
    },
    {
      "cell_type": "code",
      "execution_count": null,
      "metadata": {
        "execution": {
          "iopub.execute_input": "2020-08-08T06:31:31.851643Z",
          "iopub.status.busy": "2020-08-08T06:31:31.850584Z",
          "iopub.status.idle": "2020-08-08T06:31:31.869621Z",
          "shell.execute_reply": "2020-08-08T06:31:31.868802Z"
        },
        "papermill": {
          "duration": 0.273649,
          "end_time": "2020-08-08T06:31:31.869782",
          "exception": false,
          "start_time": "2020-08-08T06:31:31.596133",
          "status": "completed"
        },
        "tags": [],
        "id": "P5euXV0Vd333",
        "outputId": "d8416e8a-1b31-46af-f2ac-a688573c7d7f",
        "colab": {
          "base_uri": "https://localhost:8080/"
        }
      },
      "outputs": [
        {
          "output_type": "stream",
          "name": "stdout",
          "text": [
            "Classification Report:\n",
            "               precision    recall  f1-score   support\n",
            "\n",
            "           0       0.82      1.00      0.90      2326\n",
            "           1       0.86      0.87      0.87      2232\n",
            "           2       0.99      0.76      0.86      2209\n",
            "\n",
            "    accuracy                           0.88      6767\n",
            "   macro avg       0.89      0.88      0.88      6767\n",
            "weighted avg       0.89      0.88      0.88      6767\n",
            "\n"
          ]
        }
      ],
      "source": [
        "print(\"Classification Report:\\n\",classification_report(y_test, y_pred))"
      ]
    },
    {
      "cell_type": "markdown",
      "metadata": {
        "papermill": {
          "duration": 0.249483,
          "end_time": "2020-08-08T06:32:13.923445",
          "exception": false,
          "start_time": "2020-08-08T06:32:13.673962",
          "status": "completed"
        },
        "tags": [],
        "id": "56zLXthLd334"
      },
      "source": [
        "# Conclusion\n",
        "**Through this experiment, I have classified all the classes starting from splitting the sentiments based on overall score,text cleaning, customize the stopwords list based on requirement and finally handling imbalance with smote. Here are few insights.**\n",
        "\n",
        "* **Most of the neutral reviews were actual critic of product from the buyers, so amazon can consider these as feedback and give them to the seller to help them improve their products**\n",
        "* **Most of the reviews in this dataset were about string instruments such as guitar.**\n",
        "* **Balancing the dataset got me a very fruitful accuracy score. Without balancing, I could have got a good precision but very bad recall and inturn affected my f1 score. So balancing the target feature was important**\n",
        "* **In sentiment analysis, we should concentrate on the f1 score where we got an average of 88%.**\n"
      ]
    }
  ],
  "metadata": {
    "kernelspec": {
      "display_name": "Python 3",
      "language": "python",
      "name": "python3"
    },
    "language_info": {
      "codemirror_mode": {
        "name": "ipython",
        "version": 3
      },
      "file_extension": ".py",
      "mimetype": "text/x-python",
      "name": "python",
      "nbconvert_exporter": "python",
      "pygments_lexer": "ipython3",
      "version": "3.7.6"
    },
    "papermill": {
      "duration": 411.002181,
      "end_time": "2020-08-08T06:32:14.286942",
      "environment_variables": {},
      "exception": null,
      "input_path": "__notebook__.ipynb",
      "output_path": "__notebook__.ipynb",
      "parameters": {},
      "start_time": "2020-08-08T06:25:23.284761",
      "version": "2.1.0"
    },
    "colab": {
      "name": "DS-exp3.ipynb",
      "provenance": [],
      "include_colab_link": true
    }
  },
  "nbformat": 4,
  "nbformat_minor": 0
}
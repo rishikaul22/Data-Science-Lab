{
  "nbformat": 4,
  "nbformat_minor": 0,
  "metadata": {
    "colab": {
      "name": "Ds-exp4.ipynb",
      "provenance": [],
      "collapsed_sections": [],
      "include_colab_link": true
    },
    "kernelspec": {
      "name": "python3",
      "display_name": "Python 3"
    },
    "language_info": {
      "name": "python"
    }
  },
  "cells": [
    {
      "cell_type": "markdown",
      "metadata": {
        "id": "view-in-github",
        "colab_type": "text"
      },
      "source": [
        "<a href=\"https://colab.research.google.com/github/rishikaul22/Data-Science-Lab/blob/main/Ds_exp4.ipynb\" target=\"_parent\"><img src=\"https://colab.research.google.com/assets/colab-badge.svg\" alt=\"Open In Colab\"/></a>"
      ]
    },
    {
      "cell_type": "markdown",
      "source": [
        "###**Data Science, 2022**\n",
        "\n",
        "Experiment 4\n",
        "\n",
        "Name - Rishi Kaul\n",
        "\n",
        "UID - 2018130019"
      ],
      "metadata": {
        "id": "_TtYomzrEGm4"
      }
    },
    {
      "cell_type": "markdown",
      "source": [
        "###**Objective**: \n",
        "\n",
        "Perform statistical data analysis such as: Estimators of the main statistical measures (mean, variance, standard deviation, covariance correlation, standard error), Main distributions ( Normal distribution, chi-square distribution), Hypothesis testing, pair-wise association (Pearson correlation test, t-test, ANOVA), Non-parametric test (Spearman rank etc)\n",
        "\n",
        "### **Theory** :\n",
        "\n",
        "**Statistical Analysis**\n",
        "\n",
        "Statistical analysis is done for three reasons:\n",
        "\n",
        "1. Descriptive Statistics - What does the data tell us?\n",
        "\n",
        "2. Building and Using Models - Can the data be used to estimate values or predict the future?\n",
        "\n",
        "3. Hypothesis Testing - Are the descriptive statistics and models just coincidence for this sample?\n",
        "\n",
        "**Descriptive Statistics**\n",
        "\n",
        "Descriptive Statistics are calculations used to describe or summarize a collection of data. This is, by far, the most common type of statistical analysis that a practicing engineer will ever do\n",
        "\n",
        "Descriptive Statistics can be grouped into few categories, each seeking to answer a certain question based on the data.\n",
        "\n",
        "- Amount and Frequency Statistics - How much and how often? sum, count, and percent\n",
        "\n",
        "- Central Tendency Statistics - What is typical? mean, median, and mode.\n",
        "\n",
        "- Dispersion Statistics - What is the variation? minimum, maximum, variance, standard deviaion, skew, and quantile (also called percentile).\n",
        "\n",
        "**Hypothesis Testing**\n",
        "\n",
        "Hypothesis tests are calculation to determine if Descriptive Statistics and Statistical Models are just coincidence for the data sample. For example, suppose we want to know the difference in average height for male and female college students. We can collect a sample of data and compare the mean values. But is the result the true difference or is it just a coincidence of the sample that we happened to observe? In other words, if we were to collect more data might we get a different result? Statisticians have devised a way to calculate the probability of whether the observed descriptive statistic or model is merely a coincidence through hypothesis. The hypothesis calculation is based on the data sample itself, so hypothesis conclusions must be qualified with nuanced words of probability, such as maybe, likely, and probably.\n",
        "\n",
        "#### **Case study** : \n",
        "\n",
        "Graduate Admission Predictions – As per the objective, this project is to predict the chances of getting a seat in an international university with respect to several attributes which are discussed below.\n",
        "\n",
        "\"Hypothesis Testing\" will help us to determine possible relationships between the chances of getting admission at the university and other features.\n",
        "\n",
        "**Attribute Information:**\n",
        "\n",
        "1. Serial No.\n",
        "2. GRE [Graduate Record Examinations] Scores ( out of 340 ).\n",
        "3. TOEFL [Test of English as a Foreign Language] Scores ( out of 120 ).\n",
        "4. University Rating ( out of 5 ).\n",
        "5. SOP [Statement of Purpose].\n",
        "6. LOR [Letter of Recommendation Strength] ( out of 5 ).\n",
        "7. CGPA [Cumulative Grade Points Average] ( out of 10 ).\n",
        "8. Research ( either 0 or 1 ).\n",
        "9. Chance of Admit ( ranging from 0 to 1 ).\n",
        "\n",
        "\n"
      ],
      "metadata": {
        "id": "MpUWoaupEE3D"
      }
    },
    {
      "cell_type": "code",
      "execution_count": null,
      "metadata": {
        "id": "9dzwtzfjATCH"
      },
      "outputs": [],
      "source": [
        "# importing the necessary libraries\n",
        "import numpy as np \n",
        "import pandas as pd \n",
        "import matplotlib.pyplot as plt \n",
        "import seaborn as sns\n",
        "%matplotlib inline"
      ]
    },
    {
      "cell_type": "code",
      "source": [
        "# Connecting/Mounting the drive\n",
        "from google.colab import drive\n",
        "drive.mount('/content/drive')"
      ],
      "metadata": {
        "colab": {
          "base_uri": "https://localhost:8080/"
        },
        "id": "nOvpwpIsLzjA",
        "outputId": "d62ef9c1-faff-43c7-96ff-1460b244e6db"
      },
      "execution_count": null,
      "outputs": [
        {
          "output_type": "stream",
          "name": "stdout",
          "text": [
            "Mounted at /content/drive\n"
          ]
        }
      ]
    },
    {
      "cell_type": "code",
      "source": [
        "%cd drive/MyDrive/Colab Notebooks/DS/Labs/Exp4"
      ],
      "metadata": {
        "colab": {
          "base_uri": "https://localhost:8080/"
        },
        "id": "OLrJ-IplMPY-",
        "outputId": "74cce28c-1dfe-4869-b28a-6357189fe4e5"
      },
      "execution_count": null,
      "outputs": [
        {
          "output_type": "stream",
          "name": "stdout",
          "text": [
            "/content/drive/MyDrive/Colab Notebooks/DS/Labs/Exp4\n"
          ]
        }
      ]
    },
    {
      "cell_type": "markdown",
      "source": [
        "### **1. Load the dataset (Use pandas )**"
      ],
      "metadata": {
        "id": "ttn4wX8PEW7u"
      }
    },
    {
      "cell_type": "code",
      "source": [
        "# Reading the training dataset\n",
        "data = pd.read_csv('Admission_Predict.csv')\n",
        "data.head()"
      ],
      "metadata": {
        "colab": {
          "base_uri": "https://localhost:8080/",
          "height": 267
        },
        "id": "K5whDMyDL-5v",
        "outputId": "b2308785-ac07-44d2-a849-b9ab2a0a98dd"
      },
      "execution_count": null,
      "outputs": [
        {
          "output_type": "execute_result",
          "data": {
            "text/plain": [
              "   Serial No.  GRE Score  TOEFL Score  University Rating  SOP  LOR   CGPA  \\\n",
              "0           1        337          118                  4  4.5   4.5  9.65   \n",
              "1           2        324          107                  4  4.0   4.5  8.87   \n",
              "2           3        316          104                  3  3.0   3.5  8.00   \n",
              "3           4        322          110                  3  3.5   2.5  8.67   \n",
              "4           5        314          103                  2  2.0   3.0  8.21   \n",
              "\n",
              "   Research  Chance of Admit   \n",
              "0         1              0.92  \n",
              "1         1              0.76  \n",
              "2         1              0.72  \n",
              "3         1              0.80  \n",
              "4         0              0.65  "
            ],
            "text/html": [
              "\n",
              "  <div id=\"df-1833ffcf-bde9-4d9c-9441-98ae6532315d\">\n",
              "    <div class=\"colab-df-container\">\n",
              "      <div>\n",
              "<style scoped>\n",
              "    .dataframe tbody tr th:only-of-type {\n",
              "        vertical-align: middle;\n",
              "    }\n",
              "\n",
              "    .dataframe tbody tr th {\n",
              "        vertical-align: top;\n",
              "    }\n",
              "\n",
              "    .dataframe thead th {\n",
              "        text-align: right;\n",
              "    }\n",
              "</style>\n",
              "<table border=\"1\" class=\"dataframe\">\n",
              "  <thead>\n",
              "    <tr style=\"text-align: right;\">\n",
              "      <th></th>\n",
              "      <th>Serial No.</th>\n",
              "      <th>GRE Score</th>\n",
              "      <th>TOEFL Score</th>\n",
              "      <th>University Rating</th>\n",
              "      <th>SOP</th>\n",
              "      <th>LOR</th>\n",
              "      <th>CGPA</th>\n",
              "      <th>Research</th>\n",
              "      <th>Chance of Admit</th>\n",
              "    </tr>\n",
              "  </thead>\n",
              "  <tbody>\n",
              "    <tr>\n",
              "      <th>0</th>\n",
              "      <td>1</td>\n",
              "      <td>337</td>\n",
              "      <td>118</td>\n",
              "      <td>4</td>\n",
              "      <td>4.5</td>\n",
              "      <td>4.5</td>\n",
              "      <td>9.65</td>\n",
              "      <td>1</td>\n",
              "      <td>0.92</td>\n",
              "    </tr>\n",
              "    <tr>\n",
              "      <th>1</th>\n",
              "      <td>2</td>\n",
              "      <td>324</td>\n",
              "      <td>107</td>\n",
              "      <td>4</td>\n",
              "      <td>4.0</td>\n",
              "      <td>4.5</td>\n",
              "      <td>8.87</td>\n",
              "      <td>1</td>\n",
              "      <td>0.76</td>\n",
              "    </tr>\n",
              "    <tr>\n",
              "      <th>2</th>\n",
              "      <td>3</td>\n",
              "      <td>316</td>\n",
              "      <td>104</td>\n",
              "      <td>3</td>\n",
              "      <td>3.0</td>\n",
              "      <td>3.5</td>\n",
              "      <td>8.00</td>\n",
              "      <td>1</td>\n",
              "      <td>0.72</td>\n",
              "    </tr>\n",
              "    <tr>\n",
              "      <th>3</th>\n",
              "      <td>4</td>\n",
              "      <td>322</td>\n",
              "      <td>110</td>\n",
              "      <td>3</td>\n",
              "      <td>3.5</td>\n",
              "      <td>2.5</td>\n",
              "      <td>8.67</td>\n",
              "      <td>1</td>\n",
              "      <td>0.80</td>\n",
              "    </tr>\n",
              "    <tr>\n",
              "      <th>4</th>\n",
              "      <td>5</td>\n",
              "      <td>314</td>\n",
              "      <td>103</td>\n",
              "      <td>2</td>\n",
              "      <td>2.0</td>\n",
              "      <td>3.0</td>\n",
              "      <td>8.21</td>\n",
              "      <td>0</td>\n",
              "      <td>0.65</td>\n",
              "    </tr>\n",
              "  </tbody>\n",
              "</table>\n",
              "</div>\n",
              "      <button class=\"colab-df-convert\" onclick=\"convertToInteractive('df-1833ffcf-bde9-4d9c-9441-98ae6532315d')\"\n",
              "              title=\"Convert this dataframe to an interactive table.\"\n",
              "              style=\"display:none;\">\n",
              "        \n",
              "  <svg xmlns=\"http://www.w3.org/2000/svg\" height=\"24px\"viewBox=\"0 0 24 24\"\n",
              "       width=\"24px\">\n",
              "    <path d=\"M0 0h24v24H0V0z\" fill=\"none\"/>\n",
              "    <path d=\"M18.56 5.44l.94 2.06.94-2.06 2.06-.94-2.06-.94-.94-2.06-.94 2.06-2.06.94zm-11 1L8.5 8.5l.94-2.06 2.06-.94-2.06-.94L8.5 2.5l-.94 2.06-2.06.94zm10 10l.94 2.06.94-2.06 2.06-.94-2.06-.94-.94-2.06-.94 2.06-2.06.94z\"/><path d=\"M17.41 7.96l-1.37-1.37c-.4-.4-.92-.59-1.43-.59-.52 0-1.04.2-1.43.59L10.3 9.45l-7.72 7.72c-.78.78-.78 2.05 0 2.83L4 21.41c.39.39.9.59 1.41.59.51 0 1.02-.2 1.41-.59l7.78-7.78 2.81-2.81c.8-.78.8-2.07 0-2.86zM5.41 20L4 18.59l7.72-7.72 1.47 1.35L5.41 20z\"/>\n",
              "  </svg>\n",
              "      </button>\n",
              "      \n",
              "  <style>\n",
              "    .colab-df-container {\n",
              "      display:flex;\n",
              "      flex-wrap:wrap;\n",
              "      gap: 12px;\n",
              "    }\n",
              "\n",
              "    .colab-df-convert {\n",
              "      background-color: #E8F0FE;\n",
              "      border: none;\n",
              "      border-radius: 50%;\n",
              "      cursor: pointer;\n",
              "      display: none;\n",
              "      fill: #1967D2;\n",
              "      height: 32px;\n",
              "      padding: 0 0 0 0;\n",
              "      width: 32px;\n",
              "    }\n",
              "\n",
              "    .colab-df-convert:hover {\n",
              "      background-color: #E2EBFA;\n",
              "      box-shadow: 0px 1px 2px rgba(60, 64, 67, 0.3), 0px 1px 3px 1px rgba(60, 64, 67, 0.15);\n",
              "      fill: #174EA6;\n",
              "    }\n",
              "\n",
              "    [theme=dark] .colab-df-convert {\n",
              "      background-color: #3B4455;\n",
              "      fill: #D2E3FC;\n",
              "    }\n",
              "\n",
              "    [theme=dark] .colab-df-convert:hover {\n",
              "      background-color: #434B5C;\n",
              "      box-shadow: 0px 1px 3px 1px rgba(0, 0, 0, 0.15);\n",
              "      filter: drop-shadow(0px 1px 2px rgba(0, 0, 0, 0.3));\n",
              "      fill: #FFFFFF;\n",
              "    }\n",
              "  </style>\n",
              "\n",
              "      <script>\n",
              "        const buttonEl =\n",
              "          document.querySelector('#df-1833ffcf-bde9-4d9c-9441-98ae6532315d button.colab-df-convert');\n",
              "        buttonEl.style.display =\n",
              "          google.colab.kernel.accessAllowed ? 'block' : 'none';\n",
              "\n",
              "        async function convertToInteractive(key) {\n",
              "          const element = document.querySelector('#df-1833ffcf-bde9-4d9c-9441-98ae6532315d');\n",
              "          const dataTable =\n",
              "            await google.colab.kernel.invokeFunction('convertToInteractive',\n",
              "                                                     [key], {});\n",
              "          if (!dataTable) return;\n",
              "\n",
              "          const docLinkHtml = 'Like what you see? Visit the ' +\n",
              "            '<a target=\"_blank\" href=https://colab.research.google.com/notebooks/data_table.ipynb>data table notebook</a>'\n",
              "            + ' to learn more about interactive tables.';\n",
              "          element.innerHTML = '';\n",
              "          dataTable['output_type'] = 'display_data';\n",
              "          await google.colab.output.renderOutput(dataTable, element);\n",
              "          const docLink = document.createElement('div');\n",
              "          docLink.innerHTML = docLinkHtml;\n",
              "          element.appendChild(docLink);\n",
              "        }\n",
              "      </script>\n",
              "    </div>\n",
              "  </div>\n",
              "  "
            ]
          },
          "metadata": {},
          "execution_count": 4
        }
      ]
    },
    {
      "cell_type": "markdown",
      "source": [
        "### **2. Exploratory Data Analysis of the dataset**"
      ],
      "metadata": {
        "id": "yQFln2RJCF1q"
      }
    },
    {
      "cell_type": "code",
      "source": [
        "# Checking the shape of the dataset\n",
        "data.shape"
      ],
      "metadata": {
        "colab": {
          "base_uri": "https://localhost:8080/"
        },
        "id": "JRQzbol-WWWw",
        "outputId": "076dc290-0cbe-49d9-cff4-1e063b8a3882"
      },
      "execution_count": null,
      "outputs": [
        {
          "output_type": "execute_result",
          "data": {
            "text/plain": [
              "(500, 9)"
            ]
          },
          "metadata": {},
          "execution_count": 5
        }
      ]
    },
    {
      "cell_type": "code",
      "source": [
        "# Check for null values\n",
        "data.isnull().sum()"
      ],
      "metadata": {
        "colab": {
          "base_uri": "https://localhost:8080/"
        },
        "id": "dtAlMkGt1TrX",
        "outputId": "4e8fda81-6377-42f4-c566-1d7065c89728"
      },
      "execution_count": null,
      "outputs": [
        {
          "output_type": "execute_result",
          "data": {
            "text/plain": [
              "Serial No.           0\n",
              "GRE Score            0\n",
              "TOEFL Score          0\n",
              "University Rating    0\n",
              "SOP                  0\n",
              "LOR                  0\n",
              "CGPA                 0\n",
              "Research             0\n",
              "Chance of Admit      0\n",
              "dtype: int64"
            ]
          },
          "metadata": {},
          "execution_count": 6
        }
      ]
    },
    {
      "cell_type": "code",
      "source": [
        "# Checking the information of the dataset\n",
        "data.info()"
      ],
      "metadata": {
        "colab": {
          "base_uri": "https://localhost:8080/"
        },
        "id": "QJczT1pHUeuj",
        "outputId": "01676810-8afe-4d79-c7bf-e577be91ea68"
      },
      "execution_count": null,
      "outputs": [
        {
          "output_type": "stream",
          "name": "stdout",
          "text": [
            "<class 'pandas.core.frame.DataFrame'>\n",
            "RangeIndex: 500 entries, 0 to 499\n",
            "Data columns (total 9 columns):\n",
            " #   Column             Non-Null Count  Dtype  \n",
            "---  ------             --------------  -----  \n",
            " 0   Serial No.         500 non-null    int64  \n",
            " 1   GRE Score          500 non-null    int64  \n",
            " 2   TOEFL Score        500 non-null    int64  \n",
            " 3   University Rating  500 non-null    int64  \n",
            " 4   SOP                500 non-null    float64\n",
            " 5   LOR                500 non-null    float64\n",
            " 6   CGPA               500 non-null    float64\n",
            " 7   Research           500 non-null    int64  \n",
            " 8   Chance of Admit    500 non-null    float64\n",
            "dtypes: float64(4), int64(5)\n",
            "memory usage: 35.3 KB\n"
          ]
        }
      ]
    },
    {
      "cell_type": "code",
      "source": [
        "# Deleting the unwanted column\n",
        "del data['Serial No.']"
      ],
      "metadata": {
        "id": "TpxJeWrxyJXz"
      },
      "execution_count": null,
      "outputs": []
    },
    {
      "cell_type": "code",
      "source": [
        "# statistics on numerical data\n",
        "data.describe()  "
      ],
      "metadata": {
        "id": "Zvw27-BVWZm0",
        "colab": {
          "base_uri": "https://localhost:8080/",
          "height": 362
        },
        "outputId": "1613aad4-107a-43f1-cc69-a5b5a1c6a547"
      },
      "execution_count": null,
      "outputs": [
        {
          "output_type": "execute_result",
          "data": {
            "text/plain": [
              "        GRE Score  TOEFL Score  University Rating         SOP       LOR   \\\n",
              "count  500.000000   500.000000         500.000000  500.000000  500.00000   \n",
              "mean   316.472000   107.192000           3.114000    3.374000    3.48400   \n",
              "std     11.295148     6.081868           1.143512    0.991004    0.92545   \n",
              "min    290.000000    92.000000           1.000000    1.000000    1.00000   \n",
              "25%    308.000000   103.000000           2.000000    2.500000    3.00000   \n",
              "50%    317.000000   107.000000           3.000000    3.500000    3.50000   \n",
              "75%    325.000000   112.000000           4.000000    4.000000    4.00000   \n",
              "max    340.000000   120.000000           5.000000    5.000000    5.00000   \n",
              "\n",
              "             CGPA    Research  Chance of Admit   \n",
              "count  500.000000  500.000000         500.00000  \n",
              "mean     8.576440    0.560000           0.72174  \n",
              "std      0.604813    0.496884           0.14114  \n",
              "min      6.800000    0.000000           0.34000  \n",
              "25%      8.127500    0.000000           0.63000  \n",
              "50%      8.560000    1.000000           0.72000  \n",
              "75%      9.040000    1.000000           0.82000  \n",
              "max      9.920000    1.000000           0.97000  "
            ],
            "text/html": [
              "\n",
              "  <div id=\"df-d0ef5164-7dcd-4f8b-9cc3-a54f521cebbb\">\n",
              "    <div class=\"colab-df-container\">\n",
              "      <div>\n",
              "<style scoped>\n",
              "    .dataframe tbody tr th:only-of-type {\n",
              "        vertical-align: middle;\n",
              "    }\n",
              "\n",
              "    .dataframe tbody tr th {\n",
              "        vertical-align: top;\n",
              "    }\n",
              "\n",
              "    .dataframe thead th {\n",
              "        text-align: right;\n",
              "    }\n",
              "</style>\n",
              "<table border=\"1\" class=\"dataframe\">\n",
              "  <thead>\n",
              "    <tr style=\"text-align: right;\">\n",
              "      <th></th>\n",
              "      <th>GRE Score</th>\n",
              "      <th>TOEFL Score</th>\n",
              "      <th>University Rating</th>\n",
              "      <th>SOP</th>\n",
              "      <th>LOR</th>\n",
              "      <th>CGPA</th>\n",
              "      <th>Research</th>\n",
              "      <th>Chance of Admit</th>\n",
              "    </tr>\n",
              "  </thead>\n",
              "  <tbody>\n",
              "    <tr>\n",
              "      <th>count</th>\n",
              "      <td>500.000000</td>\n",
              "      <td>500.000000</td>\n",
              "      <td>500.000000</td>\n",
              "      <td>500.000000</td>\n",
              "      <td>500.00000</td>\n",
              "      <td>500.000000</td>\n",
              "      <td>500.000000</td>\n",
              "      <td>500.00000</td>\n",
              "    </tr>\n",
              "    <tr>\n",
              "      <th>mean</th>\n",
              "      <td>316.472000</td>\n",
              "      <td>107.192000</td>\n",
              "      <td>3.114000</td>\n",
              "      <td>3.374000</td>\n",
              "      <td>3.48400</td>\n",
              "      <td>8.576440</td>\n",
              "      <td>0.560000</td>\n",
              "      <td>0.72174</td>\n",
              "    </tr>\n",
              "    <tr>\n",
              "      <th>std</th>\n",
              "      <td>11.295148</td>\n",
              "      <td>6.081868</td>\n",
              "      <td>1.143512</td>\n",
              "      <td>0.991004</td>\n",
              "      <td>0.92545</td>\n",
              "      <td>0.604813</td>\n",
              "      <td>0.496884</td>\n",
              "      <td>0.14114</td>\n",
              "    </tr>\n",
              "    <tr>\n",
              "      <th>min</th>\n",
              "      <td>290.000000</td>\n",
              "      <td>92.000000</td>\n",
              "      <td>1.000000</td>\n",
              "      <td>1.000000</td>\n",
              "      <td>1.00000</td>\n",
              "      <td>6.800000</td>\n",
              "      <td>0.000000</td>\n",
              "      <td>0.34000</td>\n",
              "    </tr>\n",
              "    <tr>\n",
              "      <th>25%</th>\n",
              "      <td>308.000000</td>\n",
              "      <td>103.000000</td>\n",
              "      <td>2.000000</td>\n",
              "      <td>2.500000</td>\n",
              "      <td>3.00000</td>\n",
              "      <td>8.127500</td>\n",
              "      <td>0.000000</td>\n",
              "      <td>0.63000</td>\n",
              "    </tr>\n",
              "    <tr>\n",
              "      <th>50%</th>\n",
              "      <td>317.000000</td>\n",
              "      <td>107.000000</td>\n",
              "      <td>3.000000</td>\n",
              "      <td>3.500000</td>\n",
              "      <td>3.50000</td>\n",
              "      <td>8.560000</td>\n",
              "      <td>1.000000</td>\n",
              "      <td>0.72000</td>\n",
              "    </tr>\n",
              "    <tr>\n",
              "      <th>75%</th>\n",
              "      <td>325.000000</td>\n",
              "      <td>112.000000</td>\n",
              "      <td>4.000000</td>\n",
              "      <td>4.000000</td>\n",
              "      <td>4.00000</td>\n",
              "      <td>9.040000</td>\n",
              "      <td>1.000000</td>\n",
              "      <td>0.82000</td>\n",
              "    </tr>\n",
              "    <tr>\n",
              "      <th>max</th>\n",
              "      <td>340.000000</td>\n",
              "      <td>120.000000</td>\n",
              "      <td>5.000000</td>\n",
              "      <td>5.000000</td>\n",
              "      <td>5.00000</td>\n",
              "      <td>9.920000</td>\n",
              "      <td>1.000000</td>\n",
              "      <td>0.97000</td>\n",
              "    </tr>\n",
              "  </tbody>\n",
              "</table>\n",
              "</div>\n",
              "      <button class=\"colab-df-convert\" onclick=\"convertToInteractive('df-d0ef5164-7dcd-4f8b-9cc3-a54f521cebbb')\"\n",
              "              title=\"Convert this dataframe to an interactive table.\"\n",
              "              style=\"display:none;\">\n",
              "        \n",
              "  <svg xmlns=\"http://www.w3.org/2000/svg\" height=\"24px\"viewBox=\"0 0 24 24\"\n",
              "       width=\"24px\">\n",
              "    <path d=\"M0 0h24v24H0V0z\" fill=\"none\"/>\n",
              "    <path d=\"M18.56 5.44l.94 2.06.94-2.06 2.06-.94-2.06-.94-.94-2.06-.94 2.06-2.06.94zm-11 1L8.5 8.5l.94-2.06 2.06-.94-2.06-.94L8.5 2.5l-.94 2.06-2.06.94zm10 10l.94 2.06.94-2.06 2.06-.94-2.06-.94-.94-2.06-.94 2.06-2.06.94z\"/><path d=\"M17.41 7.96l-1.37-1.37c-.4-.4-.92-.59-1.43-.59-.52 0-1.04.2-1.43.59L10.3 9.45l-7.72 7.72c-.78.78-.78 2.05 0 2.83L4 21.41c.39.39.9.59 1.41.59.51 0 1.02-.2 1.41-.59l7.78-7.78 2.81-2.81c.8-.78.8-2.07 0-2.86zM5.41 20L4 18.59l7.72-7.72 1.47 1.35L5.41 20z\"/>\n",
              "  </svg>\n",
              "      </button>\n",
              "      \n",
              "  <style>\n",
              "    .colab-df-container {\n",
              "      display:flex;\n",
              "      flex-wrap:wrap;\n",
              "      gap: 12px;\n",
              "    }\n",
              "\n",
              "    .colab-df-convert {\n",
              "      background-color: #E8F0FE;\n",
              "      border: none;\n",
              "      border-radius: 50%;\n",
              "      cursor: pointer;\n",
              "      display: none;\n",
              "      fill: #1967D2;\n",
              "      height: 32px;\n",
              "      padding: 0 0 0 0;\n",
              "      width: 32px;\n",
              "    }\n",
              "\n",
              "    .colab-df-convert:hover {\n",
              "      background-color: #E2EBFA;\n",
              "      box-shadow: 0px 1px 2px rgba(60, 64, 67, 0.3), 0px 1px 3px 1px rgba(60, 64, 67, 0.15);\n",
              "      fill: #174EA6;\n",
              "    }\n",
              "\n",
              "    [theme=dark] .colab-df-convert {\n",
              "      background-color: #3B4455;\n",
              "      fill: #D2E3FC;\n",
              "    }\n",
              "\n",
              "    [theme=dark] .colab-df-convert:hover {\n",
              "      background-color: #434B5C;\n",
              "      box-shadow: 0px 1px 3px 1px rgba(0, 0, 0, 0.15);\n",
              "      filter: drop-shadow(0px 1px 2px rgba(0, 0, 0, 0.3));\n",
              "      fill: #FFFFFF;\n",
              "    }\n",
              "  </style>\n",
              "\n",
              "      <script>\n",
              "        const buttonEl =\n",
              "          document.querySelector('#df-d0ef5164-7dcd-4f8b-9cc3-a54f521cebbb button.colab-df-convert');\n",
              "        buttonEl.style.display =\n",
              "          google.colab.kernel.accessAllowed ? 'block' : 'none';\n",
              "\n",
              "        async function convertToInteractive(key) {\n",
              "          const element = document.querySelector('#df-d0ef5164-7dcd-4f8b-9cc3-a54f521cebbb');\n",
              "          const dataTable =\n",
              "            await google.colab.kernel.invokeFunction('convertToInteractive',\n",
              "                                                     [key], {});\n",
              "          if (!dataTable) return;\n",
              "\n",
              "          const docLinkHtml = 'Like what you see? Visit the ' +\n",
              "            '<a target=\"_blank\" href=https://colab.research.google.com/notebooks/data_table.ipynb>data table notebook</a>'\n",
              "            + ' to learn more about interactive tables.';\n",
              "          element.innerHTML = '';\n",
              "          dataTable['output_type'] = 'display_data';\n",
              "          await google.colab.output.renderOutput(dataTable, element);\n",
              "          const docLink = document.createElement('div');\n",
              "          docLink.innerHTML = docLinkHtml;\n",
              "          element.appendChild(docLink);\n",
              "        }\n",
              "      </script>\n",
              "    </div>\n",
              "  </div>\n",
              "  "
            ]
          },
          "metadata": {},
          "execution_count": 9
        }
      ]
    },
    {
      "cell_type": "markdown",
      "source": [
        "Here we can have a overview of the data we have i.e the minimum, maximum, mean of a numeric column, its standard deviation, etc."
      ],
      "metadata": {
        "id": "wkK-_Gvo-6v8"
      }
    },
    {
      "cell_type": "markdown",
      "metadata": {
        "papermill": {
          "duration": 0.132916,
          "end_time": "2022-02-14T20:55:46.547172",
          "exception": false,
          "start_time": "2022-02-14T20:55:46.414256",
          "status": "completed"
        },
        "tags": [],
        "id": "90ea8af9"
      },
      "source": [
        "### **Divide The categorical, discrete & numerical Features**"
      ]
    },
    {
      "cell_type": "code",
      "source": [
        "# Classifying the features as categorical, discrete and continuous features\n",
        "Cat_features = [feature for feature in data.columns if data[feature].dtypes=='O']\n",
        "print(\"Categorical features are :\",Cat_features)\n",
        "\n",
        "Discrete_features = [feature for feature in data.columns if data[feature].dtypes=='int64']\n",
        "print(\"Discret features features are :\",Discrete_features)\n",
        "\n",
        "Continuous_features = [feature for feature in data.columns if data[feature].dtypes=='float64']\n",
        "print(\"Continous features features are :\",Continuous_features)"
      ],
      "metadata": {
        "colab": {
          "base_uri": "https://localhost:8080/"
        },
        "id": "fmToL1ouv-3Y",
        "outputId": "6d0aabd9-6430-4ecb-9934-5843164d5f88"
      },
      "execution_count": null,
      "outputs": [
        {
          "output_type": "stream",
          "name": "stdout",
          "text": [
            "Categorical features are : []\n",
            "Discret features features are : ['GRE Score', 'TOEFL Score', 'University Rating', 'Research']\n",
            "Continous features features are : ['SOP', 'LOR ', 'CGPA', 'Chance of Admit ']\n"
          ]
        }
      ]
    },
    {
      "cell_type": "code",
      "source": [
        "# Checking frequency of unqiue values in each column\n",
        "df = pd.DataFrame(columns = ['Column', 'Mean', 'Median', 'Mode'])\n",
        "for col in Continuous_features:\n",
        "    df = df.append({'Column': col, 'Mean': data[col].mean(), 'Median': data[col].median(), 'Mode': data[col].mode()[0]}, ignore_index=True)\n",
        "df"
      ],
      "metadata": {
        "colab": {
          "base_uri": "https://localhost:8080/",
          "height": 174
        },
        "id": "yYzzDqaJFkKv",
        "outputId": "2471b9ad-5d1b-46c3-feef-36fcf803aeb2"
      },
      "execution_count": null,
      "outputs": [
        {
          "output_type": "execute_result",
          "data": {
            "text/plain": [
              "             Column     Mean  Median  Mode\n",
              "0               SOP  3.37400    3.50  4.00\n",
              "1              LOR   3.48400    3.50  3.00\n",
              "2              CGPA  8.57644    8.56  8.00\n",
              "3  Chance of Admit   0.72174    0.72  0.71"
            ],
            "text/html": [
              "\n",
              "  <div id=\"df-63f4124a-f296-4895-8f59-80a48d867338\">\n",
              "    <div class=\"colab-df-container\">\n",
              "      <div>\n",
              "<style scoped>\n",
              "    .dataframe tbody tr th:only-of-type {\n",
              "        vertical-align: middle;\n",
              "    }\n",
              "\n",
              "    .dataframe tbody tr th {\n",
              "        vertical-align: top;\n",
              "    }\n",
              "\n",
              "    .dataframe thead th {\n",
              "        text-align: right;\n",
              "    }\n",
              "</style>\n",
              "<table border=\"1\" class=\"dataframe\">\n",
              "  <thead>\n",
              "    <tr style=\"text-align: right;\">\n",
              "      <th></th>\n",
              "      <th>Column</th>\n",
              "      <th>Mean</th>\n",
              "      <th>Median</th>\n",
              "      <th>Mode</th>\n",
              "    </tr>\n",
              "  </thead>\n",
              "  <tbody>\n",
              "    <tr>\n",
              "      <th>0</th>\n",
              "      <td>SOP</td>\n",
              "      <td>3.37400</td>\n",
              "      <td>3.50</td>\n",
              "      <td>4.00</td>\n",
              "    </tr>\n",
              "    <tr>\n",
              "      <th>1</th>\n",
              "      <td>LOR</td>\n",
              "      <td>3.48400</td>\n",
              "      <td>3.50</td>\n",
              "      <td>3.00</td>\n",
              "    </tr>\n",
              "    <tr>\n",
              "      <th>2</th>\n",
              "      <td>CGPA</td>\n",
              "      <td>8.57644</td>\n",
              "      <td>8.56</td>\n",
              "      <td>8.00</td>\n",
              "    </tr>\n",
              "    <tr>\n",
              "      <th>3</th>\n",
              "      <td>Chance of Admit</td>\n",
              "      <td>0.72174</td>\n",
              "      <td>0.72</td>\n",
              "      <td>0.71</td>\n",
              "    </tr>\n",
              "  </tbody>\n",
              "</table>\n",
              "</div>\n",
              "      <button class=\"colab-df-convert\" onclick=\"convertToInteractive('df-63f4124a-f296-4895-8f59-80a48d867338')\"\n",
              "              title=\"Convert this dataframe to an interactive table.\"\n",
              "              style=\"display:none;\">\n",
              "        \n",
              "  <svg xmlns=\"http://www.w3.org/2000/svg\" height=\"24px\"viewBox=\"0 0 24 24\"\n",
              "       width=\"24px\">\n",
              "    <path d=\"M0 0h24v24H0V0z\" fill=\"none\"/>\n",
              "    <path d=\"M18.56 5.44l.94 2.06.94-2.06 2.06-.94-2.06-.94-.94-2.06-.94 2.06-2.06.94zm-11 1L8.5 8.5l.94-2.06 2.06-.94-2.06-.94L8.5 2.5l-.94 2.06-2.06.94zm10 10l.94 2.06.94-2.06 2.06-.94-2.06-.94-.94-2.06-.94 2.06-2.06.94z\"/><path d=\"M17.41 7.96l-1.37-1.37c-.4-.4-.92-.59-1.43-.59-.52 0-1.04.2-1.43.59L10.3 9.45l-7.72 7.72c-.78.78-.78 2.05 0 2.83L4 21.41c.39.39.9.59 1.41.59.51 0 1.02-.2 1.41-.59l7.78-7.78 2.81-2.81c.8-.78.8-2.07 0-2.86zM5.41 20L4 18.59l7.72-7.72 1.47 1.35L5.41 20z\"/>\n",
              "  </svg>\n",
              "      </button>\n",
              "      \n",
              "  <style>\n",
              "    .colab-df-container {\n",
              "      display:flex;\n",
              "      flex-wrap:wrap;\n",
              "      gap: 12px;\n",
              "    }\n",
              "\n",
              "    .colab-df-convert {\n",
              "      background-color: #E8F0FE;\n",
              "      border: none;\n",
              "      border-radius: 50%;\n",
              "      cursor: pointer;\n",
              "      display: none;\n",
              "      fill: #1967D2;\n",
              "      height: 32px;\n",
              "      padding: 0 0 0 0;\n",
              "      width: 32px;\n",
              "    }\n",
              "\n",
              "    .colab-df-convert:hover {\n",
              "      background-color: #E2EBFA;\n",
              "      box-shadow: 0px 1px 2px rgba(60, 64, 67, 0.3), 0px 1px 3px 1px rgba(60, 64, 67, 0.15);\n",
              "      fill: #174EA6;\n",
              "    }\n",
              "\n",
              "    [theme=dark] .colab-df-convert {\n",
              "      background-color: #3B4455;\n",
              "      fill: #D2E3FC;\n",
              "    }\n",
              "\n",
              "    [theme=dark] .colab-df-convert:hover {\n",
              "      background-color: #434B5C;\n",
              "      box-shadow: 0px 1px 3px 1px rgba(0, 0, 0, 0.15);\n",
              "      filter: drop-shadow(0px 1px 2px rgba(0, 0, 0, 0.3));\n",
              "      fill: #FFFFFF;\n",
              "    }\n",
              "  </style>\n",
              "\n",
              "      <script>\n",
              "        const buttonEl =\n",
              "          document.querySelector('#df-63f4124a-f296-4895-8f59-80a48d867338 button.colab-df-convert');\n",
              "        buttonEl.style.display =\n",
              "          google.colab.kernel.accessAllowed ? 'block' : 'none';\n",
              "\n",
              "        async function convertToInteractive(key) {\n",
              "          const element = document.querySelector('#df-63f4124a-f296-4895-8f59-80a48d867338');\n",
              "          const dataTable =\n",
              "            await google.colab.kernel.invokeFunction('convertToInteractive',\n",
              "                                                     [key], {});\n",
              "          if (!dataTable) return;\n",
              "\n",
              "          const docLinkHtml = 'Like what you see? Visit the ' +\n",
              "            '<a target=\"_blank\" href=https://colab.research.google.com/notebooks/data_table.ipynb>data table notebook</a>'\n",
              "            + ' to learn more about interactive tables.';\n",
              "          element.innerHTML = '';\n",
              "          dataTable['output_type'] = 'display_data';\n",
              "          await google.colab.output.renderOutput(dataTable, element);\n",
              "          const docLink = document.createElement('div');\n",
              "          docLink.innerHTML = docLinkHtml;\n",
              "          element.appendChild(docLink);\n",
              "        }\n",
              "      </script>\n",
              "    </div>\n",
              "  </div>\n",
              "  "
            ]
          },
          "metadata": {},
          "execution_count": 11
        }
      ]
    },
    {
      "cell_type": "markdown",
      "source": [
        "Here we can see that most of the people have 8 CPGA, 4 SOP score and 3 LORS. While the mean rate of acceptance of admmit is 72%."
      ],
      "metadata": {
        "id": "_Id_Gfi7_iZK"
      }
    },
    {
      "cell_type": "code",
      "source": [
        "for col in data.columns:\n",
        "    print(data[col].value_counts())"
      ],
      "metadata": {
        "colab": {
          "base_uri": "https://localhost:8080/"
        },
        "id": "nr6pHb1G1Udw",
        "outputId": "78fe19c5-7575-4efd-dc32-dc9975c4165d"
      },
      "execution_count": null,
      "outputs": [
        {
          "output_type": "stream",
          "name": "stdout",
          "text": [
            "312    24\n",
            "324    23\n",
            "316    18\n",
            "321    17\n",
            "322    17\n",
            "327    17\n",
            "311    16\n",
            "320    16\n",
            "314    16\n",
            "317    15\n",
            "325    15\n",
            "315    13\n",
            "308    13\n",
            "323    13\n",
            "326    12\n",
            "319    12\n",
            "313    12\n",
            "304    12\n",
            "300    12\n",
            "318    12\n",
            "305    11\n",
            "301    11\n",
            "310    11\n",
            "307    10\n",
            "329    10\n",
            "299    10\n",
            "298    10\n",
            "331     9\n",
            "340     9\n",
            "328     9\n",
            "309     9\n",
            "334     8\n",
            "332     8\n",
            "330     8\n",
            "306     7\n",
            "302     7\n",
            "297     6\n",
            "296     5\n",
            "295     5\n",
            "336     5\n",
            "303     5\n",
            "338     4\n",
            "335     4\n",
            "333     4\n",
            "339     3\n",
            "337     2\n",
            "290     2\n",
            "294     2\n",
            "293     1\n",
            "Name: GRE Score, dtype: int64\n",
            "110    44\n",
            "105    37\n",
            "104    29\n",
            "107    28\n",
            "106    28\n",
            "112    28\n",
            "103    25\n",
            "100    24\n",
            "102    24\n",
            "99     23\n",
            "101    20\n",
            "111    20\n",
            "108    19\n",
            "113    19\n",
            "109    19\n",
            "114    18\n",
            "116    16\n",
            "115    11\n",
            "118    10\n",
            "98     10\n",
            "119    10\n",
            "120     9\n",
            "117     8\n",
            "97      7\n",
            "96      6\n",
            "95      3\n",
            "93      2\n",
            "94      2\n",
            "92      1\n",
            "Name: TOEFL Score, dtype: int64\n",
            "3    162\n",
            "2    126\n",
            "4    105\n",
            "5     73\n",
            "1     34\n",
            "Name: University Rating, dtype: int64\n",
            "4.0    89\n",
            "3.5    88\n",
            "3.0    80\n",
            "2.5    64\n",
            "4.5    63\n",
            "2.0    43\n",
            "5.0    42\n",
            "1.5    25\n",
            "1.0     6\n",
            "Name: SOP, dtype: int64\n",
            "3.0    99\n",
            "4.0    94\n",
            "3.5    86\n",
            "4.5    63\n",
            "2.5    50\n",
            "5.0    50\n",
            "2.0    46\n",
            "1.5    11\n",
            "1.0     1\n",
            "Name: LOR , dtype: int64\n",
            "8.76    9\n",
            "8.00    9\n",
            "8.12    7\n",
            "8.45    7\n",
            "8.54    7\n",
            "       ..\n",
            "9.92    1\n",
            "9.35    1\n",
            "8.71    1\n",
            "9.32    1\n",
            "7.69    1\n",
            "Name: CGPA, Length: 184, dtype: int64\n",
            "1    280\n",
            "0    220\n",
            "Name: Research, dtype: int64\n",
            "0.71    23\n",
            "0.64    19\n",
            "0.73    18\n",
            "0.72    16\n",
            "0.79    16\n",
            "        ..\n",
            "0.38     2\n",
            "0.36     2\n",
            "0.43     1\n",
            "0.39     1\n",
            "0.37     1\n",
            "Name: Chance of Admit , Length: 61, dtype: int64\n"
          ]
        }
      ]
    },
    {
      "cell_type": "code",
      "source": [
        "#Check for duplicates\n",
        "dups = data[data.duplicated()].shape[0]\n",
        "print('No. of duplicates : ', dups)"
      ],
      "metadata": {
        "colab": {
          "base_uri": "https://localhost:8080/"
        },
        "id": "d69JWK2h1U7i",
        "outputId": "6e8dbe7f-b2eb-4120-b198-ac3606fff4f9"
      },
      "execution_count": null,
      "outputs": [
        {
          "output_type": "stream",
          "name": "stdout",
          "text": [
            "No. of duplicates :  0\n"
          ]
        }
      ]
    },
    {
      "cell_type": "markdown",
      "metadata": {
        "papermill": {
          "duration": 0.14048,
          "end_time": "2022-02-14T20:55:52.289382",
          "exception": false,
          "start_time": "2022-02-14T20:55:52.148902",
          "status": "completed"
        },
        "tags": [],
        "id": "917413fd"
      },
      "source": [
        "### **Univariate Analysis :-**"
      ]
    },
    {
      "cell_type": "code",
      "source": [
        "data.columns"
      ],
      "metadata": {
        "colab": {
          "base_uri": "https://localhost:8080/"
        },
        "id": "SKSENdJuMR_B",
        "outputId": "49b8a7ef-c53b-4e8f-9d41-7b0e534a8dc7"
      },
      "execution_count": null,
      "outputs": [
        {
          "output_type": "execute_result",
          "data": {
            "text/plain": [
              "Index(['GRE Score', 'TOEFL Score', 'University Rating', 'SOP', 'LOR ', 'CGPA',\n",
              "       'Research', 'Chance of Admit '],\n",
              "      dtype='object')"
            ]
          },
          "metadata": {},
          "execution_count": 14
        }
      ]
    },
    {
      "cell_type": "code",
      "source": [
        "# Checking for outliers in these columns by plotting the histplot\n",
        "\n",
        "x = 'GRE Score'\n",
        "plt.figure(figsize=(16,8))\n",
        "plt.hist(data[x], bins=50, label=x)\n",
        "plt.title(x)\n",
        "plt.show()"
      ],
      "metadata": {
        "colab": {
          "base_uri": "https://localhost:8080/",
          "height": 499
        },
        "id": "O7v0yVVK4yxp",
        "outputId": "0428c910-eada-4235-b49a-2e746cc7acff"
      },
      "execution_count": null,
      "outputs": [
        {
          "output_type": "display_data",
          "data": {
            "text/plain": [
              "<Figure size 1152x576 with 1 Axes>"
            ],
            "image/png": "[encoded data removed]"
          },
          "metadata": {
            "needs_background": "light"
          }
        }
      ]
    },
    {
      "cell_type": "markdown",
      "metadata": {
        "papermill": {
          "duration": 0.144872,
          "end_time": "2022-02-14T20:55:54.961447",
          "exception": false,
          "start_time": "2022-02-14T20:55:54.816575",
          "status": "completed"
        },
        "tags": [],
        "id": "3c50fa41"
      },
      "source": [
        "<p style= \"font-family:Georgia;color:#000000;font-size:110%;text-align:center;border-radius:10px 10px;border-style: dotted;border-width:5px;border-color:#19e6e6;\"><b>Insights:-</b>By analyzing the distribution of GREScore, we can say that highest number of the students GREscore is \"312\" & \"324\".<br>\n",
        " Highest GREScore of students is between \"304\" & \"330\".\n",
        "<br></p>"
      ]
    },
    {
      "cell_type": "code",
      "source": [
        "# Checking for outliers in these columns by plotting the histplot\n",
        "\n",
        "x = 'TOEFL Score'\n",
        "plt.figure(figsize=(16,8))\n",
        "plt.hist(data[x], bins=50, label=x)\n",
        "plt.title(x)\n",
        "plt.show()"
      ],
      "metadata": {
        "colab": {
          "base_uri": "https://localhost:8080/",
          "height": 499
        },
        "id": "SrWxW401Lcom",
        "outputId": "bdd6ad6d-ed3d-491c-b12e-f5d18c12451c"
      },
      "execution_count": null,
      "outputs": [
        {
          "output_type": "display_data",
          "data": {
            "text/plain": [
              "<Figure size 1152x576 with 1 Axes>"
            ],
            "image/png": "[encoded data removed]"
          },
          "metadata": {
            "needs_background": "light"
          }
        }
      ]
    },
    {
      "cell_type": "markdown",
      "metadata": {
        "papermill": {
          "duration": 0.144262,
          "end_time": "2022-02-14T20:55:56.248291",
          "exception": false,
          "start_time": "2022-02-14T20:55:56.104029",
          "status": "completed"
        },
        "tags": [],
        "id": "55575296"
      },
      "source": [
        "<p style= \"font-family:Georgia;color:#000000;font-size:110%;text-align:center;border-radius:10px 10px;border-style: dotted;border-width:5px;border-color:#19e6e6;\"><b>Insights:-</b>By analyzing the distribution of TOEFLScore, we can say that highest number of the students TOEFLscore is \"110\" & \"105\".<br>\n",
        " Highest TOEFLScore of students is between \"99\" & \"115\".\n",
        "<br></p>"
      ]
    },
    {
      "cell_type": "code",
      "source": [
        "# Checking for outliers in these columns by plotting the histplot\n",
        "\n",
        "x ='University Rating'\n",
        "plt.figure(figsize=(16,8))\n",
        "plt.hist(data[x], bins=50, label=x)\n",
        "plt.title(x)\n",
        "plt.show()"
      ],
      "metadata": {
        "colab": {
          "base_uri": "https://localhost:8080/",
          "height": 499
        },
        "id": "5jv4OJFaLhCl",
        "outputId": "843edd32-cc7f-4884-db35-326a0b415bf7"
      },
      "execution_count": null,
      "outputs": [
        {
          "output_type": "display_data",
          "data": {
            "text/plain": [
              "<Figure size 1152x576 with 1 Axes>"
            ],
            "image/png": "[encoded data removed]"
          },
          "metadata": {
            "needs_background": "light"
          }
        }
      ]
    },
    {
      "cell_type": "markdown",
      "metadata": {
        "papermill": {
          "duration": 0.145838,
          "end_time": "2022-02-14T20:55:57.582649",
          "exception": false,
          "start_time": "2022-02-14T20:55:57.436811",
          "status": "completed"
        },
        "tags": [],
        "id": "3ec5a768"
      },
      "source": [
        "<p style= \"font-family:Georgia;color:#000000;font-size:110%;text-align:center;border-radius:10px 10px;border-style: dotted;border-width:5px;border-color:#19e6e6;\"><b>Insights:-</b>By analyzing the distribution of University Rating, we can say that highest number of the University rating is \"2\" & \"3\".\n",
        "<br></p>"
      ]
    },
    {
      "cell_type": "code",
      "source": [
        "# Checking for outliers in these columns by plotting the histplot\n",
        "\n",
        "x = 'SOP'\n",
        "plt.figure(figsize=(16,8))\n",
        "plt.hist(data[x], bins=50, label=x)\n",
        "plt.title(x)\n",
        "plt.show()"
      ],
      "metadata": {
        "colab": {
          "base_uri": "https://localhost:8080/",
          "height": 499
        },
        "id": "YGwWjUfoLnN6",
        "outputId": "57e704c9-75aa-4829-fa60-04f06bbc40ee"
      },
      "execution_count": null,
      "outputs": [
        {
          "output_type": "display_data",
          "data": {
            "text/plain": [
              "<Figure size 1152x576 with 1 Axes>"
            ],
            "image/png": "[encoded data removed]"
          },
          "metadata": {
            "needs_background": "light"
          }
        }
      ]
    },
    {
      "cell_type": "markdown",
      "metadata": {
        "papermill": {
          "duration": 0.144968,
          "end_time": "2022-02-14T20:55:58.852816",
          "exception": false,
          "start_time": "2022-02-14T20:55:58.707848",
          "status": "completed"
        },
        "tags": [],
        "id": "b9388794"
      },
      "source": [
        "<p style= \"font-family:Georgia;color:#000000;font-size:110%;text-align:center;border-radius:10px 10px;border-style: dotted;border-width:5px;border-color:#19e6e6;\"><b>Insights:-</b>By analyzing the distribution of SOP, we can say that highest number of the Statement of purpose is  between \"2.5\" & \"4.5\".\n",
        "<br></p>"
      ]
    },
    {
      "cell_type": "code",
      "source": [
        "# Checking for outliers in these columns by plotting the histplot\n",
        "\n",
        "x = 'LOR '\n",
        "plt.figure(figsize=(16,8))\n",
        "plt.hist(data[x], bins=50, label=x)\n",
        "plt.title(x)\n",
        "plt.show()"
      ],
      "metadata": {
        "colab": {
          "base_uri": "https://localhost:8080/",
          "height": 499
        },
        "id": "nxR-ojicMEH3",
        "outputId": "471269b0-e377-4e35-c405-96a11d762995"
      },
      "execution_count": null,
      "outputs": [
        {
          "output_type": "display_data",
          "data": {
            "text/plain": [
              "<Figure size 1152x576 with 1 Axes>"
            ],
            "image/png": "[encoded data removed]"
          },
          "metadata": {
            "needs_background": "light"
          }
        }
      ]
    },
    {
      "cell_type": "markdown",
      "metadata": {
        "papermill": {
          "duration": 0.149007,
          "end_time": "2022-02-14T20:56:00.136424",
          "exception": false,
          "start_time": "2022-02-14T20:55:59.987417",
          "status": "completed"
        },
        "tags": [],
        "id": "8a87c873"
      },
      "source": [
        "<p style= \"font-family:Georgia;color:#000000;font-size:110%;text-align:center;border-radius:10px 10px;border-style: dotted;border-width:5px;border-color:#19e6e6;\"><b>Insights:-</b>By analyzing the distribution of LOR, we can say that highest number of the Letter of recommendation (LOR) is between \"2.5\" & \"4.5\".\n",
        "<br></p>"
      ]
    },
    {
      "cell_type": "code",
      "source": [
        "# Checking for outliers in these columns by plotting the histplot\n",
        "\n",
        "x = 'Research'\n",
        "plt.figure(figsize=(16,8))\n",
        "plt.hist(data[x], bins=50, label=x)\n",
        "plt.title(x)\n",
        "plt.show()"
      ],
      "metadata": {
        "colab": {
          "base_uri": "https://localhost:8080/",
          "height": 499
        },
        "id": "kkBF8F6JMF7W",
        "outputId": "6ada5cf1-8d0b-460f-e613-81cc5adcbd7d"
      },
      "execution_count": null,
      "outputs": [
        {
          "output_type": "display_data",
          "data": {
            "text/plain": [
              "<Figure size 1152x576 with 1 Axes>"
            ],
            "image/png": "[encoded data removed]"
          },
          "metadata": {
            "needs_background": "light"
          }
        }
      ]
    },
    {
      "cell_type": "markdown",
      "metadata": {
        "papermill": {
          "duration": 0.149259,
          "end_time": "2022-02-14T20:56:01.432899",
          "exception": false,
          "start_time": "2022-02-14T20:56:01.283640",
          "status": "completed"
        },
        "tags": [],
        "id": "d3113bd9"
      },
      "source": [
        "<p style= \"font-family:Georgia;color:#000000;font-size:110%;text-align:center;border-radius:10px 10px;border-style: dotted;border-width:5px;border-color:#19e6e6;\"><b>Insights:-</b>By analyzing the distribution of Research, we can say that highest number of the students Research is \"1\".\n",
        "<br></p>"
      ]
    },
    {
      "cell_type": "code",
      "source": [
        "# Checking for outliers in these columns by plotting the histplot\n",
        "\n",
        "x = 'CGPA'\n",
        "plt.figure(figsize=(16,8))\n",
        "plt.hist(data[x], bins=50, label=x)\n",
        "plt.title(x)\n",
        "plt.show()"
      ],
      "metadata": {
        "colab": {
          "base_uri": "https://localhost:8080/",
          "height": 353
        },
        "id": "yuAlrhnRYGzC",
        "outputId": "536affb5-c7cc-4c50-9050-14ff9557bcea"
      },
      "execution_count": null,
      "outputs": [
        {
          "output_type": "display_data",
          "data": {
            "text/plain": [
              "<Figure size 1152x576 with 1 Axes>"
            ],
            "image/png": "[encoded data removed]"
          },
          "metadata": {
            "needs_background": "light"
          }
        }
      ]
    },
    {
      "cell_type": "markdown",
      "metadata": {
        "papermill": {
          "duration": 0.149259,
          "end_time": "2022-02-14T20:56:01.432899",
          "exception": false,
          "start_time": "2022-02-14T20:56:01.283640",
          "status": "completed"
        },
        "tags": [],
        "id": "nMX3uk_MYNMY"
      },
      "source": [
        "**Insights** - By analyzing the distribution of CGPA, we can say that majority of students have got a CGPA between 8 and 9.\n"
      ]
    },
    {
      "cell_type": "code",
      "source": [
        "# Checking for outliers in these columns by plotting the histplot\n",
        "\n",
        "x = 'Chance of Admit '\n",
        "plt.figure(figsize=(16,8))\n",
        "plt.hist(data[x], bins=50, label=x)\n",
        "plt.title(x)\n",
        "plt.show()"
      ],
      "metadata": {
        "colab": {
          "base_uri": "https://localhost:8080/",
          "height": 499
        },
        "id": "mrKJzgwpMIDF",
        "outputId": "7a245fea-51bd-4ca2-e199-33f1dc7a9426"
      },
      "execution_count": null,
      "outputs": [
        {
          "output_type": "display_data",
          "data": {
            "text/plain": [
              "<Figure size 1152x576 with 1 Axes>"
            ],
            "image/png": "[encoded data removed]"
          },
          "metadata": {
            "needs_background": "light"
          }
        }
      ]
    },
    {
      "cell_type": "markdown",
      "metadata": {
        "papermill": {
          "duration": 0.151474,
          "end_time": "2022-02-14T20:56:02.746122",
          "exception": false,
          "start_time": "2022-02-14T20:56:02.594648",
          "status": "completed"
        },
        "tags": [],
        "id": "0ab23364"
      },
      "source": [
        "<p style= \"font-family:Georgia;color:#000000;font-size:110%;text-align:center;border-radius:10px 10px;border-style: dotted;border-width:5px;border-color:#19e6e6;\"><b>Insights:-</b>By analyzing the distribution of ChanceOfAdmit, we can say that highest percentage of the getting admission at the university is between \"0.6\" & \"1.0\".\n",
        "<br></p>"
      ]
    },
    {
      "cell_type": "markdown",
      "metadata": {
        "papermill": {
          "duration": 0.151106,
          "end_time": "2022-02-14T20:56:03.048669",
          "exception": false,
          "start_time": "2022-02-14T20:56:02.897563",
          "status": "completed"
        },
        "tags": [],
        "id": "573da7b6"
      },
      "source": [
        "### **Bivariate Analysis :-**"
      ]
    },
    {
      "cell_type": "code",
      "source": [
        "x = 'GRE Score'\n",
        "plt.figure(figsize=(16,8))\n",
        "sns.boxplot(x=data[x], y=data['Chance of Admit '])\n",
        "plt.title(x)\n",
        "plt.show()"
      ],
      "metadata": {
        "id": "B9O3BFYEJtRR",
        "colab": {
          "base_uri": "https://localhost:8080/",
          "height": 414
        },
        "outputId": "8e5b54e3-b6f7-48ce-f71d-9b967688b262"
      },
      "execution_count": null,
      "outputs": [
        {
          "output_type": "display_data",
          "data": {
            "text/plain": [
              "<Figure size 1152x576 with 1 Axes>"
            ],
            "image/png": "[encoded data removed]"
          },
          "metadata": {
            "needs_background": "light"
          }
        }
      ]
    },
    {
      "cell_type": "code",
      "source": [
        "x = 'GRE Score'\n",
        "plt.figure(figsize=(16,8))\n",
        "plt.scatter(x=data[x], y=data['Chance of Admit '])\n",
        "plt.title(x)\n",
        "plt.show()"
      ],
      "metadata": {
        "colab": {
          "base_uri": "https://localhost:8080/",
          "height": 408
        },
        "id": "_olyQEB2Fyep",
        "outputId": "6178fc1f-452d-4dbc-b415-ef39763aa43b"
      },
      "execution_count": null,
      "outputs": [
        {
          "output_type": "display_data",
          "data": {
            "text/plain": [
              "<Figure size 1152x576 with 1 Axes>"
            ],
            "image/png": "[encoded data removed]"
          },
          "metadata": {
            "needs_background": "light"
          }
        }
      ]
    },
    {
      "cell_type": "markdown",
      "metadata": {
        "papermill": {
          "duration": 0.158495,
          "end_time": "2022-02-14T20:56:06.104169",
          "exception": false,
          "start_time": "2022-02-14T20:56:05.945674",
          "status": "completed"
        },
        "tags": [],
        "id": "Ub_mfBaFDnvi"
      },
      "source": [
        "<p style= \"font-family:Georgia;color:#000000;font-size:110%;text-align:center;border-radius:10px 10px;border-style: dotted;border-width:5px;border-color:#19e6e6;\"><b>Insights:-</b>There is a strong positive relationship between GRE Score and ChanceOfAdmit.\n",
        "<br></p>"
      ]
    },
    {
      "cell_type": "code",
      "source": [
        "x = 'TOEFL Score'\n",
        "plt.figure(figsize=(16,8))\n",
        "sns.boxplot(x=data[x], y=data['Chance of Admit '])\n",
        "plt.title(x)\n",
        "plt.show()"
      ],
      "metadata": {
        "colab": {
          "base_uri": "https://localhost:8080/",
          "height": 414
        },
        "id": "b56pbboMDkid",
        "outputId": "400492ba-74a0-4495-aa22-ace3cd32d130"
      },
      "execution_count": null,
      "outputs": [
        {
          "output_type": "display_data",
          "data": {
            "text/plain": [
              "<Figure size 1152x576 with 1 Axes>"
            ],
            "image/png": "[encoded data removed]"
          },
          "metadata": {
            "needs_background": "light"
          }
        }
      ]
    },
    {
      "cell_type": "code",
      "source": [
        "x = 'TOEFL Score'\n",
        "plt.figure(figsize=(16,8))\n",
        "plt.scatter(x=data[x], y=data['Chance of Admit '])\n",
        "plt.title(x)\n",
        "plt.show()"
      ],
      "metadata": {
        "colab": {
          "base_uri": "https://localhost:8080/",
          "height": 408
        },
        "id": "qYnnpJLVF2Jx",
        "outputId": "e0cb8fb4-2428-463d-af74-417c6a083f29"
      },
      "execution_count": null,
      "outputs": [
        {
          "output_type": "display_data",
          "data": {
            "text/plain": [
              "<Figure size 1152x576 with 1 Axes>"
            ],
            "image/png": "[encoded data removed]"
          },
          "metadata": {
            "needs_background": "light"
          }
        }
      ]
    },
    {
      "cell_type": "markdown",
      "metadata": {
        "papermill": {
          "duration": 0.158495,
          "end_time": "2022-02-14T20:56:06.104169",
          "exception": false,
          "start_time": "2022-02-14T20:56:05.945674",
          "status": "completed"
        },
        "tags": [],
        "id": "9282f444"
      },
      "source": [
        "<p style= \"font-family:Georgia;color:#000000;font-size:110%;text-align:center;border-radius:10px 10px;border-style: dotted;border-width:5px;border-color:#19e6e6;\"><b>Insights:-</b>There is a strong positive relationship between TOEFLScore and ChanceOfAdmit.\n",
        "<br></p>"
      ]
    },
    {
      "cell_type": "code",
      "source": [
        "x = 'University Rating'\n",
        "plt.figure(figsize=(16,8))\n",
        "sns.boxplot(x=data[x], y=data['Chance of Admit '])\n",
        "plt.title(x)\n",
        "plt.show()"
      ],
      "metadata": {
        "id": "fg6Mj7qjKBN2",
        "colab": {
          "base_uri": "https://localhost:8080/",
          "height": 414
        },
        "outputId": "f54fe4e1-e8c7-44a9-e1c0-06b7fbe8404a"
      },
      "execution_count": null,
      "outputs": [
        {
          "output_type": "display_data",
          "data": {
            "text/plain": [
              "<Figure size 1152x576 with 1 Axes>"
            ],
            "image/png": "[encoded data removed]"
          },
          "metadata": {
            "needs_background": "light"
          }
        }
      ]
    },
    {
      "cell_type": "code",
      "source": [
        "x = 'University Rating'\n",
        "plt.figure(figsize=(16,8))\n",
        "plt.scatter(x=data[x], y=data['Chance of Admit '])\n",
        "plt.title(x)\n",
        "plt.show()"
      ],
      "metadata": {
        "colab": {
          "base_uri": "https://localhost:8080/",
          "height": 408
        },
        "id": "G0Em_oGrEneJ",
        "outputId": "0baced47-4d34-4da8-834d-be9080f1e5f7"
      },
      "execution_count": null,
      "outputs": [
        {
          "output_type": "display_data",
          "data": {
            "text/plain": [
              "<Figure size 1152x576 with 1 Axes>"
            ],
            "image/png": "[encoded data removed]"
          },
          "metadata": {
            "needs_background": "light"
          }
        }
      ]
    },
    {
      "cell_type": "markdown",
      "metadata": {
        "papermill": {
          "duration": 0.157405,
          "end_time": "2022-02-14T20:56:07.270993",
          "exception": false,
          "start_time": "2022-02-14T20:56:07.113588",
          "status": "completed"
        },
        "tags": [],
        "id": "10021e59"
      },
      "source": [
        "<p style= \"font-family:Georgia;color:#000000;font-size:110%;text-align:center;border-radius:10px 10px;border-style: dotted;border-width:5px;border-color:#19e6e6;\"><b>Insights:-</b> Since there are many outliers we can't be fully sure that there is a strong relationship but we can say that there is a slight positive influence between University Rating and ChanceOfAdmit. \n",
        "<br></p>"
      ]
    },
    {
      "cell_type": "code",
      "source": [
        "x = 'SOP'\n",
        "plt.figure(figsize=(16,8))\n",
        "sns.boxplot(x=data[x], y=data['Chance of Admit '])\n",
        "plt.title(x)\n",
        "plt.show()"
      ],
      "metadata": {
        "colab": {
          "base_uri": "https://localhost:8080/",
          "height": 414
        },
        "id": "0FOAyvICGAxV",
        "outputId": "caba55a9-f852-4e27-9037-d07b53b25cae"
      },
      "execution_count": null,
      "outputs": [
        {
          "output_type": "display_data",
          "data": {
            "text/plain": [
              "<Figure size 1152x576 with 1 Axes>"
            ],
            "image/png": "[encoded data removed]"
          },
          "metadata": {
            "needs_background": "light"
          }
        }
      ]
    },
    {
      "cell_type": "code",
      "source": [
        "x = 'SOP'\n",
        "plt.figure(figsize=(16,8))\n",
        "plt.scatter(x=data[x], y=data['Chance of Admit '])\n",
        "plt.title(x)\n",
        "plt.show()"
      ],
      "metadata": {
        "colab": {
          "base_uri": "https://localhost:8080/",
          "height": 408
        },
        "id": "dQv388gEdbZY",
        "outputId": "07c33886-6fc5-4bf0-8417-49e9f9c1a3ba"
      },
      "execution_count": null,
      "outputs": [
        {
          "output_type": "display_data",
          "data": {
            "text/plain": [
              "<Figure size 1152x576 with 1 Axes>"
            ],
            "image/png": "[encoded data removed]"
          },
          "metadata": {
            "needs_background": "light"
          }
        }
      ]
    },
    {
      "cell_type": "markdown",
      "metadata": {
        "papermill": {
          "duration": 0.160083,
          "end_time": "2022-02-14T20:56:08.423418",
          "exception": false,
          "start_time": "2022-02-14T20:56:08.263335",
          "status": "completed"
        },
        "tags": [],
        "id": "6fe4cbb4"
      },
      "source": [
        "<p style= \"font-family:Georgia;color:#000000;font-size:110%;text-align:center;border-radius:10px 10px;border-style: dotted;border-width:5px;border-color:#19e6e6;\"><b>Insights:-</b> Since there are many outliers we can't be fully sure that there is a strong relationship but we can say that there is a slight positive influence between SOP and ChanceOfAdmit.\n",
        "<br></p>"
      ]
    },
    {
      "cell_type": "code",
      "source": [
        "x = 'CGPA'\n",
        "plt.figure(figsize=(16,8))\n",
        "sns.boxplot(x=data[x], y=data['Chance of Admit '])\n",
        "plt.title(x)\n",
        "plt.show()"
      ],
      "metadata": {
        "colab": {
          "base_uri": "https://localhost:8080/",
          "height": 410
        },
        "id": "X4Uo_CBGdf1u",
        "outputId": "6b66445a-1e41-455b-c074-d58fb9c9864e"
      },
      "execution_count": null,
      "outputs": [
        {
          "output_type": "display_data",
          "data": {
            "text/plain": [
              "<Figure size 1152x576 with 1 Axes>"
            ],
            "image/png": "[encoded data removed]"
          },
          "metadata": {
            "needs_background": "light"
          }
        }
      ]
    },
    {
      "cell_type": "code",
      "source": [
        "x = 'CGPA'\n",
        "plt.figure(figsize=(16,8))\n",
        "plt.scatter(x=data[x], y=data['Chance of Admit '])\n",
        "plt.title(x)\n",
        "plt.show()"
      ],
      "metadata": {
        "colab": {
          "base_uri": "https://localhost:8080/",
          "height": 408
        },
        "id": "ySAmMR28FFzX",
        "outputId": "866ecd8b-af06-4e37-ff16-eab96e8f00c8"
      },
      "execution_count": null,
      "outputs": [
        {
          "output_type": "display_data",
          "data": {
            "text/plain": [
              "<Figure size 1152x576 with 1 Axes>"
            ],
            "image/png": "[encoded data removed]"
          },
          "metadata": {
            "needs_background": "light"
          }
        }
      ]
    },
    {
      "cell_type": "markdown",
      "metadata": {
        "papermill": {
          "duration": 0.163059,
          "end_time": "2022-02-14T20:56:10.767878",
          "exception": false,
          "start_time": "2022-02-14T20:56:10.604819",
          "status": "completed"
        },
        "tags": [],
        "id": "d684ca65"
      },
      "source": [
        "<p style= \"font-family:Georgia;color:#000000;font-size:110%;text-align:center;border-radius:10px 10px;border-style: dotted;border-width:5px;border-color:#19e6e6;\"><b>Insights:-</b>Here we can see that CGPA and ChanceOfAdmit has strong positive relation.\n",
        "<br></p>"
      ]
    },
    {
      "cell_type": "code",
      "source": [
        "x = 'Research'\n",
        "plt.figure(figsize=(16,8))\n",
        "sns.boxplot(x=data[x], y=data['Chance of Admit '])\n",
        "plt.title(x)\n",
        "plt.show()"
      ],
      "metadata": {
        "colab": {
          "base_uri": "https://localhost:8080/",
          "height": 414
        },
        "id": "iARUgzexGNf6",
        "outputId": "6650dfb3-f42c-4947-de16-47d70991e67e"
      },
      "execution_count": null,
      "outputs": [
        {
          "output_type": "display_data",
          "data": {
            "text/plain": [
              "<Figure size 1152x576 with 1 Axes>"
            ],
            "image/png": "[encoded data removed]"
          },
          "metadata": {
            "needs_background": "light"
          }
        }
      ]
    },
    {
      "cell_type": "code",
      "source": [
        "x = 'Research'\n",
        "plt.figure(figsize=(16,8))\n",
        "plt.scatter(x=data[x], y=data['Chance of Admit '])\n",
        "plt.title(x)\n",
        "plt.show()"
      ],
      "metadata": {
        "colab": {
          "base_uri": "https://localhost:8080/",
          "height": 408
        },
        "id": "Hdw-qb9KdpFZ",
        "outputId": "7936be8f-23b0-4db9-a153-8d8920fb4fe4"
      },
      "execution_count": null,
      "outputs": [
        {
          "output_type": "display_data",
          "data": {
            "text/plain": [
              "<Figure size 1152x576 with 1 Axes>"
            ],
            "image/png": "[encoded data removed]"
          },
          "metadata": {
            "needs_background": "light"
          }
        }
      ]
    },
    {
      "cell_type": "markdown",
      "metadata": {
        "papermill": {
          "duration": 0.165705,
          "end_time": "2022-02-14T20:56:11.965865",
          "exception": false,
          "start_time": "2022-02-14T20:56:11.800160",
          "status": "completed"
        },
        "tags": [],
        "id": "5a21ba34"
      },
      "source": [
        "<p style= \"font-family:Georgia;color:#000000;font-size:110%;text-align:center;border-radius:10px 10px;border-style: dotted;border-width:5px;border-color:#19e6e6;\"><b>Insights:-</b>Since there are many outliers, we can't see any relationship between Research and ChanceOfAdmit.\n",
        "<br></p>"
      ]
    },
    {
      "cell_type": "code",
      "source": [
        "x = 'LOR '\n",
        "plt.figure(figsize=(16,8))\n",
        "sns.boxplot(x=data[x], y=data['Chance of Admit '])\n",
        "plt.title(x)\n",
        "plt.show()"
      ],
      "metadata": {
        "colab": {
          "base_uri": "https://localhost:8080/",
          "height": 414
        },
        "id": "yraVsXrRGQfQ",
        "outputId": "7e0598d2-b335-4f67-c4a5-0d0eca27a8f1"
      },
      "execution_count": null,
      "outputs": [
        {
          "output_type": "display_data",
          "data": {
            "text/plain": [
              "<Figure size 1152x576 with 1 Axes>"
            ],
            "image/png": "[encoded data removed]"
          },
          "metadata": {
            "needs_background": "light"
          }
        }
      ]
    },
    {
      "cell_type": "code",
      "source": [
        "x = 'LOR '\n",
        "plt.figure(figsize=(16,8))\n",
        "plt.scatter(x=data[x], y=data['Chance of Admit '])\n",
        "plt.title(x)\n",
        "plt.show()"
      ],
      "metadata": {
        "colab": {
          "base_uri": "https://localhost:8080/",
          "height": 408
        },
        "id": "h79-K6NHFm0A",
        "outputId": "e6d437a5-f024-4d68-8c79-4886c5196438"
      },
      "execution_count": null,
      "outputs": [
        {
          "output_type": "display_data",
          "data": {
            "text/plain": [
              "<Figure size 1152x576 with 1 Axes>"
            ],
            "image/png": "[encoded data removed]"
          },
          "metadata": {
            "needs_background": "light"
          }
        }
      ]
    },
    {
      "cell_type": "markdown",
      "metadata": {
        "papermill": {
          "duration": 0.160083,
          "end_time": "2022-02-14T20:56:08.423418",
          "exception": false,
          "start_time": "2022-02-14T20:56:08.263335",
          "status": "completed"
        },
        "tags": [],
        "id": "4VQKZ4LJGdhw"
      },
      "source": [
        "<p style= \"font-family:Georgia;color:#000000;font-size:110%;text-align:center;border-radius:10px 10px;border-style: dotted;border-width:5px;border-color:#19e6e6;\"><b>Insights:-</b> Since there are many outliers we can't be fully sure that there is a strong relationship but we can say that there is a slight positive influence between LOR and ChanceOfAdmit.\n",
        "<br></p>"
      ]
    },
    {
      "cell_type": "markdown",
      "metadata": {
        "papermill": {
          "duration": 0.165785,
          "end_time": "2022-02-14T20:56:12.298972",
          "exception": false,
          "start_time": "2022-02-14T20:56:12.133187",
          "status": "completed"
        },
        "tags": [],
        "id": "7ff296aa"
      },
      "source": [
        "### **Hypothesis Testing :-**"
      ]
    },
    {
      "cell_type": "code",
      "source": [
        "data['Admission_categories'] = 0\n",
        "data.loc[(data['Chance of Admit ']>=0)&(data['Chance of Admit ']<=0.35),'Admission_categories'] = 'Low'\n",
        "data.loc[(data['Chance of Admit ']>0.35)&(data['Chance of Admit ']<=0.7),'Admission_categories'] = 'Medium'\n",
        "data.loc[data['Chance of Admit ']>0.7,'Admission_categories'] = 'High'"
      ],
      "metadata": {
        "id": "kOYPvnhDd1xf"
      },
      "execution_count": null,
      "outputs": []
    },
    {
      "cell_type": "code",
      "source": [
        "plt.figure(figsize=(16,8))\n",
        "plt.bar(data['Admission_categories'].value_counts().index, data['Admission_categories'].value_counts().values.tolist())\n",
        "plt.title(x)\n",
        "plt.show()"
      ],
      "metadata": {
        "id": "SE9FOKMWeF9o",
        "colab": {
          "base_uri": "https://localhost:8080/",
          "height": 406
        },
        "outputId": "8d3bb412-4067-4a11-9f36-4f0d0eaa88fd"
      },
      "execution_count": null,
      "outputs": [
        {
          "output_type": "display_data",
          "data": {
            "text/plain": [
              "<Figure size 1152x576 with 1 Axes>"
            ],
            "image/png": "[encoded data removed]"
          },
          "metadata": {
            "needs_background": "light"
          }
        }
      ]
    },
    {
      "cell_type": "markdown",
      "source": [
        "#### **Does the GRE score affect the probability of getting Admission? (chi square test)**\n",
        "\n",
        "1. H0: GREScore and Admission_categories are independent.\n",
        "\n",
        "2. H1: GREScore and Admission_categories dependent."
      ],
      "metadata": {
        "id": "mxrXkqa_JFoN"
      }
    },
    {
      "cell_type": "code",
      "source": [
        "x = 'GRE Score'\n",
        "plt.figure(figsize=(16,8))\n",
        "sns.boxplot(x=data[x], y=data['Admission_categories'])\n",
        "plt.title(x)\n",
        "plt.show()"
      ],
      "metadata": {
        "colab": {
          "base_uri": "https://localhost:8080/",
          "height": 403
        },
        "id": "51ZOZvBHI9e0",
        "outputId": "6fda0ebe-33ea-4d0a-c83b-1cad251e9b77"
      },
      "execution_count": null,
      "outputs": [
        {
          "output_type": "display_data",
          "data": {
            "text/plain": [
              "<Figure size 1152x576 with 1 Axes>"
            ],
            "image/png": "[encoded data removed]"
          },
          "metadata": {
            "needs_background": "light"
          }
        }
      ]
    },
    {
      "cell_type": "code",
      "source": [
        "Admission_Gre = pd.crosstab(data[\"Admission_categories\"],data[\"GRE Score\"])\n",
        "print(Admission_Gre)"
      ],
      "metadata": {
        "colab": {
          "base_uri": "https://localhost:8080/"
        },
        "id": "2O4917ECJv6i",
        "outputId": "a98a8ac2-c765-4800-de31-15c7786747bd"
      },
      "execution_count": null,
      "outputs": [
        {
          "output_type": "stream",
          "name": "stdout",
          "text": [
            "GRE Score             290  293  294  295  296  297  298  299  300  301  ...  \\\n",
            "Admission_categories                                                    ...   \n",
            "High                    0    0    0    0    0    0    0    0    1    0  ...   \n",
            "Low                     0    0    0    0    0    1    1    0    0    0  ...   \n",
            "Medium                  2    1    2    5    5    5    9   10   11   11  ...   \n",
            "\n",
            "GRE Score             331  332  333  334  335  336  337  338  339  340  \n",
            "Admission_categories                                                    \n",
            "High                    9    8    4    8    4    5    2    4    3    9  \n",
            "Low                     0    0    0    0    0    0    0    0    0    0  \n",
            "Medium                  0    0    0    0    0    0    0    0    0    0  \n",
            "\n",
            "[3 rows x 49 columns]\n"
          ]
        }
      ]
    },
    {
      "cell_type": "code",
      "source": [
        "from scipy.stats import chi2_contingency\n",
        "from scipy.stats import chi2\n",
        "\n",
        "stat, p, dof, expected = chi2_contingency(Admission_Gre)\n",
        "print('Degress of freedom = %d' % dof)\n",
        "print('Expected frequencies ', expected)"
      ],
      "metadata": {
        "colab": {
          "base_uri": "https://localhost:8080/"
        },
        "id": "lOBPNtiJJ0hB",
        "outputId": "38d89338-1315-4923-8fe8-72ad68312da8"
      },
      "execution_count": null,
      "outputs": [
        {
          "output_type": "stream",
          "name": "stdout",
          "text": [
            "Degress of freedom = 96\n",
            "Expected frequencies  [[1.1480e+00 5.7400e-01 1.1480e+00 2.8700e+00 2.8700e+00 3.4440e+00\n",
            "  5.7400e+00 5.7400e+00 6.8880e+00 6.3140e+00 4.0180e+00 2.8700e+00\n",
            "  6.8880e+00 6.3140e+00 4.0180e+00 5.7400e+00 7.4620e+00 5.1660e+00\n",
            "  6.3140e+00 9.1840e+00 1.3776e+01 6.8880e+00 9.1840e+00 7.4620e+00\n",
            "  1.0332e+01 8.6100e+00 6.8880e+00 6.8880e+00 9.1840e+00 9.7580e+00\n",
            "  9.7580e+00 7.4620e+00 1.3202e+01 8.6100e+00 6.8880e+00 9.7580e+00\n",
            "  5.1660e+00 5.7400e+00 4.5920e+00 5.1660e+00 4.5920e+00 2.2960e+00\n",
            "  4.5920e+00 2.2960e+00 2.8700e+00 1.1480e+00 2.2960e+00 1.7220e+00\n",
            "  5.1660e+00]\n",
            " [8.0000e-03 4.0000e-03 8.0000e-03 2.0000e-02 2.0000e-02 2.4000e-02\n",
            "  4.0000e-02 4.0000e-02 4.8000e-02 4.4000e-02 2.8000e-02 2.0000e-02\n",
            "  4.8000e-02 4.4000e-02 2.8000e-02 4.0000e-02 5.2000e-02 3.6000e-02\n",
            "  4.4000e-02 6.4000e-02 9.6000e-02 4.8000e-02 6.4000e-02 5.2000e-02\n",
            "  7.2000e-02 6.0000e-02 4.8000e-02 4.8000e-02 6.4000e-02 6.8000e-02\n",
            "  6.8000e-02 5.2000e-02 9.2000e-02 6.0000e-02 4.8000e-02 6.8000e-02\n",
            "  3.6000e-02 4.0000e-02 3.2000e-02 3.6000e-02 3.2000e-02 1.6000e-02\n",
            "  3.2000e-02 1.6000e-02 2.0000e-02 8.0000e-03 1.6000e-02 1.2000e-02\n",
            "  3.6000e-02]\n",
            " [8.4400e-01 4.2200e-01 8.4400e-01 2.1100e+00 2.1100e+00 2.5320e+00\n",
            "  4.2200e+00 4.2200e+00 5.0640e+00 4.6420e+00 2.9540e+00 2.1100e+00\n",
            "  5.0640e+00 4.6420e+00 2.9540e+00 4.2200e+00 5.4860e+00 3.7980e+00\n",
            "  4.6420e+00 6.7520e+00 1.0128e+01 5.0640e+00 6.7520e+00 5.4860e+00\n",
            "  7.5960e+00 6.3300e+00 5.0640e+00 5.0640e+00 6.7520e+00 7.1740e+00\n",
            "  7.1740e+00 5.4860e+00 9.7060e+00 6.3300e+00 5.0640e+00 7.1740e+00\n",
            "  3.7980e+00 4.2200e+00 3.3760e+00 3.7980e+00 3.3760e+00 1.6880e+00\n",
            "  3.3760e+00 1.6880e+00 2.1100e+00 8.4400e-01 1.6880e+00 1.2660e+00\n",
            "  3.7980e+00]]\n"
          ]
        }
      ]
    },
    {
      "cell_type": "code",
      "source": [
        "prob = 0.95\n",
        "critical = chi2.ppf(0.95, dof)\n",
        "print('probability=%.3f, critical=%.3f, stat=%.3f' % (prob, critical, stat))"
      ],
      "metadata": {
        "colab": {
          "base_uri": "https://localhost:8080/"
        },
        "id": "oeCLbj7iKHQm",
        "outputId": "70eb36ab-8b43-4810-efd1-de084d62ebe9"
      },
      "execution_count": null,
      "outputs": [
        {
          "output_type": "stream",
          "name": "stdout",
          "text": [
            "probability=0.950, critical=119.871, stat=318.492\n"
          ]
        }
      ]
    },
    {
      "cell_type": "code",
      "source": [
        "# interpret test-statistic\n",
        "if abs(stat) >= critical:\n",
        "    print('The variables are dependent (We reject H0)')\n",
        "else:\n",
        "    print('The variables are independent (We fail to reject H0)')"
      ],
      "metadata": {
        "colab": {
          "base_uri": "https://localhost:8080/"
        },
        "id": "xboGR550KJa7",
        "outputId": "77630b47-341e-4cbf-e677-806242b03549"
      },
      "execution_count": null,
      "outputs": [
        {
          "output_type": "stream",
          "name": "stdout",
          "text": [
            "The variables are dependent (We reject H0)\n"
          ]
        }
      ]
    },
    {
      "cell_type": "code",
      "source": [
        "# interpret p-value\n",
        "alpha = 1.0 - prob\n",
        "print('Significance = %.3f, p = %.3f' % (alpha, p))\n",
        "if p <= alpha:\n",
        "    print('The variables are dependent (We reject H0)')\n",
        "else:\n",
        "    print('The variables are independent (We fail to reject H0)')"
      ],
      "metadata": {
        "colab": {
          "base_uri": "https://localhost:8080/"
        },
        "id": "A2RcnpriKK8U",
        "outputId": "ee43d8f3-cfcc-4278-f5a0-1bfaaa0d2a1e"
      },
      "execution_count": null,
      "outputs": [
        {
          "output_type": "stream",
          "name": "stdout",
          "text": [
            "Significance = 0.050, p = 0.000\n",
            "The variables are dependent (We reject H0)\n"
          ]
        }
      ]
    },
    {
      "cell_type": "markdown",
      "source": [
        "We can see that,\n",
        "- The P-value is lower than the significance level of 5%, so we can reject the null hypothesis with a confidence of 95%.\n",
        "- This means, that GREScore and getting Admission are dependent with a confidence level of 95%."
      ],
      "metadata": {
        "id": "SDgqu-QUKM6a"
      }
    },
    {
      "cell_type": "markdown",
      "source": [
        "#### **Does the TOEFL score affect the probability of getting Admission? (chi square test)**\n",
        "\n",
        "1. H0: TOEFL Score and Admission_categories are independent.\n",
        "\n",
        "2. H1: TOEFL Score and Admission_categories dependent."
      ],
      "metadata": {
        "id": "CQnhG9mlLkXm"
      }
    },
    {
      "cell_type": "code",
      "source": [
        "x = 'TOEFL Score'\n",
        "plt.figure(figsize=(16,8))\n",
        "sns.boxplot(x=data[x], y=data['Admission_categories'])\n",
        "plt.title(x)\n",
        "plt.show()"
      ],
      "metadata": {
        "colab": {
          "base_uri": "https://localhost:8080/",
          "height": 403
        },
        "outputId": "5269a965-c8af-4be9-9326-b188ac34a23c",
        "id": "WlVcmxHJLkXn"
      },
      "execution_count": null,
      "outputs": [
        {
          "output_type": "display_data",
          "data": {
            "text/plain": [
              "<Figure size 1152x576 with 1 Axes>"
            ],
            "image/png": "[encoded data removed]"
          },
          "metadata": {
            "needs_background": "light"
          }
        }
      ]
    },
    {
      "cell_type": "code",
      "source": [
        "Admission_TOEFL = pd.crosstab(data[\"Admission_categories\"],data[\"TOEFL Score\"])\n",
        "print(Admission_TOEFL)"
      ],
      "metadata": {
        "colab": {
          "base_uri": "https://localhost:8080/"
        },
        "outputId": "8e717851-5a81-4194-8419-946104be0578",
        "id": "cMlmLa-YLkXo"
      },
      "execution_count": null,
      "outputs": [
        {
          "output_type": "stream",
          "name": "stdout",
          "text": [
            "TOEFL Score           92   93   94   95   96   97   98   99   100  101  ...  \\\n",
            "Admission_categories                                                    ...   \n",
            "High                    0    0    0    0    0    0    1    3    3    3  ...   \n",
            "Low                     0    0    0    0    1    0    1    0    0    0  ...   \n",
            "Medium                  1    2    2    3    5    7    8   20   21   17  ...   \n",
            "\n",
            "TOEFL Score           111  112  113  114  115  116  117  118  119  120  \n",
            "Admission_categories                                                    \n",
            "High                   17   27   19   16   10   16    8   10   10    9  \n",
            "Low                     0    0    0    0    0    0    0    0    0    0  \n",
            "Medium                  3    1    0    2    1    0    0    0    0    0  \n",
            "\n",
            "[3 rows x 29 columns]\n"
          ]
        }
      ]
    },
    {
      "cell_type": "code",
      "source": [
        "from scipy.stats import chi2_contingency\n",
        "from scipy.stats import chi2\n",
        "\n",
        "stat, p, dof, expected = chi2_contingency(Admission_Gre)\n",
        "print('Degress of freedom = %d' % dof)\n",
        "print('Expected frequencies ', expected)"
      ],
      "metadata": {
        "colab": {
          "base_uri": "https://localhost:8080/"
        },
        "outputId": "031732e9-08b6-4752-e090-dd58b3e3c585",
        "id": "wDZrsmiuLkXo"
      },
      "execution_count": null,
      "outputs": [
        {
          "output_type": "stream",
          "name": "stdout",
          "text": [
            "Degress of freedom = 56\n",
            "Expected frequencies  [[5.7400e-01 1.1480e+00 1.1480e+00 1.7220e+00 3.4440e+00 4.0180e+00\n",
            "  5.7400e+00 1.3202e+01 1.3776e+01 1.1480e+01 1.3776e+01 1.4350e+01\n",
            "  1.6646e+01 2.1238e+01 1.6072e+01 1.6072e+01 1.0906e+01 1.0906e+01\n",
            "  2.5256e+01 1.1480e+01 1.6072e+01 1.0906e+01 1.0332e+01 6.3140e+00\n",
            "  9.1840e+00 4.5920e+00 5.7400e+00 5.7400e+00 5.1660e+00]\n",
            " [4.0000e-03 8.0000e-03 8.0000e-03 1.2000e-02 2.4000e-02 2.8000e-02\n",
            "  4.0000e-02 9.2000e-02 9.6000e-02 8.0000e-02 9.6000e-02 1.0000e-01\n",
            "  1.1600e-01 1.4800e-01 1.1200e-01 1.1200e-01 7.6000e-02 7.6000e-02\n",
            "  1.7600e-01 8.0000e-02 1.1200e-01 7.6000e-02 7.2000e-02 4.4000e-02\n",
            "  6.4000e-02 3.2000e-02 4.0000e-02 4.0000e-02 3.6000e-02]\n",
            " [4.2200e-01 8.4400e-01 8.4400e-01 1.2660e+00 2.5320e+00 2.9540e+00\n",
            "  4.2200e+00 9.7060e+00 1.0128e+01 8.4400e+00 1.0128e+01 1.0550e+01\n",
            "  1.2238e+01 1.5614e+01 1.1816e+01 1.1816e+01 8.0180e+00 8.0180e+00\n",
            "  1.8568e+01 8.4400e+00 1.1816e+01 8.0180e+00 7.5960e+00 4.6420e+00\n",
            "  6.7520e+00 3.3760e+00 4.2200e+00 4.2200e+00 3.7980e+00]]\n"
          ]
        }
      ]
    },
    {
      "cell_type": "code",
      "source": [
        "prob = 0.95\n",
        "critical = chi2.ppf(0.95, dof)\n",
        "print('probability=%.3f, critical=%.3f, stat=%.3f' % (prob, critical, stat))"
      ],
      "metadata": {
        "colab": {
          "base_uri": "https://localhost:8080/"
        },
        "outputId": "eec25931-f749-46dd-c499-f31011e95806",
        "id": "AF7ykgXiLkXp"
      },
      "execution_count": null,
      "outputs": [
        {
          "output_type": "stream",
          "name": "stdout",
          "text": [
            "probability=0.950, critical=74.468, stat=279.615\n"
          ]
        }
      ]
    },
    {
      "cell_type": "code",
      "source": [
        "# interpret test-statistic\n",
        "if abs(stat) >= critical:\n",
        "    print('The variables are dependent (We reject H0)')\n",
        "else:\n",
        "    print('The variables are independent (We fail to reject H0)')"
      ],
      "metadata": {
        "colab": {
          "base_uri": "https://localhost:8080/"
        },
        "outputId": "394637c2-fb29-4e28-f195-07fa5fde7739",
        "id": "OSK_djX3LkXq"
      },
      "execution_count": null,
      "outputs": [
        {
          "output_type": "stream",
          "name": "stdout",
          "text": [
            "The variables are dependent (We reject H0)\n"
          ]
        }
      ]
    },
    {
      "cell_type": "code",
      "source": [
        "# interpret p-value\n",
        "alpha = 1.0 - prob\n",
        "print('Significance = %.3f, p = %.3f' % (alpha, p))\n",
        "if p <= alpha:\n",
        "    print('The variables are dependent (We reject H0)')\n",
        "else:\n",
        "    print('The variables are independent (We fail to reject H0)')"
      ],
      "metadata": {
        "colab": {
          "base_uri": "https://localhost:8080/"
        },
        "outputId": "95d54b7d-38c8-4038-d233-09adff0c4d17",
        "id": "R3QuZVdlLkXq"
      },
      "execution_count": null,
      "outputs": [
        {
          "output_type": "stream",
          "name": "stdout",
          "text": [
            "Significance = 0.050, p = 0.000\n",
            "The variables are dependent (We reject H0)\n"
          ]
        }
      ]
    },
    {
      "cell_type": "markdown",
      "source": [
        "We can see that,\n",
        "- The P-value is lower than the significance level of 5%, so we can reject the null hypothesis with a confidence of 95%.\n",
        "- This means, that TOEFL Score and getting Admission are dependent with a confidence level of 95%."
      ],
      "metadata": {
        "id": "ro1EPhp3LkXr"
      }
    },
    {
      "cell_type": "markdown",
      "source": [
        "#### **Does the UniversityRating  affect the probability of getting Admission? (chi square test)**\n",
        "\n",
        "1. H0: UniversityRating  and Admission_categories are independent.\n",
        "\n",
        "2. H1: UniversityRating  and Admission_categories dependent."
      ],
      "metadata": {
        "id": "ugOmb5BBL0pQ"
      }
    },
    {
      "cell_type": "code",
      "source": [
        "x = 'University Rating'\n",
        "plt.figure(figsize=(16,8))\n",
        "sns.boxplot(x=data[x], y=data['Admission_categories'])\n",
        "plt.title(x)\n",
        "plt.show()"
      ],
      "metadata": {
        "colab": {
          "base_uri": "https://localhost:8080/",
          "height": 403
        },
        "outputId": "e0fb08ac-d66d-4360-ffae-c3192853c88f",
        "id": "lkQlayn9L0pR"
      },
      "execution_count": null,
      "outputs": [
        {
          "output_type": "display_data",
          "data": {
            "text/plain": [
              "<Figure size 1152x576 with 1 Axes>"
            ],
            "image/png": "[encoded data removed]"
          },
          "metadata": {
            "needs_background": "light"
          }
        }
      ]
    },
    {
      "cell_type": "code",
      "source": [
        "Admission_ur = pd.crosstab(data[\"Admission_categories\"],data[\"University Rating\"])\n",
        "print(Admission_ur)"
      ],
      "metadata": {
        "colab": {
          "base_uri": "https://localhost:8080/"
        },
        "outputId": "90c18245-435b-47ed-d58c-4ae3091a2dc2",
        "id": "93o7Ph7KL0pS"
      },
      "execution_count": null,
      "outputs": [
        {
          "output_type": "stream",
          "name": "stdout",
          "text": [
            "University Rating      1   2   3   4   5\n",
            "Admission_categories                    \n",
            "High                   3  30  95  88  71\n",
            "Low                    0   2   0   0   0\n",
            "Medium                31  94  67  17   2\n"
          ]
        }
      ]
    },
    {
      "cell_type": "code",
      "source": [
        "from scipy.stats import chi2_contingency\n",
        "from scipy.stats import chi2\n",
        "\n",
        "stat, p, dof, expected = chi2_contingency(Admission_Gre)\n",
        "print('Degress of freedom = %d' % dof)\n",
        "print('Expected frequencies ', expected)"
      ],
      "metadata": {
        "colab": {
          "base_uri": "https://localhost:8080/"
        },
        "outputId": "7162113b-23f9-464c-fbf8-fb20e86b6942",
        "id": "3_qLSwqFL0pT"
      },
      "execution_count": null,
      "outputs": [
        {
          "output_type": "stream",
          "name": "stdout",
          "text": [
            "Degress of freedom = 8\n",
            "Expected frequencies  [[19.516 72.324 92.988 60.27  41.902]\n",
            " [ 0.136  0.504  0.648  0.42   0.292]\n",
            " [14.348 53.172 68.364 44.31  30.806]]\n"
          ]
        }
      ]
    },
    {
      "cell_type": "code",
      "source": [
        "prob = 0.95\n",
        "critical = chi2.ppf(0.95, dof)\n",
        "print('probability=%.3f, critical=%.3f, stat=%.3f' % (prob, critical, stat))"
      ],
      "metadata": {
        "colab": {
          "base_uri": "https://localhost:8080/"
        },
        "outputId": "e02f7028-5556-4f9a-9f54-9bb71e3ec956",
        "id": "6m54K2x8L0pU"
      },
      "execution_count": null,
      "outputs": [
        {
          "output_type": "stream",
          "name": "stdout",
          "text": [
            "probability=0.950, critical=15.507, stat=172.161\n"
          ]
        }
      ]
    },
    {
      "cell_type": "code",
      "source": [
        "# interpret test-statistic\n",
        "if abs(stat) >= critical:\n",
        "    print('The variables are dependent (We reject H0)')\n",
        "else:\n",
        "    print('The variables are independent (We fail to reject H0)')"
      ],
      "metadata": {
        "colab": {
          "base_uri": "https://localhost:8080/"
        },
        "outputId": "f89ae373-eb6f-4510-beec-61bbd90f4256",
        "id": "d0iTgIiKL0pU"
      },
      "execution_count": null,
      "outputs": [
        {
          "output_type": "stream",
          "name": "stdout",
          "text": [
            "The variables are dependent (We reject H0)\n"
          ]
        }
      ]
    },
    {
      "cell_type": "code",
      "source": [
        "# interpret p-value\n",
        "alpha = 1.0 - prob\n",
        "print('Significance = %.3f, p = %.3f' % (alpha, p))\n",
        "if p <= alpha:\n",
        "    print('The variables are dependent (We reject H0)')\n",
        "else:\n",
        "    print('The variables are independent (We fail to reject H0)')"
      ],
      "metadata": {
        "colab": {
          "base_uri": "https://localhost:8080/"
        },
        "outputId": "98fbdb5c-eba7-4fcd-cd05-6234d44b2637",
        "id": "TkbL8Um7L0pV"
      },
      "execution_count": null,
      "outputs": [
        {
          "output_type": "stream",
          "name": "stdout",
          "text": [
            "Significance = 0.050, p = 0.000\n",
            "The variables are dependent (We reject H0)\n"
          ]
        }
      ]
    },
    {
      "cell_type": "markdown",
      "source": [
        "We can see that,\n",
        "- The P-value is lower than the significance level of 5%, so we can reject the null hypothesis with a confidence of 95%.\n",
        "- This means, that University Rating  and getting Admission are dependent with a confidence level of 95%."
      ],
      "metadata": {
        "id": "wsGkCAVfL0pV"
      }
    },
    {
      "cell_type": "markdown",
      "source": [
        "#### **Does the SOP   affect the probability of getting Admission? (chi square test)**\n",
        "\n",
        "1. H0: SOP   and Admission_categories are independent.\n",
        "\n",
        "2. H1: SOP   and Admission_categories dependent."
      ],
      "metadata": {
        "id": "zCUx87EHMTzg"
      }
    },
    {
      "cell_type": "code",
      "source": [
        "x = 'SOP'\n",
        "plt.figure(figsize=(16,8))\n",
        "sns.boxplot(x=data[x], y=data['Admission_categories'])\n",
        "plt.title(x)\n",
        "plt.show()"
      ],
      "metadata": {
        "colab": {
          "base_uri": "https://localhost:8080/",
          "height": 403
        },
        "outputId": "b7d24004-a68e-4dde-948a-5771149a2d50",
        "id": "x9sztUnRMTzh"
      },
      "execution_count": null,
      "outputs": [
        {
          "output_type": "display_data",
          "data": {
            "text/plain": [
              "<Figure size 1152x576 with 1 Axes>"
            ],
            "image/png": "[encoded data removed]"
          },
          "metadata": {
            "needs_background": "light"
          }
        }
      ]
    },
    {
      "cell_type": "code",
      "source": [
        "Admission_sop = pd.crosstab(data[\"Admission_categories\"],data[\"SOP\"])\n",
        "print(Admission_sop)"
      ],
      "metadata": {
        "colab": {
          "base_uri": "https://localhost:8080/"
        },
        "outputId": "0479b349-d2da-4d1f-d8a7-471472d63ccf",
        "id": "42vDGU1YMTzi"
      },
      "execution_count": null,
      "outputs": [
        {
          "output_type": "stream",
          "name": "stdout",
          "text": [
            "SOP                   1.0  1.5  2.0  2.5  3.0  3.5  4.0  4.5  5.0\n",
            "Admission_categories                                             \n",
            "High                    0    2    7   17   39   53   71   58   40\n",
            "Low                     0    0    0    1    0    0    1    0    0\n",
            "Medium                  6   23   36   46   41   35   17    5    2\n"
          ]
        }
      ]
    },
    {
      "cell_type": "code",
      "source": [
        "stat, p, dof, expected = chi2_contingency(Admission_Gre)\n",
        "print('Degress of freedom = %d' % dof)\n",
        "print('Expected frequencies ', expected)"
      ],
      "metadata": {
        "colab": {
          "base_uri": "https://localhost:8080/"
        },
        "outputId": "f41cb3e4-dfa7-4d04-f2cc-4e8edb5ac671",
        "id": "gi3mR1A-MTzi"
      },
      "execution_count": null,
      "outputs": [
        {
          "output_type": "stream",
          "name": "stdout",
          "text": [
            "Degress of freedom = 8\n",
            "Expected frequencies  [[19.516 72.324 92.988 60.27  41.902]\n",
            " [ 0.136  0.504  0.648  0.42   0.292]\n",
            " [14.348 53.172 68.364 44.31  30.806]]\n"
          ]
        }
      ]
    },
    {
      "cell_type": "code",
      "source": [
        "prob = 0.95\n",
        "critical = chi2.ppf(0.95, dof)\n",
        "print('probability=%.3f, critical=%.3f, stat=%.3f' % (prob, critical, stat))"
      ],
      "metadata": {
        "colab": {
          "base_uri": "https://localhost:8080/"
        },
        "outputId": "7604f7e6-7870-403c-aafd-c9a7cac6e8be",
        "id": "lggPC72KMTzj"
      },
      "execution_count": null,
      "outputs": [
        {
          "output_type": "stream",
          "name": "stdout",
          "text": [
            "probability=0.950, critical=15.507, stat=172.161\n"
          ]
        }
      ]
    },
    {
      "cell_type": "code",
      "source": [
        "# interpret test-statistic\n",
        "if abs(stat) >= critical:\n",
        "    print('The variables are dependent (We reject H0)')\n",
        "else:\n",
        "    print('The variables are independent (We fail to reject H0)')"
      ],
      "metadata": {
        "colab": {
          "base_uri": "https://localhost:8080/"
        },
        "outputId": "cc4e8340-3e31-478b-a60b-15f1f0d6c9a5",
        "id": "BlkGIpvSMTzj"
      },
      "execution_count": null,
      "outputs": [
        {
          "output_type": "stream",
          "name": "stdout",
          "text": [
            "The variables are dependent (We reject H0)\n"
          ]
        }
      ]
    },
    {
      "cell_type": "code",
      "source": [
        "# interpret p-value\n",
        "alpha = 1.0 - prob\n",
        "print('Significance = %.3f, p = %.3f' % (alpha, p))\n",
        "if p <= alpha:\n",
        "    print('The variables are dependent (We reject H0)')\n",
        "else:\n",
        "    print('The variables are independent (We fail to reject H0)')"
      ],
      "metadata": {
        "colab": {
          "base_uri": "https://localhost:8080/"
        },
        "outputId": "90df783c-5e9d-4b0e-8709-d694bd853ba9",
        "id": "RmTMRHFDMTzj"
      },
      "execution_count": null,
      "outputs": [
        {
          "output_type": "stream",
          "name": "stdout",
          "text": [
            "Significance = 0.050, p = 0.000\n",
            "The variables are dependent (We reject H0)\n"
          ]
        }
      ]
    },
    {
      "cell_type": "markdown",
      "source": [
        "We can see that,\n",
        "- The P-value is lower than the significance level of 5%, so we can reject the null hypothesis with a confidence of 95%.\n",
        "- This means, that SOP and getting Admission are dependent with a confidence level of 95%."
      ],
      "metadata": {
        "id": "1ydj-bZVMTzk"
      }
    },
    {
      "cell_type": "markdown",
      "source": [
        "#### **Does the LOR affect the probability of getting Admission? (chi square test)**\n",
        "\n",
        "1. H0: LOR and Admission_categories are independent.\n",
        "\n",
        "2. H1: LOR and Admission_categories dependent."
      ],
      "metadata": {
        "id": "5qgslfu8MnCq"
      }
    },
    {
      "cell_type": "code",
      "source": [
        "x = 'LOR '\n",
        "plt.figure(figsize=(16,8))\n",
        "sns.boxplot(x=data[x], y=data['Admission_categories'])\n",
        "plt.title(x)\n",
        "plt.show()"
      ],
      "metadata": {
        "colab": {
          "base_uri": "https://localhost:8080/",
          "height": 403
        },
        "outputId": "26030b63-915e-45ab-c1a3-f53de9fbeac8",
        "id": "fGas_09aMnCr"
      },
      "execution_count": null,
      "outputs": [
        {
          "output_type": "display_data",
          "data": {
            "text/plain": [
              "<Figure size 1152x576 with 1 Axes>"
            ],
            "image/png": "[encoded data removed]"
          },
          "metadata": {
            "needs_background": "light"
          }
        }
      ]
    },
    {
      "cell_type": "code",
      "source": [
        "Admission_lor = pd.crosstab(data[\"Admission_categories\"],data[\"LOR \"])\n",
        "print(Admission_lor)"
      ],
      "metadata": {
        "colab": {
          "base_uri": "https://localhost:8080/"
        },
        "outputId": "d8ce3096-0a57-4526-c248-e916bfc2f278",
        "id": "TYigNF60MnCr"
      },
      "execution_count": null,
      "outputs": [
        {
          "output_type": "stream",
          "name": "stdout",
          "text": [
            "LOR                   1.0  1.5  2.0  2.5  3.0  3.5  4.0  4.5  5.0\n",
            "Admission_categories                                             \n",
            "High                    0    1    3   19   37   55   68   55   49\n",
            "Low                     0    0    1    0    1    0    0    0    0\n",
            "Medium                  1   10   42   31   61   31   26    8    1\n"
          ]
        }
      ]
    },
    {
      "cell_type": "code",
      "source": [
        "stat, p, dof, expected = chi2_contingency(Admission_Gre)\n",
        "print('Degress of freedom = %d' % dof)\n",
        "print('Expected frequencies ', expected)"
      ],
      "metadata": {
        "colab": {
          "base_uri": "https://localhost:8080/"
        },
        "outputId": "f508be52-1a8e-4d60-e4fe-cd53bfa4c53a",
        "id": "y_Hu-hrnMnCr"
      },
      "execution_count": null,
      "outputs": [
        {
          "output_type": "stream",
          "name": "stdout",
          "text": [
            "Degress of freedom = 8\n",
            "Expected frequencies  [[19.516 72.324 92.988 60.27  41.902]\n",
            " [ 0.136  0.504  0.648  0.42   0.292]\n",
            " [14.348 53.172 68.364 44.31  30.806]]\n"
          ]
        }
      ]
    },
    {
      "cell_type": "code",
      "source": [
        "prob = 0.95\n",
        "critical = chi2.ppf(0.95, dof)\n",
        "print('probability=%.3f, critical=%.3f, stat=%.3f' % (prob, critical, stat))"
      ],
      "metadata": {
        "colab": {
          "base_uri": "https://localhost:8080/"
        },
        "outputId": "e8142d4c-d10a-4eab-9952-c224c4313c28",
        "id": "X4wBHSIQMnCr"
      },
      "execution_count": null,
      "outputs": [
        {
          "output_type": "stream",
          "name": "stdout",
          "text": [
            "probability=0.950, critical=15.507, stat=172.161\n"
          ]
        }
      ]
    },
    {
      "cell_type": "code",
      "source": [
        "# interpret test-statistic\n",
        "if abs(stat) >= critical:\n",
        "    print('The variables are dependent (We reject H0)')\n",
        "else:\n",
        "    print('The variables are independent (We fail to reject H0)')"
      ],
      "metadata": {
        "colab": {
          "base_uri": "https://localhost:8080/"
        },
        "outputId": "918356b0-9b43-41bc-d39d-3439dc536437",
        "id": "vbcqQ0tAMnCs"
      },
      "execution_count": null,
      "outputs": [
        {
          "output_type": "stream",
          "name": "stdout",
          "text": [
            "The variables are dependent (We reject H0)\n"
          ]
        }
      ]
    },
    {
      "cell_type": "code",
      "source": [
        "# interpret p-value\n",
        "alpha = 1.0 - prob\n",
        "print('Significance = %.3f, p = %.3f' % (alpha, p))\n",
        "if p <= alpha:\n",
        "    print('The variables are dependent (We reject H0)')\n",
        "else:\n",
        "    print('The variables are independent (We fail to reject H0)')"
      ],
      "metadata": {
        "colab": {
          "base_uri": "https://localhost:8080/"
        },
        "outputId": "24e34424-fe66-4120-8e54-fb80c4d7ccdf",
        "id": "xMTMwzG8MnCs"
      },
      "execution_count": null,
      "outputs": [
        {
          "output_type": "stream",
          "name": "stdout",
          "text": [
            "Significance = 0.050, p = 0.000\n",
            "The variables are dependent (We reject H0)\n"
          ]
        }
      ]
    },
    {
      "cell_type": "markdown",
      "source": [
        "We can see that,\n",
        "- The P-value is lower than the significance level of 5%, so we can reject the null hypothesis with a confidence of 95%.\n",
        "- This means, that LOR  and getting Admission are dependent with a confidence level of 95%."
      ],
      "metadata": {
        "id": "p433c7KxMnCs"
      }
    },
    {
      "cell_type": "markdown",
      "source": [
        "#### **Does the CGPA affect the probability of getting Admission? (chi square test)**\n",
        "\n",
        "1. H0: CGPA and Admission_categories are independent.\n",
        "\n",
        "2. H1: CGPA and Admission_categories dependent."
      ],
      "metadata": {
        "id": "-Y6TmLWhM_i-"
      }
    },
    {
      "cell_type": "code",
      "source": [
        "x = 'CGPA'\n",
        "plt.figure(figsize=(16,8))\n",
        "sns.boxplot(x=data[x], y=data['Admission_categories'])\n",
        "plt.title(x)\n",
        "plt.show()"
      ],
      "metadata": {
        "colab": {
          "base_uri": "https://localhost:8080/",
          "height": 403
        },
        "outputId": "eff6902a-6078-4a5e-d9d7-c36d0be9a311",
        "id": "kOH0twQ8M_i_"
      },
      "execution_count": null,
      "outputs": [
        {
          "output_type": "display_data",
          "data": {
            "text/plain": [
              "<Figure size 1152x576 with 1 Axes>"
            ],
            "image/png": "[encoded data removed]"
          },
          "metadata": {
            "needs_background": "light"
          }
        }
      ]
    },
    {
      "cell_type": "code",
      "source": [
        "Admission_cgpa = pd.crosstab(data[\"Admission_categories\"],data[\"CGPA\"])\n",
        "print(Admission_cgpa)"
      ],
      "metadata": {
        "colab": {
          "base_uri": "https://localhost:8080/"
        },
        "outputId": "e8392e13-fd79-42b4-84f7-a0224692b64d",
        "id": "NUEkYicbM_jA"
      },
      "execution_count": null,
      "outputs": [
        {
          "output_type": "stream",
          "name": "stdout",
          "text": [
            "CGPA                  6.80  7.20  7.21  7.23  7.25  7.28  7.30  7.34  7.36  \\\n",
            "Admission_categories                                                         \n",
            "High                     0     0     0     0     0     0     0     0     0   \n",
            "Low                      0     0     0     0     0     0     0     0     0   \n",
            "Medium                   1     1     1     1     1     1     1     2     1   \n",
            "\n",
            "CGPA                  7.40  ...  9.70  9.74  9.76  9.78  9.80  9.82  9.86  \\\n",
            "Admission_categories        ...                                             \n",
            "High                     0  ...     2     1     2     1     3     1     1   \n",
            "Low                      0  ...     0     0     0     0     0     0     0   \n",
            "Medium                   1  ...     0     0     0     0     0     0     0   \n",
            "\n",
            "CGPA                  9.87  9.91  9.92  \n",
            "Admission_categories                    \n",
            "High                     2     1     1  \n",
            "Low                      0     0     0  \n",
            "Medium                   0     0     0  \n",
            "\n",
            "[3 rows x 184 columns]\n"
          ]
        }
      ]
    },
    {
      "cell_type": "code",
      "source": [
        "stat, p, dof, expected = chi2_contingency(Admission_Gre)\n",
        "print('Degress of freedom = %d' % dof)\n",
        "print('Expected frequencies ', expected)"
      ],
      "metadata": {
        "colab": {
          "base_uri": "https://localhost:8080/"
        },
        "outputId": "49fc07b0-f3aa-4a39-b00b-71c15c97aea5",
        "id": "erxJXgaUM_jB"
      },
      "execution_count": null,
      "outputs": [
        {
          "output_type": "stream",
          "name": "stdout",
          "text": [
            "Degress of freedom = 8\n",
            "Expected frequencies  [[19.516 72.324 92.988 60.27  41.902]\n",
            " [ 0.136  0.504  0.648  0.42   0.292]\n",
            " [14.348 53.172 68.364 44.31  30.806]]\n"
          ]
        }
      ]
    },
    {
      "cell_type": "code",
      "source": [
        "prob = 0.95\n",
        "critical = chi2.ppf(0.95, dof)\n",
        "print('probability=%.3f, critical=%.3f, stat=%.3f' % (prob, critical, stat))"
      ],
      "metadata": {
        "colab": {
          "base_uri": "https://localhost:8080/"
        },
        "outputId": "d32ed577-5fee-401c-f185-4bdebe35ca11",
        "id": "KEGcUtpeM_jC"
      },
      "execution_count": null,
      "outputs": [
        {
          "output_type": "stream",
          "name": "stdout",
          "text": [
            "probability=0.950, critical=15.507, stat=172.161\n"
          ]
        }
      ]
    },
    {
      "cell_type": "code",
      "source": [
        "# interpret test-statistic\n",
        "if abs(stat) >= critical:\n",
        "    print('The variables are dependent (We reject H0)')\n",
        "else:\n",
        "    print('The variables are independent (We fail to reject H0)')"
      ],
      "metadata": {
        "colab": {
          "base_uri": "https://localhost:8080/"
        },
        "outputId": "d778ee4c-297c-4e0a-d1dd-6472b21e41eb",
        "id": "KdV-0NvKM_jC"
      },
      "execution_count": null,
      "outputs": [
        {
          "output_type": "stream",
          "name": "stdout",
          "text": [
            "The variables are dependent (We reject H0)\n"
          ]
        }
      ]
    },
    {
      "cell_type": "code",
      "source": [
        "# interpret p-value\n",
        "alpha = 1.0 - prob\n",
        "print('Significance = %.3f, p = %.3f' % (alpha, p))\n",
        "if p <= alpha:\n",
        "    print('The variables are dependent (We reject H0)')\n",
        "else:\n",
        "    print('The variables are independent (We fail to reject H0)')"
      ],
      "metadata": {
        "colab": {
          "base_uri": "https://localhost:8080/"
        },
        "outputId": "f4580362-9a56-42cd-ca6e-a74d8cc32547",
        "id": "jtHknHqaM_jD"
      },
      "execution_count": null,
      "outputs": [
        {
          "output_type": "stream",
          "name": "stdout",
          "text": [
            "Significance = 0.050, p = 0.000\n",
            "The variables are dependent (We reject H0)\n"
          ]
        }
      ]
    },
    {
      "cell_type": "markdown",
      "source": [
        "We can see that,\n",
        "- The P-value is lower than the significance level of 5%, so we can reject the null hypothesis with a confidence of 95%.\n",
        "- This means, that CGPA  and getting Admission are dependent with a confidence level of 95%."
      ],
      "metadata": {
        "id": "ofYUKUzvM_jD"
      }
    },
    {
      "cell_type": "markdown",
      "source": [
        "**Conclusion -**\n",
        "\n",
        "Through this experiment, I understood how we can use univariate and bivariate analysis to understand the relationship between attributes and also the target column. I also learned how hypothesis testing is performed and how is it useful for better understanding the fit of the data for our model/hypothesis. The most important question that we all have in our minds when reading any scientific research work is that how assumptions to any topics are made. I now understand that these forms of hypothesis testing play a mjor role in their assumptions. The same can and should be applied to research done by us in order to have a mathemti \n"
      ],
      "metadata": {
        "id": "-Lur4jg5NyEG"
      }
    }
  ]
}